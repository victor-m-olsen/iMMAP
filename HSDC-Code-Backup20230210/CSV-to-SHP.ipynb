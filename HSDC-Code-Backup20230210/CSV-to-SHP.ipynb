{
 "cells": [
  {
   "cell_type": "code",
   "execution_count": null,
   "id": "42d17446",
   "metadata": {},
   "outputs": [],
   "source": [
    "import geopandas as gpd\n",
    "from geopandas.tools import sjoin\n",
    "import pandas as pd\n",
    "import os\n",
    "\n",
    "pointInPolys = sjoin(points, uk, how='left')\n",
    "pointInPolys.head()"
   ]
  },
  {
   "cell_type": "code",
   "execution_count": null,
   "id": "7ce4a3be",
   "metadata": {},
   "outputs": [],
   "source": [
    "os.chdir('D:\\iMMAP\\proj\\ASDC\\data\\OCHA-Received\\\\')"
   ]
  },
  {
   "cell_type": "code",
   "execution_count": null,
   "id": "0253c550",
   "metadata": {},
   "outputs": [],
   "source": [
    "afg = gpd.read_file(r\"D:\\iMMAP\\data\\Afghanistan\\AFG_AdminBoundaries_AGCHO_20211117\\Shapefiles\\afg_admbnda_adm0_agcho_20211117.shp\")"
   ]
  },
  {
   "cell_type": "code",
   "execution_count": null,
   "id": "f2a903cf",
   "metadata": {},
   "outputs": [],
   "source": [
    "panda_df = pd.read_csv('airports.csv', delimiter=',', decimal='.')"
   ]
  },
  {
   "cell_type": "code",
   "execution_count": null,
   "id": "417ca3b1",
   "metadata": {},
   "outputs": [],
   "source": [
    "panda_df"
   ]
  },
  {
   "cell_type": "code",
   "execution_count": null,
   "id": "d391c993",
   "metadata": {},
   "outputs": [],
   "source": [
    "geo_df = gpd.GeoDataFrame(\n",
    "    panda_df, geometry=gpd.points_from_xy(panda_df.longitude_deg, panda_df.latitude_deg))"
   ]
  },
  {
   "cell_type": "code",
   "execution_count": null,
   "id": "efccdcd2",
   "metadata": {},
   "outputs": [],
   "source": [
    "geo_df"
   ]
  },
  {
   "cell_type": "code",
   "execution_count": null,
   "id": "b4c155e6",
   "metadata": {},
   "outputs": [],
   "source": [
    "geo_df = geo_df.set_crs('epsg:4326')"
   ]
  },
  {
   "cell_type": "code",
   "execution_count": null,
   "id": "40116f09",
   "metadata": {},
   "outputs": [],
   "source": [
    "afg.plot() "
   ]
  },
  {
   "cell_type": "code",
   "execution_count": null,
   "id": "372d61a4",
   "metadata": {},
   "outputs": [],
   "source": [
    "geo_df.plot()"
   ]
  },
  {
   "cell_type": "code",
   "execution_count": null,
   "id": "0c1a0e00",
   "metadata": {},
   "outputs": [],
   "source": [
    "print(gdf.crs)"
   ]
  }
 ],
 "metadata": {
  "kernelspec": {
   "display_name": "Python 3 (ipykernel)",
   "language": "python",
   "name": "python3"
  },
  "language_info": {
   "codemirror_mode": {
    "name": "ipython",
    "version": 3
   },
   "file_extension": ".py",
   "mimetype": "text/x-python",
   "name": "python",
   "nbconvert_exporter": "python",
   "pygments_lexer": "ipython3",
   "version": "3.8.12"
  }
 },
 "nbformat": 4,
 "nbformat_minor": 5
}

{
 "cells": [
  {
   "cell_type": "code",
   "execution_count": 7,
   "id": "da3de748",
   "metadata": {},
   "outputs": [],
   "source": [
    "import geopandas as gpd\n",
    "from sqlalchemy import create_engine\n",
    "import psycopg2"
   ]
  },
  {
   "cell_type": "code",
   "execution_count": 8,
   "id": "413eda2d",
   "metadata": {},
   "outputs": [],
   "source": [
    "table_name = 'afg_fldzonea_100k_ncia_v2_029cm_dissolve_multipolygon'\n",
    "geometry_column = 'wkb_geometry' #wkb_geometry geom"
   ]
  },
  {
   "cell_type": "markdown",
   "id": "81bf1926",
   "metadata": {},
   "source": [
    "### Connect to local"
   ]
  },
  {
   "cell_type": "code",
   "execution_count": 9,
   "id": "e2d5e8d6",
   "metadata": {},
   "outputs": [],
   "source": [
    "# Local config\n",
    "password = 'pewp7re'\n",
    "db_connection_url = \"postgresql://postgres:{}@localhost:5432/HSDC\".format(password)\n",
    "con = create_engine(db_connection_url)"
   ]
  },
  {
   "cell_type": "code",
   "execution_count": 10,
   "id": "fcd6f20d",
   "metadata": {},
   "outputs": [],
   "source": [
    "# Server config\n",
    "password_hsdc = ''\n",
    "db_connection_url_hsdc = \"postgresql://my_geonode:{}@3.73.134.55:5432/my_geonode_data\".format(password_hsdc)\n",
    "con_hsdc = create_engine(db_connection_url_hsdc)"
   ]
  },
  {
   "cell_type": "code",
   "execution_count": 11,
   "id": "3d6b8e37",
   "metadata": {},
   "outputs": [],
   "source": [
    "# Open local table\n",
    "local_table = gpd.GeoDataFrame.from_postgis('SELECT * from {}'.format(table_name), con, geometry_column)"
   ]
  },
  {
   "cell_type": "code",
   "execution_count": 12,
   "id": "6d1d456a",
   "metadata": {},
   "outputs": [],
   "source": [
    "# Save to hsdc\n",
    "local_table.to_postgis('afg_fldzonea_100k_ncia_v2_029cm', con_hsdc) # , if_exists='replace'"
   ]
  }
 ],
 "metadata": {
  "kernelspec": {
   "display_name": "Python 3 (ipykernel)",
   "language": "python",
   "name": "python3"
  },
  "language_info": {
   "codemirror_mode": {
    "name": "ipython",
    "version": 3
   },
   "file_extension": ".py",
   "mimetype": "text/x-python",
   "name": "python",
   "nbconvert_exporter": "python",
   "pygments_lexer": "ipython3",
   "version": "3.8.12"
  }
 },
 "nbformat": 4,
 "nbformat_minor": 5
}

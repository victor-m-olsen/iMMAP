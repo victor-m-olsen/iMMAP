{
 "cells": [
  {
   "cell_type": "code",
   "execution_count": 2,
   "id": "d8daf3b6",
   "metadata": {},
   "outputs": [],
   "source": [
    "import os\n",
    "import json\n",
    "import geopandas as gpd\n",
    "import pandas as pd\n",
    "import psycopg2\n",
    "from sqlalchemy import create_engine"
   ]
  },
  {
   "cell_type": "code",
   "execution_count": 3,
   "id": "3fce2caf",
   "metadata": {},
   "outputs": [],
   "source": [
    "# Load database configuration from file\n",
    "with open(r'D:\\iMMAP\\code\\db_config\\hsdc_local_db_config.json', 'r') as f:\n",
    "    config = json.load(f)\n",
    "\n",
    "# Create database URL with credentials\n",
    "db_url = f\"postgresql://{config['username']}:{config['password']}@{config['host']}:{config['port']}/{config['database']}\"\n",
    "\n",
    "# Connect to the database\n",
    "con = create_engine(db_url)"
   ]
  },
  {
   "cell_type": "code",
   "execution_count": 4,
   "id": "4e133136",
   "metadata": {},
   "outputs": [],
   "source": [
    "pd.set_option('display.max_columns', None)"
   ]
  },
  {
   "attachments": {},
   "cell_type": "markdown",
   "id": "cc4c1b5d",
   "metadata": {},
   "source": [
    "### Building centroids"
   ]
  },
  {
   "cell_type": "code",
   "execution_count": 5,
   "id": "c4b2a27c",
   "metadata": {},
   "outputs": [],
   "source": [
    "#build_count = gpd.GeoDataFrame.from_postgis('SELECT * from afg_buildings_microsoft_centroids', con).count()\n",
    "#build_count"
   ]
  },
  {
   "attachments": {},
   "cell_type": "markdown",
   "id": "f5b2525c",
   "metadata": {},
   "source": [
    "### Pop stats"
   ]
  },
  {
   "cell_type": "code",
   "execution_count": 6,
   "id": "d251bedd",
   "metadata": {},
   "outputs": [
    {
     "name": "stdout",
     "output_type": "stream",
     "text": [
      "build_count 6587646.0\n",
      "sett_count 46844.0\n",
      "pop_sum 38822162.493563935\n",
      "area_km2 642144.6953832448\n"
     ]
    }
   ],
   "source": [
    "adm = gpd.GeoDataFrame.from_postgis('SELECT * from afg_admbnda_adm1_pop_stats', con)\n",
    "print('build_count', adm.build_count.sum())\n",
    "print('sett_count', adm.sett_count.sum())\n",
    "print('pop_sum', adm.pop_sum.sum())\n",
    "print('area_km2', adm.area_km2.sum())"
   ]
  },
  {
   "cell_type": "code",
   "execution_count": 7,
   "id": "4081679f",
   "metadata": {},
   "outputs": [
    {
     "ename": "ProgrammingError",
     "evalue": "(psycopg2.errors.UndefinedTable) relation \"afg_admbnda_adm2_pop_stats_v02\" does not exist\nLINE 1: SELECT * from afg_admbnda_adm2_pop_stats_v02\n                      ^\n\n[SQL: SELECT * from afg_admbnda_adm2_pop_stats_v02]\n(Background on this error at: https://sqlalche.me/e/14/f405)",
     "output_type": "error",
     "traceback": [
      "\u001b[1;31m---------------------------------------------------------------------------\u001b[0m",
      "\u001b[1;31mUndefinedTable\u001b[0m                            Traceback (most recent call last)",
      "File \u001b[1;32mc:\\Users\\VMO\\anaconda3\\envs\\earth2\\lib\\site-packages\\sqlalchemy\\engine\\base.py:1808\u001b[0m, in \u001b[0;36mConnection._execute_context\u001b[1;34m(self, dialect, constructor, statement, parameters, execution_options, *args, **kw)\u001b[0m\n\u001b[0;32m   1807\u001b[0m     \u001b[39mif\u001b[39;00m \u001b[39mnot\u001b[39;00m evt_handled:\n\u001b[1;32m-> 1808\u001b[0m         \u001b[39mself\u001b[39;49m\u001b[39m.\u001b[39;49mdialect\u001b[39m.\u001b[39;49mdo_execute(\n\u001b[0;32m   1809\u001b[0m             cursor, statement, parameters, context\n\u001b[0;32m   1810\u001b[0m         )\n\u001b[0;32m   1812\u001b[0m \u001b[39mif\u001b[39;00m \u001b[39mself\u001b[39m\u001b[39m.\u001b[39m_has_events \u001b[39mor\u001b[39;00m \u001b[39mself\u001b[39m\u001b[39m.\u001b[39mengine\u001b[39m.\u001b[39m_has_events:\n",
      "File \u001b[1;32mc:\\Users\\VMO\\anaconda3\\envs\\earth2\\lib\\site-packages\\sqlalchemy\\engine\\default.py:732\u001b[0m, in \u001b[0;36mDefaultDialect.do_execute\u001b[1;34m(self, cursor, statement, parameters, context)\u001b[0m\n\u001b[0;32m    731\u001b[0m \u001b[39mdef\u001b[39;00m \u001b[39mdo_execute\u001b[39m(\u001b[39mself\u001b[39m, cursor, statement, parameters, context\u001b[39m=\u001b[39m\u001b[39mNone\u001b[39;00m):\n\u001b[1;32m--> 732\u001b[0m     cursor\u001b[39m.\u001b[39;49mexecute(statement, parameters)\n",
      "\u001b[1;31mUndefinedTable\u001b[0m: relation \"afg_admbnda_adm2_pop_stats_v02\" does not exist\nLINE 1: SELECT * from afg_admbnda_adm2_pop_stats_v02\n                      ^\n",
      "\nThe above exception was the direct cause of the following exception:\n",
      "\u001b[1;31mProgrammingError\u001b[0m                          Traceback (most recent call last)",
      "\u001b[1;32md:\\GitHub\\iMMAP\\DRR-Statistics\\Statistics-QA.ipynb Cell 8\u001b[0m in \u001b[0;36m<cell line: 1>\u001b[1;34m()\u001b[0m\n\u001b[1;32m----> <a href='vscode-notebook-cell:/d%3A/GitHub/iMMAP/DRR-Statistics/Statistics-QA.ipynb#X10sZmlsZQ%3D%3D?line=0'>1</a>\u001b[0m adm \u001b[39m=\u001b[39m gpd\u001b[39m.\u001b[39;49mGeoDataFrame\u001b[39m.\u001b[39;49mfrom_postgis(\u001b[39m'\u001b[39;49m\u001b[39mSELECT * from afg_admbnda_adm2_pop_stats_v02\u001b[39;49m\u001b[39m'\u001b[39;49m, con)\n\u001b[0;32m      <a href='vscode-notebook-cell:/d%3A/GitHub/iMMAP/DRR-Statistics/Statistics-QA.ipynb#X10sZmlsZQ%3D%3D?line=1'>2</a>\u001b[0m adm\u001b[39m.\u001b[39mbuild_count\u001b[39m.\u001b[39msum()\n\u001b[0;32m      <a href='vscode-notebook-cell:/d%3A/GitHub/iMMAP/DRR-Statistics/Statistics-QA.ipynb#X10sZmlsZQ%3D%3D?line=2'>3</a>\u001b[0m \u001b[39mprint\u001b[39m(\u001b[39m'\u001b[39m\u001b[39mbuild_count\u001b[39m\u001b[39m'\u001b[39m, adm\u001b[39m.\u001b[39mbuild_count\u001b[39m.\u001b[39msum())\n",
      "File \u001b[1;32mc:\\Users\\VMO\\anaconda3\\envs\\earth2\\lib\\site-packages\\geopandas\\geodataframe.py:715\u001b[0m, in \u001b[0;36mGeoDataFrame.from_postgis\u001b[1;34m(cls, sql, con, geom_col, crs, index_col, coerce_float, parse_dates, params, chunksize)\u001b[0m\n\u001b[0;32m    645\u001b[0m \u001b[39m@classmethod\u001b[39m\n\u001b[0;32m    646\u001b[0m \u001b[39mdef\u001b[39;00m \u001b[39mfrom_postgis\u001b[39m(\n\u001b[0;32m    647\u001b[0m     \u001b[39mcls\u001b[39m,\n\u001b[1;32m   (...)\u001b[0m\n\u001b[0;32m    656\u001b[0m     chunksize\u001b[39m=\u001b[39m\u001b[39mNone\u001b[39;00m,\n\u001b[0;32m    657\u001b[0m ):\n\u001b[0;32m    658\u001b[0m     \u001b[39m\"\"\"\u001b[39;00m\n\u001b[0;32m    659\u001b[0m \u001b[39m    Alternate constructor to create a ``GeoDataFrame`` from a sql query\u001b[39;00m\n\u001b[0;32m    660\u001b[0m \u001b[39m    containing a geometry column in WKB representation.\u001b[39;00m\n\u001b[1;32m   (...)\u001b[0m\n\u001b[0;32m    712\u001b[0m \u001b[39m    geopandas.read_postgis : read PostGIS database to GeoDataFrame\u001b[39;00m\n\u001b[0;32m    713\u001b[0m \u001b[39m    \"\"\"\u001b[39;00m\n\u001b[1;32m--> 715\u001b[0m     df \u001b[39m=\u001b[39m geopandas\u001b[39m.\u001b[39;49mio\u001b[39m.\u001b[39;49msql\u001b[39m.\u001b[39;49m_read_postgis(\n\u001b[0;32m    716\u001b[0m         sql,\n\u001b[0;32m    717\u001b[0m         con,\n\u001b[0;32m    718\u001b[0m         geom_col\u001b[39m=\u001b[39;49mgeom_col,\n\u001b[0;32m    719\u001b[0m         crs\u001b[39m=\u001b[39;49mcrs,\n\u001b[0;32m    720\u001b[0m         index_col\u001b[39m=\u001b[39;49mindex_col,\n\u001b[0;32m    721\u001b[0m         coerce_float\u001b[39m=\u001b[39;49mcoerce_float,\n\u001b[0;32m    722\u001b[0m         parse_dates\u001b[39m=\u001b[39;49mparse_dates,\n\u001b[0;32m    723\u001b[0m         params\u001b[39m=\u001b[39;49mparams,\n\u001b[0;32m    724\u001b[0m         chunksize\u001b[39m=\u001b[39;49mchunksize,\n\u001b[0;32m    725\u001b[0m     )\n\u001b[0;32m    727\u001b[0m     \u001b[39mreturn\u001b[39;00m df\n",
      "File \u001b[1;32mc:\\Users\\VMO\\anaconda3\\envs\\earth2\\lib\\site-packages\\geopandas\\io\\sql.py:158\u001b[0m, in \u001b[0;36m_read_postgis\u001b[1;34m(sql, con, geom_col, crs, index_col, coerce_float, parse_dates, params, chunksize)\u001b[0m\n\u001b[0;32m    111\u001b[0m \u001b[39m\"\"\"\u001b[39;00m\n\u001b[0;32m    112\u001b[0m \u001b[39mReturns a GeoDataFrame corresponding to the result of the query\u001b[39;00m\n\u001b[0;32m    113\u001b[0m \u001b[39mstring, which must contain a geometry column in WKB representation.\u001b[39;00m\n\u001b[1;32m   (...)\u001b[0m\n\u001b[0;32m    153\u001b[0m \u001b[39m>>> df = geopandas.read_postgis(sql, con)  # doctest: +SKIP\u001b[39;00m\n\u001b[0;32m    154\u001b[0m \u001b[39m\"\"\"\u001b[39;00m\n\u001b[0;32m    156\u001b[0m \u001b[39mif\u001b[39;00m chunksize \u001b[39mis\u001b[39;00m \u001b[39mNone\u001b[39;00m:\n\u001b[0;32m    157\u001b[0m     \u001b[39m# read all in one chunk and return a single GeoDataFrame\u001b[39;00m\n\u001b[1;32m--> 158\u001b[0m     df \u001b[39m=\u001b[39m pd\u001b[39m.\u001b[39;49mread_sql(\n\u001b[0;32m    159\u001b[0m         sql,\n\u001b[0;32m    160\u001b[0m         con,\n\u001b[0;32m    161\u001b[0m         index_col\u001b[39m=\u001b[39;49mindex_col,\n\u001b[0;32m    162\u001b[0m         coerce_float\u001b[39m=\u001b[39;49mcoerce_float,\n\u001b[0;32m    163\u001b[0m         parse_dates\u001b[39m=\u001b[39;49mparse_dates,\n\u001b[0;32m    164\u001b[0m         params\u001b[39m=\u001b[39;49mparams,\n\u001b[0;32m    165\u001b[0m         chunksize\u001b[39m=\u001b[39;49mchunksize,\n\u001b[0;32m    166\u001b[0m     )\n\u001b[0;32m    167\u001b[0m     \u001b[39mreturn\u001b[39;00m _df_to_geodf(df, geom_col\u001b[39m=\u001b[39mgeom_col, crs\u001b[39m=\u001b[39mcrs)\n\u001b[0;32m    169\u001b[0m \u001b[39melse\u001b[39;00m:\n\u001b[0;32m    170\u001b[0m     \u001b[39m# read data in chunks and return a generator\u001b[39;00m\n",
      "File \u001b[1;32mc:\\Users\\VMO\\anaconda3\\envs\\earth2\\lib\\site-packages\\pandas\\io\\sql.py:592\u001b[0m, in \u001b[0;36mread_sql\u001b[1;34m(sql, con, index_col, coerce_float, params, parse_dates, columns, chunksize)\u001b[0m\n\u001b[0;32m    583\u001b[0m     \u001b[39mreturn\u001b[39;00m pandas_sql\u001b[39m.\u001b[39mread_table(\n\u001b[0;32m    584\u001b[0m         sql,\n\u001b[0;32m    585\u001b[0m         index_col\u001b[39m=\u001b[39mindex_col,\n\u001b[1;32m   (...)\u001b[0m\n\u001b[0;32m    589\u001b[0m         chunksize\u001b[39m=\u001b[39mchunksize,\n\u001b[0;32m    590\u001b[0m     )\n\u001b[0;32m    591\u001b[0m \u001b[39melse\u001b[39;00m:\n\u001b[1;32m--> 592\u001b[0m     \u001b[39mreturn\u001b[39;00m pandas_sql\u001b[39m.\u001b[39;49mread_query(\n\u001b[0;32m    593\u001b[0m         sql,\n\u001b[0;32m    594\u001b[0m         index_col\u001b[39m=\u001b[39;49mindex_col,\n\u001b[0;32m    595\u001b[0m         params\u001b[39m=\u001b[39;49mparams,\n\u001b[0;32m    596\u001b[0m         coerce_float\u001b[39m=\u001b[39;49mcoerce_float,\n\u001b[0;32m    597\u001b[0m         parse_dates\u001b[39m=\u001b[39;49mparse_dates,\n\u001b[0;32m    598\u001b[0m         chunksize\u001b[39m=\u001b[39;49mchunksize,\n\u001b[0;32m    599\u001b[0m     )\n",
      "File \u001b[1;32mc:\\Users\\VMO\\anaconda3\\envs\\earth2\\lib\\site-packages\\pandas\\io\\sql.py:1557\u001b[0m, in \u001b[0;36mSQLDatabase.read_query\u001b[1;34m(self, sql, index_col, coerce_float, parse_dates, params, chunksize, dtype)\u001b[0m\n\u001b[0;32m   1509\u001b[0m \u001b[39m\"\"\"\u001b[39;00m\n\u001b[0;32m   1510\u001b[0m \u001b[39mRead SQL query into a DataFrame.\u001b[39;00m\n\u001b[0;32m   1511\u001b[0m \n\u001b[1;32m   (...)\u001b[0m\n\u001b[0;32m   1553\u001b[0m \n\u001b[0;32m   1554\u001b[0m \u001b[39m\"\"\"\u001b[39;00m\n\u001b[0;32m   1555\u001b[0m args \u001b[39m=\u001b[39m _convert_params(sql, params)\n\u001b[1;32m-> 1557\u001b[0m result \u001b[39m=\u001b[39m \u001b[39mself\u001b[39;49m\u001b[39m.\u001b[39;49mexecute(\u001b[39m*\u001b[39;49margs)\n\u001b[0;32m   1558\u001b[0m columns \u001b[39m=\u001b[39m result\u001b[39m.\u001b[39mkeys()\n\u001b[0;32m   1560\u001b[0m \u001b[39mif\u001b[39;00m chunksize \u001b[39mis\u001b[39;00m \u001b[39mnot\u001b[39;00m \u001b[39mNone\u001b[39;00m:\n",
      "File \u001b[1;32mc:\\Users\\VMO\\anaconda3\\envs\\earth2\\lib\\site-packages\\pandas\\io\\sql.py:1402\u001b[0m, in \u001b[0;36mSQLDatabase.execute\u001b[1;34m(self, *args, **kwargs)\u001b[0m\n\u001b[0;32m   1400\u001b[0m \u001b[39mdef\u001b[39;00m \u001b[39mexecute\u001b[39m(\u001b[39mself\u001b[39m, \u001b[39m*\u001b[39margs, \u001b[39m*\u001b[39m\u001b[39m*\u001b[39mkwargs):\n\u001b[0;32m   1401\u001b[0m     \u001b[39m\"\"\"Simple passthrough to SQLAlchemy connectable\"\"\"\u001b[39;00m\n\u001b[1;32m-> 1402\u001b[0m     \u001b[39mreturn\u001b[39;00m \u001b[39mself\u001b[39;49m\u001b[39m.\u001b[39;49mconnectable\u001b[39m.\u001b[39;49mexecution_options()\u001b[39m.\u001b[39;49mexecute(\u001b[39m*\u001b[39;49margs, \u001b[39m*\u001b[39;49m\u001b[39m*\u001b[39;49mkwargs)\n",
      "File \u001b[1;32m<string>:2\u001b[0m, in \u001b[0;36mexecute\u001b[1;34m(self, statement, *multiparams, **params)\u001b[0m\n",
      "File \u001b[1;32mc:\\Users\\VMO\\anaconda3\\envs\\earth2\\lib\\site-packages\\sqlalchemy\\util\\deprecations.py:401\u001b[0m, in \u001b[0;36m_decorate_with_warning.<locals>.warned\u001b[1;34m(fn, *args, **kwargs)\u001b[0m\n\u001b[0;32m    399\u001b[0m \u001b[39mif\u001b[39;00m \u001b[39mnot\u001b[39;00m skip_warning:\n\u001b[0;32m    400\u001b[0m     _warn_with_version(message, version, wtype, stacklevel\u001b[39m=\u001b[39m\u001b[39m3\u001b[39m)\n\u001b[1;32m--> 401\u001b[0m \u001b[39mreturn\u001b[39;00m fn(\u001b[39m*\u001b[39;49margs, \u001b[39m*\u001b[39;49m\u001b[39m*\u001b[39;49mkwargs)\n",
      "File \u001b[1;32mc:\\Users\\VMO\\anaconda3\\envs\\earth2\\lib\\site-packages\\sqlalchemy\\engine\\base.py:3152\u001b[0m, in \u001b[0;36mEngine.execute\u001b[1;34m(self, statement, *multiparams, **params)\u001b[0m\n\u001b[0;32m   3134\u001b[0m \u001b[39m\"\"\"Executes the given construct and returns a\u001b[39;00m\n\u001b[0;32m   3135\u001b[0m \u001b[39m:class:`_engine.CursorResult`.\u001b[39;00m\n\u001b[0;32m   3136\u001b[0m \n\u001b[1;32m   (...)\u001b[0m\n\u001b[0;32m   3149\u001b[0m \n\u001b[0;32m   3150\u001b[0m \u001b[39m\"\"\"\u001b[39;00m\n\u001b[0;32m   3151\u001b[0m connection \u001b[39m=\u001b[39m \u001b[39mself\u001b[39m\u001b[39m.\u001b[39mconnect(close_with_result\u001b[39m=\u001b[39m\u001b[39mTrue\u001b[39;00m)\n\u001b[1;32m-> 3152\u001b[0m \u001b[39mreturn\u001b[39;00m connection\u001b[39m.\u001b[39;49mexecute(statement, \u001b[39m*\u001b[39;49mmultiparams, \u001b[39m*\u001b[39;49m\u001b[39m*\u001b[39;49mparams)\n",
      "File \u001b[1;32mc:\\Users\\VMO\\anaconda3\\envs\\earth2\\lib\\site-packages\\sqlalchemy\\engine\\base.py:1280\u001b[0m, in \u001b[0;36mConnection.execute\u001b[1;34m(self, statement, *multiparams, **params)\u001b[0m\n\u001b[0;32m   1271\u001b[0m \u001b[39mif\u001b[39;00m \u001b[39misinstance\u001b[39m(statement, util\u001b[39m.\u001b[39mstring_types):\n\u001b[0;32m   1272\u001b[0m     util\u001b[39m.\u001b[39mwarn_deprecated_20(\n\u001b[0;32m   1273\u001b[0m         \u001b[39m\"\u001b[39m\u001b[39mPassing a string to Connection.execute() is \u001b[39m\u001b[39m\"\u001b[39m\n\u001b[0;32m   1274\u001b[0m         \u001b[39m\"\u001b[39m\u001b[39mdeprecated and will be removed in version 2.0.  Use the \u001b[39m\u001b[39m\"\u001b[39m\n\u001b[1;32m   (...)\u001b[0m\n\u001b[0;32m   1277\u001b[0m         \u001b[39m\"\u001b[39m\u001b[39mdriver-level SQL string.\u001b[39m\u001b[39m\"\u001b[39m\n\u001b[0;32m   1278\u001b[0m     )\n\u001b[1;32m-> 1280\u001b[0m     \u001b[39mreturn\u001b[39;00m \u001b[39mself\u001b[39;49m\u001b[39m.\u001b[39;49m_exec_driver_sql(\n\u001b[0;32m   1281\u001b[0m         statement,\n\u001b[0;32m   1282\u001b[0m         multiparams,\n\u001b[0;32m   1283\u001b[0m         params,\n\u001b[0;32m   1284\u001b[0m         _EMPTY_EXECUTION_OPTS,\n\u001b[0;32m   1285\u001b[0m         future\u001b[39m=\u001b[39;49m\u001b[39mFalse\u001b[39;49;00m,\n\u001b[0;32m   1286\u001b[0m     )\n\u001b[0;32m   1288\u001b[0m \u001b[39mtry\u001b[39;00m:\n\u001b[0;32m   1289\u001b[0m     meth \u001b[39m=\u001b[39m statement\u001b[39m.\u001b[39m_execute_on_connection\n",
      "File \u001b[1;32mc:\\Users\\VMO\\anaconda3\\envs\\earth2\\lib\\site-packages\\sqlalchemy\\engine\\base.py:1584\u001b[0m, in \u001b[0;36mConnection._exec_driver_sql\u001b[1;34m(self, statement, multiparams, params, execution_options, future)\u001b[0m\n\u001b[0;32m   1574\u001b[0m         (\n\u001b[0;32m   1575\u001b[0m             statement,\n\u001b[0;32m   1576\u001b[0m             distilled_params,\n\u001b[1;32m   (...)\u001b[0m\n\u001b[0;32m   1580\u001b[0m             statement, distilled_parameters, execution_options\n\u001b[0;32m   1581\u001b[0m         )\n\u001b[0;32m   1583\u001b[0m dialect \u001b[39m=\u001b[39m \u001b[39mself\u001b[39m\u001b[39m.\u001b[39mdialect\n\u001b[1;32m-> 1584\u001b[0m ret \u001b[39m=\u001b[39m \u001b[39mself\u001b[39;49m\u001b[39m.\u001b[39;49m_execute_context(\n\u001b[0;32m   1585\u001b[0m     dialect,\n\u001b[0;32m   1586\u001b[0m     dialect\u001b[39m.\u001b[39;49mexecution_ctx_cls\u001b[39m.\u001b[39;49m_init_statement,\n\u001b[0;32m   1587\u001b[0m     statement,\n\u001b[0;32m   1588\u001b[0m     distilled_parameters,\n\u001b[0;32m   1589\u001b[0m     execution_options,\n\u001b[0;32m   1590\u001b[0m     statement,\n\u001b[0;32m   1591\u001b[0m     distilled_parameters,\n\u001b[0;32m   1592\u001b[0m )\n\u001b[0;32m   1594\u001b[0m \u001b[39mif\u001b[39;00m \u001b[39mnot\u001b[39;00m future:\n\u001b[0;32m   1595\u001b[0m     \u001b[39mif\u001b[39;00m \u001b[39mself\u001b[39m\u001b[39m.\u001b[39m_has_events \u001b[39mor\u001b[39;00m \u001b[39mself\u001b[39m\u001b[39m.\u001b[39mengine\u001b[39m.\u001b[39m_has_events:\n",
      "File \u001b[1;32mc:\\Users\\VMO\\anaconda3\\envs\\earth2\\lib\\site-packages\\sqlalchemy\\engine\\base.py:1851\u001b[0m, in \u001b[0;36mConnection._execute_context\u001b[1;34m(self, dialect, constructor, statement, parameters, execution_options, *args, **kw)\u001b[0m\n\u001b[0;32m   1848\u001b[0m             branched\u001b[39m.\u001b[39mclose()\n\u001b[0;32m   1850\u001b[0m \u001b[39mexcept\u001b[39;00m \u001b[39mBaseException\u001b[39;00m \u001b[39mas\u001b[39;00m e:\n\u001b[1;32m-> 1851\u001b[0m     \u001b[39mself\u001b[39;49m\u001b[39m.\u001b[39;49m_handle_dbapi_exception(\n\u001b[0;32m   1852\u001b[0m         e, statement, parameters, cursor, context\n\u001b[0;32m   1853\u001b[0m     )\n\u001b[0;32m   1855\u001b[0m \u001b[39mreturn\u001b[39;00m result\n",
      "File \u001b[1;32mc:\\Users\\VMO\\anaconda3\\envs\\earth2\\lib\\site-packages\\sqlalchemy\\engine\\base.py:2032\u001b[0m, in \u001b[0;36mConnection._handle_dbapi_exception\u001b[1;34m(self, e, statement, parameters, cursor, context)\u001b[0m\n\u001b[0;32m   2030\u001b[0m     util\u001b[39m.\u001b[39mraise_(newraise, with_traceback\u001b[39m=\u001b[39mexc_info[\u001b[39m2\u001b[39m], from_\u001b[39m=\u001b[39me)\n\u001b[0;32m   2031\u001b[0m \u001b[39melif\u001b[39;00m should_wrap:\n\u001b[1;32m-> 2032\u001b[0m     util\u001b[39m.\u001b[39;49mraise_(\n\u001b[0;32m   2033\u001b[0m         sqlalchemy_exception, with_traceback\u001b[39m=\u001b[39;49mexc_info[\u001b[39m2\u001b[39;49m], from_\u001b[39m=\u001b[39;49me\n\u001b[0;32m   2034\u001b[0m     )\n\u001b[0;32m   2035\u001b[0m \u001b[39melse\u001b[39;00m:\n\u001b[0;32m   2036\u001b[0m     util\u001b[39m.\u001b[39mraise_(exc_info[\u001b[39m1\u001b[39m], with_traceback\u001b[39m=\u001b[39mexc_info[\u001b[39m2\u001b[39m])\n",
      "File \u001b[1;32mc:\\Users\\VMO\\anaconda3\\envs\\earth2\\lib\\site-packages\\sqlalchemy\\util\\compat.py:207\u001b[0m, in \u001b[0;36mraise_\u001b[1;34m(***failed resolving arguments***)\u001b[0m\n\u001b[0;32m    204\u001b[0m     exception\u001b[39m.\u001b[39m__cause__ \u001b[39m=\u001b[39m replace_context\n\u001b[0;32m    206\u001b[0m \u001b[39mtry\u001b[39;00m:\n\u001b[1;32m--> 207\u001b[0m     \u001b[39mraise\u001b[39;00m exception\n\u001b[0;32m    208\u001b[0m \u001b[39mfinally\u001b[39;00m:\n\u001b[0;32m    209\u001b[0m     \u001b[39m# credit to\u001b[39;00m\n\u001b[0;32m    210\u001b[0m     \u001b[39m# https://cosmicpercolator.com/2016/01/13/exception-leaks-in-python-2-and-3/\u001b[39;00m\n\u001b[0;32m    211\u001b[0m     \u001b[39m# as the __traceback__ object creates a cycle\u001b[39;00m\n\u001b[0;32m    212\u001b[0m     \u001b[39mdel\u001b[39;00m exception, replace_context, from_, with_traceback\n",
      "File \u001b[1;32mc:\\Users\\VMO\\anaconda3\\envs\\earth2\\lib\\site-packages\\sqlalchemy\\engine\\base.py:1808\u001b[0m, in \u001b[0;36mConnection._execute_context\u001b[1;34m(self, dialect, constructor, statement, parameters, execution_options, *args, **kw)\u001b[0m\n\u001b[0;32m   1806\u001b[0m                 \u001b[39mbreak\u001b[39;00m\n\u001b[0;32m   1807\u001b[0m     \u001b[39mif\u001b[39;00m \u001b[39mnot\u001b[39;00m evt_handled:\n\u001b[1;32m-> 1808\u001b[0m         \u001b[39mself\u001b[39;49m\u001b[39m.\u001b[39;49mdialect\u001b[39m.\u001b[39;49mdo_execute(\n\u001b[0;32m   1809\u001b[0m             cursor, statement, parameters, context\n\u001b[0;32m   1810\u001b[0m         )\n\u001b[0;32m   1812\u001b[0m \u001b[39mif\u001b[39;00m \u001b[39mself\u001b[39m\u001b[39m.\u001b[39m_has_events \u001b[39mor\u001b[39;00m \u001b[39mself\u001b[39m\u001b[39m.\u001b[39mengine\u001b[39m.\u001b[39m_has_events:\n\u001b[0;32m   1813\u001b[0m     \u001b[39mself\u001b[39m\u001b[39m.\u001b[39mdispatch\u001b[39m.\u001b[39mafter_cursor_execute(\n\u001b[0;32m   1814\u001b[0m         \u001b[39mself\u001b[39m,\n\u001b[0;32m   1815\u001b[0m         cursor,\n\u001b[1;32m   (...)\u001b[0m\n\u001b[0;32m   1819\u001b[0m         context\u001b[39m.\u001b[39mexecutemany,\n\u001b[0;32m   1820\u001b[0m     )\n",
      "File \u001b[1;32mc:\\Users\\VMO\\anaconda3\\envs\\earth2\\lib\\site-packages\\sqlalchemy\\engine\\default.py:732\u001b[0m, in \u001b[0;36mDefaultDialect.do_execute\u001b[1;34m(self, cursor, statement, parameters, context)\u001b[0m\n\u001b[0;32m    731\u001b[0m \u001b[39mdef\u001b[39;00m \u001b[39mdo_execute\u001b[39m(\u001b[39mself\u001b[39m, cursor, statement, parameters, context\u001b[39m=\u001b[39m\u001b[39mNone\u001b[39;00m):\n\u001b[1;32m--> 732\u001b[0m     cursor\u001b[39m.\u001b[39;49mexecute(statement, parameters)\n",
      "\u001b[1;31mProgrammingError\u001b[0m: (psycopg2.errors.UndefinedTable) relation \"afg_admbnda_adm2_pop_stats_v02\" does not exist\nLINE 1: SELECT * from afg_admbnda_adm2_pop_stats_v02\n                      ^\n\n[SQL: SELECT * from afg_admbnda_adm2_pop_stats_v02]\n(Background on this error at: https://sqlalche.me/e/14/f405)"
     ]
    }
   ],
   "source": [
    "adm = gpd.GeoDataFrame.from_postgis('SELECT * from afg_admbnda_adm2_pop_stats_v02', con)\n",
    "adm.build_count.sum()\n",
    "print('build_count', adm.build_count.sum())\n",
    "print('sett_count', adm.sett_count.sum())\n",
    "print('pop_sum', adm.pop_sum.sum())\n",
    "print('area_km2', adm.area_km2.sum())"
   ]
  },
  {
   "cell_type": "code",
   "execution_count": null,
   "id": "eb09d3fe",
   "metadata": {},
   "outputs": [],
   "source": [
    "adm = gpd.GeoDataFrame.from_postgis('SELECT * from afg_admbnda_region_pop_stats_v02', con)\n",
    "adm.build_count.sum()\n",
    "print('build_count', adm.build_count.sum())\n",
    "print('sett_count', adm.sett_count.sum())\n",
    "print('pop_sum', adm.pop_sum.sum())\n",
    "print('area_km2', adm.area_km2.sum())"
   ]
  },
  {
   "attachments": {},
   "cell_type": "markdown",
   "id": "cc743a66",
   "metadata": {},
   "source": [
    "### Flood stats"
   ]
  },
  {
   "cell_type": "code",
   "execution_count": 12,
   "id": "d825f67c",
   "metadata": {},
   "outputs": [
    {
     "name": "stdout",
     "output_type": "stream",
     "text": [
      "build_count      1506800\n",
      "pop_sum          7055306.041503906\n",
      "area_km2         72991.31345435615\n",
      "\n",
      "\n",
      "build_count      793885\n",
      "pop_sum          4447561.359863281\n",
      "area_km2         41175.482205270775\n",
      "\n",
      "\n",
      "build_count      258382\n",
      "pop_sum          1976562.0349121094\n",
      "area_km2         14083.742235561198\n"
     ]
    }
   ],
   "source": [
    "adm = gpd.GeoDataFrame.from_postgis('SELECT * from afg_admbnda_adm1_flood_stats', con)\n",
    "print('build_count     ', adm.build_029cm.sum())\n",
    "print('pop_sum         ', adm.pop_sum_029cm.sum())\n",
    "print('area_km2        ', adm.km2_029cm.sum())\n",
    "\n",
    "print('\\n')\n",
    "\n",
    "print('build_count     ', adm.build_121cm.sum())\n",
    "print('pop_sum         ', adm.pop_sum_121cm.sum())\n",
    "print('area_km2        ', adm.km2_121cm.sum())\n",
    "\n",
    "print('\\n')\n",
    "\n",
    "print('build_count     ', adm.build_271cm.sum())\n",
    "print('pop_sum         ', adm.pop_sum_271cm.sum())\n",
    "print('area_km2        ', adm.km2_271cm.sum())"
   ]
  },
  {
   "cell_type": "code",
   "execution_count": null,
   "id": "96002ae3",
   "metadata": {},
   "outputs": [],
   "source": [
    "adm = gpd.GeoDataFrame.from_postgis('SELECT * from afg_admbnda_adm2_flood_stats', con)\n",
    "print('build_count     ', adm.build_029cm.sum())\n",
    "print('pop_sum         ', adm.pop_sum_029cm.sum())\n",
    "print('area_km2        ', adm.km2_029cm.sum())\n",
    "\n",
    "print('\\n')\n",
    "\n",
    "print('build_count     ', adm.build_121cm.sum())\n",
    "print('pop_sum         ', adm.pop_sum_121cm.sum())\n",
    "print('area_km2        ', adm.km2_121cm.sum())\n",
    "\n",
    "print('\\n')\n",
    "\n",
    "print('build_count     ', adm.build_271cm.sum())\n",
    "print('pop_sum         ', adm.pop_sum_271cm.sum())\n",
    "print('area_km2        ', adm.km2_271cm.sum())"
   ]
  },
  {
   "cell_type": "code",
   "execution_count": null,
   "id": "5c2e0172",
   "metadata": {},
   "outputs": [],
   "source": [
    "adm = gpd.GeoDataFrame.from_postgis('SELECT * from afg_admbnda_region_flood_stats', con)\n",
    "print('build_count     ', adm.build_029cm.sum())\n",
    "print('pop_sum         ', adm.pop_sum_029cm.sum())\n",
    "print('area_km2        ', adm.km2_029cm.sum())\n",
    "\n",
    "print('\\n')\n",
    "\n",
    "print('build_count     ', adm.build_121cm.sum())\n",
    "print('pop_sum         ', adm.pop_sum_121cm.sum())\n",
    "print('area_km2        ', adm.km2_121cm.sum())\n",
    "\n",
    "print('\\n')\n",
    "\n",
    "print('build_count     ', adm.build_271cm.sum())\n",
    "print('pop_sum         ', adm.pop_sum_271cm.sum())\n",
    "print('area_km2        ', adm.km2_271cm.sum())"
   ]
  },
  {
   "attachments": {},
   "cell_type": "markdown",
   "id": "ed093ce5",
   "metadata": {},
   "source": [
    "### Avalanche stats"
   ]
  },
  {
   "cell_type": "code",
   "execution_count": null,
   "id": "0dd764c4",
   "metadata": {},
   "outputs": [],
   "source": [
    "adm = gpd.GeoDataFrame.from_postgis('SELECT * from afg_admbnda_adm1_av_stats', con)\n",
    "print('build_count     ', adm.build.sum())\n",
    "print('pop_sum         ', adm.pop_sum.sum())\n",
    "print('m2              ', adm.m2.sum())"
   ]
  },
  {
   "cell_type": "code",
   "execution_count": null,
   "id": "67814d43",
   "metadata": {},
   "outputs": [],
   "source": [
    "adm = gpd.GeoDataFrame.from_postgis('SELECT * from afg_admbnda_adm2_av_stats', con)\n",
    "print('build_count     ', adm.build.sum())\n",
    "print('pop_sum         ', adm.pop_sum.sum())\n",
    "print('m2              ', adm.m2.sum())"
   ]
  },
  {
   "cell_type": "code",
   "execution_count": 15,
   "id": "bfc0bc6b",
   "metadata": {},
   "outputs": [
    {
     "name": "stderr",
     "output_type": "stream",
     "text": [
      "c:\\Users\\VMO\\anaconda3\\envs\\earth2\\lib\\site-packages\\pandas\\io\\sql.py:582: SAWarning: Did not recognize type 'geometry' of column 'geom'\n",
      "  pandas_sql.meta.reflect(bind=pandas_sql.connectable, only=[sql])\n"
     ]
    },
    {
     "name": "stdout",
     "output_type": "stream",
     "text": [
      "build_count      128866\n",
      "pop_sum          1327956.7734375\n",
      "m2               33752.205420413135\n"
     ]
    }
   ],
   "source": [
    "adm = gpd.GeoDataFrame.from_postgis('SELECT * from afg_admbnda_region_av_stats', con)\n",
    "print('build_count     ', adm.build.sum())\n",
    "print('pop_sum         ', adm.pop_sum.sum())\n",
    "print('m2              ', adm.km2.sum())"
   ]
  },
  {
   "cell_type": "code",
   "execution_count": null,
   "id": "449befe0",
   "metadata": {},
   "outputs": [],
   "source": [
    "zonal_stats = gpd.read_file(\"D:\\iMMAP\\proj\\ASDC\\data\\Avalanche-QA\\subset_zonalstats_v06.shp\")"
   ]
  },
  {
   "cell_type": "code",
   "execution_count": null,
   "id": "48a1fb72",
   "metadata": {},
   "outputs": [],
   "source": [
    "zonal_stats['_sum'].sum()"
   ]
  },
  {
   "cell_type": "code",
   "execution_count": null,
   "id": "f38410c0",
   "metadata": {},
   "outputs": [],
   "source": [
    "zonal_stats['area'].sum()"
   ]
  },
  {
   "attachments": {},
   "cell_type": "markdown",
   "id": "a7f33fe2",
   "metadata": {},
   "source": [
    "### Landslide stats"
   ]
  },
  {
   "cell_type": "code",
   "execution_count": null,
   "id": "030324d9",
   "metadata": {},
   "outputs": [],
   "source": [
    "adm = gpd.GeoDataFrame.from_postgis('SELECT * from adm_stats_landslide', con)\n",
    "print('build_count', adm.build_ls_4.sum())\n",
    "print('build_count all', adm.loc[:, ['build_ls_1', 'build_ls_2', 'build_ls_3', 'build_ls_4']].sum().sum())\n",
    "print('pop_sum', adm.pop_sum.sum())\n",
    "print('pop_sum - excluding 0', adm.loc[:,['pop_1', 'pop_2', 'pop_3', 'pop_4', 'pop_5', 'pop_6', 'pop_7', 'pop_8']].sum().sum())\n",
    "print('area_km2', adm.km2_ls_4.sum())"
   ]
  },
  {
   "cell_type": "code",
   "execution_count": null,
   "id": "bebe9729",
   "metadata": {},
   "outputs": [],
   "source": [
    "adm = gpd.GeoDataFrame.from_postgis('SELECT * from adm2_stats_landslide', con)\n",
    "print('build_count', adm.build_ls_4.sum())\n",
    "print('build_count all', adm.loc[:, ['build_ls_1', 'build_ls_2', 'build_ls_3', 'build_ls_4']].sum().sum())\n",
    "print('pop_sum', adm.pop_sum.sum())\n",
    "print('pop_sum - excluding 0', adm.loc[:,['pop_1', 'pop_2', 'pop_3', 'pop_4', 'pop_5', 'pop_6', 'pop_7', 'pop_8']].sum().sum())\n",
    "print('area_km2', adm.km2_ls_4.sum())"
   ]
  },
  {
   "cell_type": "code",
   "execution_count": null,
   "id": "320ca96e",
   "metadata": {},
   "outputs": [],
   "source": [
    "adm = gpd.GeoDataFrame.from_postgis('SELECT * from region_stats_landslide', con)\n",
    "print('build_count', adm.build_ls_4.sum())\n",
    "print('build_count all', adm.loc[:, ['build_ls_1', 'build_ls_2', 'build_ls_3', 'build_ls_4']].sum().sum())\n",
    "print('pop_sum', adm.pop_sum.sum())\n",
    "print('pop_sum - excluding 0', adm.loc[:,['pop_1', 'pop_2', 'pop_3', 'pop_4', 'pop_5', 'pop_6', 'pop_7', 'pop_8']].sum().sum())\n",
    "print('area_km2', adm.km2_ls_4.sum())"
   ]
  },
  {
   "attachments": {},
   "cell_type": "markdown",
   "id": "c1f5d601",
   "metadata": {},
   "source": [
    "### Earthquake stats"
   ]
  },
  {
   "cell_type": "code",
   "execution_count": 16,
   "id": "c1e7445e",
   "metadata": {},
   "outputs": [],
   "source": [
    "reg = gpd.GeoDataFrame.from_postgis('SELECT * from afg_admbnda_region_eq_stats_v02', con)\n",
    "adm1 = gpd.GeoDataFrame.from_postgis('SELECT * from afg_admbnda_adm1_eq_stats_v02', con)\n",
    "adm2 = gpd.GeoDataFrame.from_postgis('SELECT * from afg_admbnda_adm2_eq_stats_v02', con)"
   ]
  },
  {
   "cell_type": "code",
   "execution_count": 17,
   "id": "ae2bae32",
   "metadata": {},
   "outputs": [
    {
     "name": "stdout",
     "output_type": "stream",
     "text": [
      "build_count all 6581539\n",
      "pop_count all 34969744\n",
      "area_count all 639520.9\n"
     ]
    }
   ],
   "source": [
    "print('build_count all', reg.loc[:, 'bld_eq_5':'bld_eq_10'].sum().sum())\n",
    "print('pop_count all', reg.loc[:, 'pop_eq_5':'pop_eq_10'].sum().sum())\n",
    "print('area_count all', reg.loc[:, 'km2_eq_5':'km2_eq_10'].sum().sum())"
   ]
  },
  {
   "cell_type": "code",
   "execution_count": 18,
   "id": "6c81a3cd",
   "metadata": {},
   "outputs": [
    {
     "name": "stdout",
     "output_type": "stream",
     "text": [
      "build_count all 6581539\n",
      "pop_count all 34969708\n",
      "area_count all 639520.6000000001\n"
     ]
    }
   ],
   "source": [
    "print('build_count all', adm1.loc[:, 'bld_eq_5':'bld_eq_10'].sum().sum())\n",
    "print('pop_count all', adm1.loc[:, 'pop_eq_5':'pop_eq_10'].sum().sum())\n",
    "print('area_count all', adm1.loc[:, 'km2_eq_5':'km2_eq_10'].sum().sum())"
   ]
  },
  {
   "cell_type": "code",
   "execution_count": 19,
   "id": "b60ea989",
   "metadata": {},
   "outputs": [
    {
     "name": "stdout",
     "output_type": "stream",
     "text": [
      "build_count all 6581539\n",
      "pop_count all 34969423\n",
      "area_count all 639520.2\n"
     ]
    }
   ],
   "source": [
    "print('build_count all', adm2.loc[:, 'bld_eq_5':'bld_eq_10'].sum().sum())\n",
    "print('pop_count all', adm2.loc[:, 'pop_eq_5':'pop_eq_10'].sum().sum())\n",
    "print('area_count all', adm2.loc[:, 'km2_eq_5':'km2_eq_10'].sum().sum())"
   ]
  },
  {
   "cell_type": "code",
   "execution_count": null,
   "id": "13a85a25",
   "metadata": {},
   "outputs": [],
   "source": []
  }
 ],
 "metadata": {
  "kernelspec": {
   "display_name": "Python 3 (ipykernel)",
   "language": "python",
   "name": "python3"
  },
  "language_info": {
   "codemirror_mode": {
    "name": "ipython",
    "version": 3
   },
   "file_extension": ".py",
   "mimetype": "text/x-python",
   "name": "python",
   "nbconvert_exporter": "python",
   "pygments_lexer": "ipython3",
   "version": "3.8.12"
  }
 },
 "nbformat": 4,
 "nbformat_minor": 5
}

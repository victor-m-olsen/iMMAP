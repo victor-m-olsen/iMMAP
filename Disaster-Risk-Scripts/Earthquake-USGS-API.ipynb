{
 "cells": [
  {
   "cell_type": "code",
   "execution_count": 1,
   "metadata": {},
   "outputs": [],
   "source": [
    "import requests\n",
    "import pandas as pd\n",
    "import geopandas as gpd\n",
    "from shapely.geometry import Point\n",
    "import json\n",
    "from sqlalchemy import create_engine\n",
    "import urllib\n",
    "import zipfile\n",
    "import rasterstats\n",
    "import folium\n",
    "from shapely.geometry import Point\n",
    "\n",
    "pd.set_option('display.max_columns', None)\n",
    "pd.set_option('display.max_rows', 10)\n",
    "pd.set_option('display.float_format', lambda x: '%.3f' % x)\n",
    "pd.set_option('display.expand_frame_repr', False)\n",
    "pd.set_option('display.width', 500)"
   ]
  },
  {
   "attachments": {},
   "cell_type": "markdown",
   "metadata": {},
   "source": [
    "Running API query"
   ]
  },
  {
   "cell_type": "code",
   "execution_count": 2,
   "metadata": {},
   "outputs": [],
   "source": [
    "start_time = 'now-180days'\n",
    "#end_time = '2022-06-22' #'now-180days'\n",
    "min_magnitude = 4\n",
    "\n",
    "#https://earthquake.usgs.gov/fdsnws/event/1/count?starttime=2014-01-01&endtime=2014-01-02\n",
    "\n",
    "# Radius parameters\n",
    "#latitude = 39.1458\n",
    "#longitude = 34.1614\n",
    "#max_radius_km = 1500\n",
    "\n",
    "# Bounding Box parameters (set to Afghanistan)\n",
    "minlatitude = 29.377065\n",
    "maxlatitude = 38.490842\n",
    "minlongitude = 60.471977\n",
    "maxlongitude = 74.889561\n",
    "\n",
    "#minlongitude = -179\n",
    "#maxlongitude = 179\n",
    "#minlatitude = -90\n",
    "#maxlatitude = 90"
   ]
  },
  {
   "cell_type": "code",
   "execution_count": 3,
   "metadata": {},
   "outputs": [],
   "source": [
    "#radius_query = f'\\\n",
    "#https://earthquake.usgs.gov/fdsnws/event/1/query?format=geojson\\\n",
    "#&starttime={start_time}\\\n",
    "#&minmagnitude={min_magnitude}\\\n",
    "#&latitude={latitude}\\\n",
    "#&longitude={longitude}\\\n",
    "#&maxradiuskm={max_radius_km}\\\n",
    "#&producttype=shakemap'"
   ]
  },
  {
   "cell_type": "code",
   "execution_count": 4,
   "metadata": {},
   "outputs": [],
   "source": [
    "bbox_query = f'\\\n",
    "https://earthquake.usgs.gov/fdsnws/event/1/query?format=geojson\\\n",
    "&starttime={start_time}\\\n",
    "&minmagnitude={min_magnitude}\\\n",
    "&minlatitude={minlatitude}\\\n",
    "&maxlatitude={maxlatitude}\\\n",
    "&minlongitude={minlongitude}\\\n",
    "&maxlongitude={maxlongitude}'\n",
    "#&producttype=shakemap'\n",
    "\n",
    "#&endtime={end_time}\\"
   ]
  },
  {
   "cell_type": "code",
   "execution_count": 5,
   "metadata": {},
   "outputs": [],
   "source": [
    "# Run query and check response\n",
    "url = requests.get(bbox_query)\n",
    "featureCollection = url.json()"
   ]
  },
  {
   "attachments": {},
   "cell_type": "markdown",
   "metadata": {},
   "source": [
    "Unpacking JSON"
   ]
  },
  {
   "cell_type": "code",
   "execution_count": 6,
   "metadata": {},
   "outputs": [],
   "source": [
    "# Restructure to get a list of features instead of a feature collection\n",
    "features = featureCollection['features']"
   ]
  },
  {
   "cell_type": "code",
   "execution_count": 7,
   "metadata": {},
   "outputs": [],
   "source": [
    "# Sort the features based on the 'time' property\n",
    "features_sorted = sorted(features, key=lambda x: x['properties']['time'], reverse=True)"
   ]
  },
  {
   "cell_type": "code",
   "execution_count": 8,
   "metadata": {},
   "outputs": [],
   "source": [
    "# Get the most recent feature\n",
    "feature_newest = features_sorted[0]"
   ]
  },
  {
   "cell_type": "code",
   "execution_count": 9,
   "metadata": {},
   "outputs": [],
   "source": [
    "# Open the details url in the feature (contains properties, epicenter and shakemap)\n",
    "detail_url = feature_newest['properties']['detail']\n",
    "url = requests.get(detail_url)\n",
    "\n",
    "# Save to new variable\n",
    "feature_newest_detail = url.json()"
   ]
  },
  {
   "cell_type": "markdown",
   "metadata": {},
   "source": []
  },
  {
   "attachments": {},
   "cell_type": "markdown",
   "metadata": {},
   "source": [
    "Extracting Epicenter"
   ]
  },
  {
   "cell_type": "code",
   "execution_count": 10,
   "metadata": {},
   "outputs": [],
   "source": [
    "# Extracting epicenter coordinates\n",
    "coordinates = feature_newest_detail['geometry']"
   ]
  },
  {
   "cell_type": "code",
   "execution_count": 11,
   "metadata": {},
   "outputs": [],
   "source": [
    "# Extract the epicenter attributes\n",
    "attributes = feature_newest_detail['properties']"
   ]
  },
  {
   "cell_type": "code",
   "execution_count": 12,
   "metadata": {},
   "outputs": [],
   "source": [
    "### Convert time\n",
    "\n",
    "# Convert UNIX timestamp to normal time\n",
    "attributes['time'] = pd.to_datetime(attributes['time'], unit='ms')\n",
    "\n",
    "# Convert to Kabul time\n",
    "timezone = 'Asia/Kabul'\n",
    "attributes['time'] = attributes['time'].tz_localize('UTC').tz_convert(timezone)\n",
    "\n",
    "# Set time-zone column\n",
    "attributes['tz'] = timezone\n",
    "\n",
    "# Reformat time\n",
    "attributes['time'] = attributes['time'].strftime('%Y-%m-%d %H:%M:%S')"
   ]
  },
  {
   "cell_type": "code",
   "execution_count": 13,
   "metadata": {},
   "outputs": [],
   "source": [
    "# Create a pandas DataFrame\n",
    "data = pd.DataFrame(attributes, index=[0])\n",
    "data['geometry'] = Point(coordinates['coordinates'])\n",
    "\n",
    "# Convert to a GeoDataFrame\n",
    "epicenter = gpd.GeoDataFrame(data)\n",
    "epicenter.rename(columns = {'geom':'buildings'}, inplace = True)"
   ]
  },
  {
   "cell_type": "code",
   "execution_count": 14,
   "metadata": {},
   "outputs": [],
   "source": [
    "#  First define the true original crs\n",
    "epicenter.crs = \"EPSG:4326\""
   ]
  },
  {
   "cell_type": "code",
   "execution_count": 15,
   "metadata": {},
   "outputs": [],
   "source": [
    "# Reproject to projected crs before calculating shakemap\n",
    "epicenter = epicenter.to_crs('+proj=cea')"
   ]
  },
  {
   "cell_type": "code",
   "execution_count": 16,
   "metadata": {},
   "outputs": [],
   "source": [
    "# Create shakemap as donut rings from epicenter\n",
    "\n",
    "def create_donut_rings(center, radii):\n",
    "    # create circles from radii\n",
    "    circles = [center.buffer(radius) for radius in radii]\n",
    "    \n",
    "    # create donut rings by subtracting each inner circle from the outer circle\n",
    "    donut_rings = [circles[i].difference(circles[i-1]) for i in range(1, len(circles))]\n",
    "    \n",
    "    # add the innermost circle\n",
    "    donut_rings.insert(0, circles[0])\n",
    "    \n",
    "    # create a GeoDataFrame with the donut rings and their corresponding radii\n",
    "    donut_rings_gdf = gpd.GeoDataFrame(geometry=donut_rings)\n",
    "    donut_rings_gdf['distance'] = radii\n",
    "    \n",
    "    return donut_rings_gdf\n",
    "\n",
    "# specify radii of circles: 10km, 20km, 30km, 40km, 50km\n",
    "radii = [10000, 20000, 30000, 40000, 50000]\n",
    "\n",
    "# create a GeoDataFrame of donut rings\n",
    "donut_rings_gdf = create_donut_rings(epicenter.geometry[0], radii)\n",
    "\n",
    "donut_rings_gdf.crs = \"+proj=cea\"\n",
    "\n",
    "shakemap = donut_rings_gdf"
   ]
  },
  {
   "cell_type": "code",
   "execution_count": 52,
   "metadata": {},
   "outputs": [
    {
     "data": {
      "text/plain": [
       "<AxesSubplot:>"
      ]
     },
     "execution_count": 52,
     "metadata": {},
     "output_type": "execute_result"
    },
    {
     "data": {
      "image/png": "[encoded data removed]",
      "text/plain": [
       "<Figure size 432x288 with 1 Axes>"
      ]
     },
     "metadata": {
      "needs_background": "light"
     },
     "output_type": "display_data"
    }
   ],
   "source": [
    "shakemap.plot()"
   ]
  },
  {
   "cell_type": "code",
   "execution_count": 17,
   "metadata": {},
   "outputs": [],
   "source": [
    "#  # create a Folium map\n",
    "#  m = folium.Map(location=[0, 0], zoom_start=2)\n",
    "\n",
    "#  # add the GeoDataFrame to the Folium map\n",
    "#  folium.GeoJson(epicenter).add_to(m)\n",
    "#  folium.GeoJson(donut_rings_gdf).add_to(m)\n",
    "\n",
    "#  # show the map\n",
    "#  m.save('map_v09.html')"
   ]
  },
  {
   "cell_type": "code",
   "execution_count": 18,
   "metadata": {},
   "outputs": [],
   "source": [
    "# Define projection\n",
    "#repro_crs = '+proj=cea'"
   ]
  },
  {
   "attachments": {},
   "cell_type": "markdown",
   "metadata": {},
   "source": [
    "Extracting shakemap"
   ]
  },
  {
   "cell_type": "code",
   "execution_count": 19,
   "metadata": {},
   "outputs": [],
   "source": [
    "# # Get the URLs for the ShakeMap files (many different data formats available)\n",
    "# shakemap_files = feature_newest_detail['properties']['products']['shakemap']"
   ]
  },
  {
   "cell_type": "code",
   "execution_count": 20,
   "metadata": {},
   "outputs": [],
   "source": [
    "# # Select the shape format\n",
    "# shakemap_shape_url = shakemap_files[0]['contents']['download/shape.zip']['url']"
   ]
  },
  {
   "cell_type": "code",
   "execution_count": 21,
   "metadata": {},
   "outputs": [],
   "source": [
    "# # Downloading the shakemap\n",
    "\n",
    "# # Specify the URL of the file to download\n",
    "# file_url = shakemap_shape_url\n",
    "\n",
    "# # Specify the path to save the downloaded file\n",
    "# save_path = r'D:\\iMMAP\\proj\\ASDC\\data\\USGS\\shp.zip'\n",
    "\n",
    "# # Download the file\n",
    "# urllib.request.urlretrieve(file_url, save_path)\n",
    "\n",
    "# print('File downloaded successfully.')"
   ]
  },
  {
   "cell_type": "code",
   "execution_count": 22,
   "metadata": {},
   "outputs": [],
   "source": [
    "# # Extract the zip\n",
    "# with zipfile.ZipFile(r'D:\\iMMAP\\proj\\ASDC\\data\\USGS\\shp.zip', \"r\") as zip_ref:\n",
    "#     # Extract the shapefile\n",
    "#     zip_ref.extractall(\"temp_extracted_files\")\n",
    "\n",
    "# # Path to the extracted shapefile\n",
    "# shapefile_path = \"temp_extracted_files/\" + 'mi.shp'"
   ]
  },
  {
   "cell_type": "code",
   "execution_count": 23,
   "metadata": {},
   "outputs": [],
   "source": [
    "# # Read the shapefile as a GeoPandas DataFrame\n",
    "# shakemap = gpd.read_file(shapefile_path)\n",
    "# shakemap"
   ]
  },
  {
   "cell_type": "code",
   "execution_count": 24,
   "metadata": {},
   "outputs": [],
   "source": [
    "# # Remove rows if PARAMVALUE = 1\n",
    "# shakemap = shakemap[shakemap['PARAMVALUE'] != 1]\n",
    "# shakemap"
   ]
  },
  {
   "cell_type": "code",
   "execution_count": 25,
   "metadata": {},
   "outputs": [],
   "source": [
    "# Create list of columns to user for ordering\n",
    "shakemap_columns = list(shakemap.columns)\n",
    "epicenter_columns = list(epicenter.drop(columns='geometry').columns)\n",
    "column_order = epicenter_columns + shakemap_columns"
   ]
  },
  {
   "cell_type": "code",
   "execution_count": 26,
   "metadata": {},
   "outputs": [],
   "source": [
    "# Add a temporary column to both DataFrames with a constant value to create a Cartesian product merge\n",
    "shakemap['_merge_key'] = 1\n",
    "epicenter['_merge_key'] = 1\n",
    "\n",
    "# Perform a merge on the temporary column\n",
    "shakemap = pd.merge(shakemap, epicenter.drop(columns='geometry'), how='left', on='_merge_key')\n",
    "\n",
    "# Remove the temporary column\n",
    "shakemap = shakemap.drop(columns='_merge_key')\n",
    "\n",
    "#shakemap = shakemap.reindex(columns=column_order)"
   ]
  },
  {
   "cell_type": "code",
   "execution_count": 27,
   "metadata": {},
   "outputs": [],
   "source": [
    "# # Reorder columns\n",
    "# shakemap = shakemap.reindex(columns=column_order)"
   ]
  },
  {
   "attachments": {},
   "cell_type": "markdown",
   "metadata": {},
   "source": [
    "Merging shakemap"
   ]
  },
  {
   "cell_type": "code",
   "execution_count": 28,
   "metadata": {},
   "outputs": [],
   "source": [
    "# # Define the merge categories\n",
    "# merge_categories = [(4, 5), (5, 6), (6, 7), (7, 8), (8, 9)] #(1, 2),(2, 3),(3, 4),\n",
    "\n",
    "# # Create a new column to store the merged categories\n",
    "# shakemap['MergeCategory'] = None\n",
    "\n",
    "# # Iterate over the merge categories\n",
    "# for category in merge_categories:\n",
    "#     # Extract the minimum and maximum values of the category\n",
    "#     min_value, max_value = category\n",
    "    \n",
    "#     # Select polygons within the current category\n",
    "#     category_polygons = shakemap[(shakemap['PARAMVALUE'] >= min_value) & (shakemap['PARAMVALUE'] < max_value)]\n",
    "    \n",
    "#     # Assign the merge category to the selected polygons\n",
    "#     shakemap.loc[category_polygons.index, 'MergeCategory'] = f'{min_value}-{max_value}'\n",
    "    \n",
    "# # Dissolve the polygons based on the merge category\n",
    "# shakemap = shakemap.dissolve(by='MergeCategory')\n",
    "# shakemap"
   ]
  },
  {
   "cell_type": "code",
   "execution_count": 29,
   "metadata": {},
   "outputs": [],
   "source": [
    "# type(shakemap)"
   ]
  },
  {
   "attachments": {},
   "cell_type": "markdown",
   "metadata": {},
   "source": [
    "Calculating population count"
   ]
  },
  {
   "cell_type": "code",
   "execution_count": 30,
   "metadata": {},
   "outputs": [],
   "source": [
    "# Get population raster\n",
    "pop = r'D:\\iMMAP\\data\\Afghanistan\\afg_worldpop_2020_UNadj_unconstrained_projCEA_comp.tif'  #_projCEA"
   ]
  },
  {
   "cell_type": "code",
   "execution_count": 31,
   "metadata": {},
   "outputs": [],
   "source": [
    "#import rasterio\n",
    "#pop = rasterio.open(pop)\n",
    "#pop.crs\n"
   ]
  },
  {
   "cell_type": "code",
   "execution_count": 32,
   "metadata": {},
   "outputs": [],
   "source": [
    "#shakemap.crs"
   ]
  },
  {
   "cell_type": "code",
   "execution_count": 33,
   "metadata": {},
   "outputs": [],
   "source": [
    "# Run zonal statistics\n",
    "zonal = rasterstats.zonal_stats(shakemap, pop, stats = 'sum')"
   ]
  },
  {
   "cell_type": "code",
   "execution_count": 34,
   "metadata": {},
   "outputs": [],
   "source": [
    "# Convert to pandas dataframe\n",
    "df = pd.DataFrame(zonal)\n",
    "df = df.rename(columns={'sum': 'pop'})"
   ]
  },
  {
   "cell_type": "code",
   "execution_count": 35,
   "metadata": {},
   "outputs": [],
   "source": [
    "# Drop index column\n",
    "shakemap = shakemap.reset_index(drop=True)"
   ]
  },
  {
   "cell_type": "code",
   "execution_count": 36,
   "metadata": {},
   "outputs": [],
   "source": [
    "# Concatenate pop values and shakemap as a pandas dataframe\n",
    "df_concat = pd.concat([df, shakemap], axis=1)"
   ]
  },
  {
   "cell_type": "code",
   "execution_count": 37,
   "metadata": {},
   "outputs": [],
   "source": [
    "# Turn pandas dataframe back into a geodataframe\n",
    "shakemap = gpd.GeoDataFrame(df_concat, geometry=df_concat.geometry) #wkb_geometry"
   ]
  },
  {
   "cell_type": "code",
   "execution_count": 38,
   "metadata": {},
   "outputs": [],
   "source": [
    "# Fill all NAN values as 0\n",
    "#shakemap['pop'].fillna(0, inplace=True)"
   ]
  },
  {
   "attachments": {},
   "cell_type": "markdown",
   "metadata": {},
   "source": [
    "Calculating building count"
   ]
  },
  {
   "cell_type": "code",
   "execution_count": 39,
   "metadata": {},
   "outputs": [],
   "source": [
    "# (OBS: Change to live database)\n",
    "\n",
    "# Load database configuration from file\n",
    "with open(r'D:\\iMMAP\\code\\db_config\\hsdc_local_db_config.json', 'r') as f:\n",
    "    config = json.load(f)\n",
    "\n",
    "# Create database URL with credentials\n",
    "db_url = f\"postgresql://{config['username']}:{config['password']}@{config['host']}:{config['port']}/{config['database']}\"\n",
    "\n",
    "# Connect to the database\n",
    "con = create_engine(db_url)"
   ]
  },
  {
   "cell_type": "code",
   "execution_count": 40,
   "metadata": {},
   "outputs": [],
   "source": [
    "# OBS: change to correct building dataset\n",
    "\n",
    "# Load buildings from database\n",
    "buildings = gpd.GeoDataFrame.from_postgis('SELECT * from point_sample', con, geom_col='geometry').to_crs('+proj=cea')   #afg_buildings_microsoft_centroids"
   ]
  },
  {
   "cell_type": "code",
   "execution_count": 41,
   "metadata": {},
   "outputs": [],
   "source": [
    "# Joining the polygon attributes to each point\n",
    "# Creates a point layer of all buildings with the attributes copied from the interesecting polygon uniquely for each point\n",
    "joined_df = gpd.sjoin(\n",
    "    buildings,\n",
    "    shakemap,\n",
    "    how='inner',\n",
    "    predicate='intersects')"
   ]
  },
  {
   "cell_type": "code",
   "execution_count": 42,
   "metadata": {},
   "outputs": [],
   "source": [
    "# Count number of buildings within admin polygons (i.e. group by adm code)\n",
    "build_count = joined_df.groupby(\n",
    "    ['distance'],\n",
    "    as_index=False,\n",
    ")['geometry'].count() # column is arbitrary\n",
    "\n",
    "# Change column name to build_count\n",
    "build_count.rename(columns = {'geometry': 'buildings'}, inplace = True)"
   ]
  },
  {
   "cell_type": "code",
   "execution_count": 43,
   "metadata": {},
   "outputs": [],
   "source": [
    "# Merge build count back on to shakemap\n",
    "shakemap = shakemap.merge(\n",
    "    build_count, \n",
    "    on=['distance'], \n",
    "    how='left')"
   ]
  },
  {
   "attachments": {},
   "cell_type": "markdown",
   "metadata": {},
   "source": [
    "Calculating Area"
   ]
  },
  {
   "cell_type": "code",
   "execution_count": 44,
   "metadata": {},
   "outputs": [],
   "source": [
    "#shakemap['km2'] = shakemap['geometry'].area.div(1000000)"
   ]
  },
  {
   "cell_type": "code",
   "execution_count": 45,
   "metadata": {},
   "outputs": [],
   "source": [
    "# Get area from a reprojected version of shakemap\n",
    "#shakemap_repro = shakemap.to_crs('+proj=cea')\n",
    "shakemap['km2'] = shakemap['geometry'].area.div(1000000)"
   ]
  },
  {
   "attachments": {},
   "cell_type": "markdown",
   "metadata": {},
   "source": [
    "Cleaning tables"
   ]
  },
  {
   "cell_type": "code",
   "execution_count": 46,
   "metadata": {},
   "outputs": [],
   "source": [
    "columns_shakemap = [\n",
    " 'distance',\n",
    " 'pop',\n",
    " 'buildings',\n",
    " 'km2',\n",
    " 'geometry']\n",
    "\n",
    "columns_epicenter = [\n",
    "'title',\n",
    " 'place',\n",
    " 'mag',\n",
    " 'time',\n",
    " 'type',\n",
    " 'cdi',\n",
    " 'mmi',\n",
    " 'alert',\n",
    " 'geometry']"
   ]
  },
  {
   "cell_type": "code",
   "execution_count": 47,
   "metadata": {},
   "outputs": [],
   "source": [
    "shakemap = shakemap[columns_shakemap]\n",
    "#shakemap = shakemap.rename(columns={'PARAMVALUE': 'mag_zone'})\n",
    "\n",
    "epicenter = epicenter[columns_epicenter]"
   ]
  },
  {
   "attachments": {},
   "cell_type": "markdown",
   "metadata": {},
   "source": [
    "Saving outputs to database"
   ]
  },
  {
   "cell_type": "code",
   "execution_count": 48,
   "metadata": {},
   "outputs": [],
   "source": [
    "# Connecting to database\n",
    "\n",
    "# Load database configuration from file\n",
    "with open(r'D:\\iMMAP\\code\\db_config\\hsdc_local_db_config.json', 'r') as f:\n",
    "    config = json.load(f)\n",
    "\n",
    "# Create database URL with credentials\n",
    "db_url = f\"postgresql://{config['username']}:{config['password']}@{config['host']}:{config['port']}/{config['database']}\"\n",
    "\n",
    "# Connect to the database\n",
    "con = create_engine(db_url)"
   ]
  },
  {
   "cell_type": "code",
   "execution_count": 49,
   "metadata": {},
   "outputs": [],
   "source": [
    "# Reproject from +proj=cea to 4326 before saving\n",
    "epicenter = epicenter.to_crs('EPSG:4326')\n",
    "shakemap = shakemap.to_crs('EPSG:4326')"
   ]
  },
  {
   "cell_type": "code",
   "execution_count": 50,
   "metadata": {},
   "outputs": [],
   "source": [
    "# Saving epicenter to database\n",
    "epicenter.to_postgis('usgs-epicenter-test_v11', con, if_exists='replace')"
   ]
  },
  {
   "cell_type": "code",
   "execution_count": 51,
   "metadata": {},
   "outputs": [],
   "source": [
    "# Saving shakemap to database\n",
    "shakemap.to_postgis('usgs-shakemap-test_v11', con, if_exists='replace')"
   ]
  },
  {
   "cell_type": "code",
   "execution_count": null,
   "metadata": {},
   "outputs": [],
   "source": []
  }
 ],
 "metadata": {
  "kernelspec": {
   "display_name": "earth2",
   "language": "python",
   "name": "python3"
  },
  "language_info": {
   "codemirror_mode": {
    "name": "ipython",
    "version": 3
   },
   "file_extension": ".py",
   "mimetype": "text/x-python",
   "name": "python",
   "nbconvert_exporter": "python",
   "pygments_lexer": "ipython3",
   "version": "3.8.12"
  },
  "orig_nbformat": 4
 },
 "nbformat": 4,
 "nbformat_minor": 2
}

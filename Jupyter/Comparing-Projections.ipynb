{
 "cells": [
  {
   "cell_type": "code",
   "execution_count": null,
   "id": "da3de748",
   "metadata": {},
   "outputs": [],
   "source": [
    "import os\n",
    "import geopandas as gpd\n",
    "import numpy as np\n",
    "import rasterio as rio\n",
    "import rioxarray as rxr\n",
    "from rasterstats import zonal_stats\n",
    "import psycopg2\n",
    "from sqlalchemy import create_engine\n",
    "\n",
    "#import pandas as pd\n",
    "#from rasterio.plot import show\n",
    "#import matplotlib.pyplot as plt\n",
    "#import pyproj\n",
    "#from matplotlib import pyplot\n",
    "#import shapely\n",
    "#import folium\n",
    "#from folium.plugins import MousePosition"
   ]
  },
  {
   "cell_type": "code",
   "execution_count": null,
   "id": "e2d5e8d6",
   "metadata": {},
   "outputs": [],
   "source": [
    "password = ''\n",
    "db_connection_url = \"postgresql://postgres:{}@localhost:5432/HSDC\".format(password)\n",
    "con = create_engine(db_connection_url)"
   ]
  },
  {
   "cell_type": "code",
   "execution_count": null,
   "id": "19828fca",
   "metadata": {},
   "outputs": [],
   "source": [
    "pd.set_option('display.max_columns', None)"
   ]
  },
  {
   "cell_type": "code",
   "execution_count": null,
   "id": "f1a71608",
   "metadata": {},
   "outputs": [],
   "source": [
    "os.chdir(r'D:\\iMMAP\\proj\\ASDC\\data\\flood_layer')"
   ]
  },
  {
   "cell_type": "code",
   "execution_count": null,
   "id": "6c452697",
   "metadata": {},
   "outputs": [],
   "source": [
    "pyproj.datadir.get_data_dir()"
   ]
  },
  {
   "cell_type": "markdown",
   "id": "e02b53e5",
   "metadata": {},
   "source": [
    "## Preping vector data"
   ]
  },
  {
   "cell_type": "code",
   "execution_count": null,
   "id": "b18a7fb0",
   "metadata": {},
   "outputs": [],
   "source": [
    "#32641\n",
    "admin = gpd.GeoDataFrame.from_postgis('SELECT * from afg_admbnda_adm2', con).to_crs(epsg=32641)   # Load postgres table\n",
    "admin['area_km2'] = admin['geom'].area.div(1000000)\n",
    "print(admin['area_km2'].sum())\n",
    "admin.crs"
   ]
  },
  {
   "cell_type": "code",
   "execution_count": null,
   "id": "35c53fd6",
   "metadata": {},
   "outputs": [],
   "source": [
    "#32642\n",
    "admin = gpd.GeoDataFrame.from_postgis('SELECT * from afg_admbnda_adm2', con).to_crs(epsg=32642)   # Load postgres table\n",
    "admin['area_km2'] = admin['geom'].area.div(1000000)\n",
    "print(admin['area_km2'].sum())\n",
    "admin.crs"
   ]
  },
  {
   "cell_type": "code",
   "execution_count": null,
   "id": "20f91761",
   "metadata": {},
   "outputs": [],
   "source": [
    "#4979\n",
    "admin = gpd.GeoDataFrame.from_postgis('SELECT * from afg_admbnda_adm2', con).to_crs('+proj=aea +lat_1=29.5 +lat_2=42.5')   # Load postgres table\n",
    "admin['area_km2'] = admin['geom'].area.div(1000000)\n",
    "print(admin['area_km2'].sum())\n",
    "admin.crs"
   ]
  },
  {
   "cell_type": "code",
   "execution_count": null,
   "id": "45f7425c",
   "metadata": {},
   "outputs": [],
   "source": [
    "#+proj=aea +lat_1=29.5 +lat_2=42.5'\n",
    "admin = gpd.GeoDataFrame.from_postgis('SELECT * from afg_admbnda_adm2', con).to_crs('+proj=aea +lat_1=29.5 +lat_2=42.5')   # Load postgres table\n",
    "admin['area_km2'] = admin['geom'].area.div(1000000)\n",
    "print(admin['area_km2'].sum())\n",
    "admin.crs"
   ]
  },
  {
   "cell_type": "code",
   "execution_count": null,
   "id": "ece8d0d2",
   "metadata": {},
   "outputs": [],
   "source": [
    "#+proj=leac\n",
    "admin = gpd.GeoDataFrame.from_postgis('SELECT * from afg_admbnda_adm2', con).to_crs('+proj=leac')   # Load postgres table\n",
    "admin['area_km2'] = admin['geom'].area.div(1000000)\n",
    "print(admin['area_km2'].sum())\n",
    "admin.crs"
   ]
  },
  {
   "cell_type": "code",
   "execution_count": null,
   "id": "4707adaa",
   "metadata": {},
   "outputs": [],
   "source": [
    "#+proj=cea\n",
    "admin = gpd.GeoDataFrame.from_postgis('SELECT * from afg_admbnda_adm2', con).to_crs('+proj=cea')   # Load postgres table\n",
    "admin['area_km2'] = admin['geom'].area.div(1000000)\n",
    "print(admin['area_km2'].sum())\n",
    "admin.crs"
   ]
  },
  {
   "cell_type": "markdown",
   "id": "0e44424f",
   "metadata": {},
   "source": [
    "### Testing projection - Lambert Cylindrical Equal Area"
   ]
  },
  {
   "cell_type": "code",
   "execution_count": null,
   "id": "49cbd91c",
   "metadata": {},
   "outputs": [],
   "source": [
    "# Load from postgis\n",
    "admin = gpd.GeoDataFrame.from_postgis('SELECT * from afg_admbnda_adm2', con)\n",
    "admin.crs"
   ]
  },
  {
   "cell_type": "code",
   "execution_count": null,
   "id": "9c00134d",
   "metadata": {},
   "outputs": [],
   "source": [
    "# Convert to CEA\n",
    "output_crs = '+proj=cea'\n",
    "admin_proj_cea = admin.to_crs(output_crs)   # Load postgres table\n",
    "admin_proj_cea.crs"
   ]
  },
  {
   "cell_type": "code",
   "execution_count": null,
   "id": "943612db",
   "metadata": {},
   "outputs": [],
   "source": [
    "# Convert back to 4326\n",
    "output_crs = 'epsg:4326'\n",
    "admin_proj_4326 = admin_proj_cea.to_crs(output_crs)\n",
    "admin_proj_4326.crs"
   ]
  },
  {
   "cell_type": "code",
   "execution_count": null,
   "id": "7449228f",
   "metadata": {},
   "outputs": [],
   "source": [
    "# Save as 4326 in db\n",
    "admin_proj_4326.to_postgis('admin_test_proj_lambert_4326_test', con)"
   ]
  },
  {
   "cell_type": "code",
   "execution_count": null,
   "id": "22c203c9",
   "metadata": {},
   "outputs": [],
   "source": [
    "# Save as CEA in db\n",
    "admin_proj_cea.to_postgis('admin_test_proj_lambert_CEA_test', con)"
   ]
  },
  {
   "cell_type": "code",
   "execution_count": null,
   "id": "59f6ae29",
   "metadata": {},
   "outputs": [],
   "source": [
    "# Load 4326 version\n",
    "admin_proj_4326_load = gpd.GeoDataFrame.from_postgis('SELECT * from admin_test_proj_lambert_4326_test', con) #.to_crs('+proj=cea')\n",
    "admin_proj_4326_load.crs"
   ]
  },
  {
   "cell_type": "code",
   "execution_count": null,
   "id": "5aa760a4",
   "metadata": {},
   "outputs": [],
   "source": [
    "# Load CEA version   ### Unable to load from postgis when in CEA projection (loads fine in QGIS though)\n",
    "#admin_proj_CEA_load = gpd.GeoDataFrame.from_postgis('SELECT * from admin_test_proj_lambert_CEA_test', con) #.to_crs('+proj=cea')\n",
    "#admin_proj_CEA_load.crs"
   ]
  },
  {
   "cell_type": "markdown",
   "id": "a6384803",
   "metadata": {},
   "source": [
    "### Testing projection on raster"
   ]
  },
  {
   "cell_type": "code",
   "execution_count": null,
   "id": "9daad23f",
   "metadata": {},
   "outputs": [],
   "source": [
    "# Open raster\n",
    "path = r'D:\\iMMAP\\proj\\ASDC\\data\\sett_workspace_v04\\input\\pop-sample.tif'\n",
    "pop_rxr = rxr.open_rasterio(path, masked=True).squeeze() # Open with rxr, much easier to reproject"
   ]
  },
  {
   "cell_type": "code",
   "execution_count": null,
   "id": "585daaac",
   "metadata": {},
   "outputs": [],
   "source": [
    "# Check crs\n",
    "pop_rxr.rio.crs"
   ]
  },
  {
   "cell_type": "code",
   "execution_count": null,
   "id": "9e832ba3",
   "metadata": {},
   "outputs": [],
   "source": [
    "# Reproject the data using the crs from another layer\n",
    "pop_rxr = pop_rxr.rio.reproject(admin_proj_cea.crs)\n",
    "pop_rxr.rio.crs"
   ]
  },
  {
   "cell_type": "code",
   "execution_count": null,
   "id": "7900645b",
   "metadata": {},
   "outputs": [],
   "source": [
    "#Save the raster to a new tif with the new crs\n",
    "pop_rxr.rio.to_raster(r'D:\\iMMAP\\proj\\ASDC\\data\\pop-test2.tif')"
   ]
  },
  {
   "cell_type": "code",
   "execution_count": null,
   "id": "678a6654",
   "metadata": {},
   "outputs": [],
   "source": [
    "#Open the new tif to check if it works\n",
    "pop_rxr_2 = rxr.open_rasterio(r'D:\\iMMAP\\proj\\ASDC\\data\\pop-test2.tif', masked=True).squeeze()\n",
    "pop_rxr_2.rio.crs"
   ]
  },
  {
   "cell_type": "code",
   "execution_count": null,
   "id": "56ee9fb4",
   "metadata": {},
   "outputs": [],
   "source": [
    "#Convert to 4326 and save again\n",
    "pop_rxr_3 = pop_rxr_2.rio.reproject(admin_proj_4326_load.crs)\n",
    "pop_rxr_3.rio.to_raster(r'D:\\iMMAP\\proj\\ASDC\\data\\pop-test3.tif')"
   ]
  }
 ],
 "metadata": {
  "kernelspec": {
   "display_name": "Python 3 (ipykernel)",
   "language": "python",
   "name": "python3"
  },
  "language_info": {
   "codemirror_mode": {
    "name": "ipython",
    "version": 3
   },
   "file_extension": ".py",
   "mimetype": "text/x-python",
   "name": "python",
   "nbconvert_exporter": "python",
   "pygments_lexer": "ipython3",
   "version": "3.8.12"
  }
 },
 "nbformat": 4,
 "nbformat_minor": 5
}

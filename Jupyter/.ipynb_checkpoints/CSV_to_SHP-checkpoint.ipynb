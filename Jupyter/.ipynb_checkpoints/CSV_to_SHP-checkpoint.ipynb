{
 "cells": [
  {
   "cell_type": "code",
   "execution_count": 53,
   "id": "42d17446",
   "metadata": {},
   "outputs": [],
   "source": [
    "import geopandas as gpd\n",
    "import pandas as pd\n",
    "import os"
   ]
  },
  {
   "cell_type": "code",
   "execution_count": 54,
   "id": "7ce4a3be",
   "metadata": {},
   "outputs": [],
   "source": [
    "os.chdir('D:\\iMMAP\\proj\\ASDC\\data\\OCHA-Received\\\\')"
   ]
  },
  {
   "cell_type": "code",
   "execution_count": 57,
   "id": "f2a903cf",
   "metadata": {},
   "outputs": [],
   "source": [
    "panda_df = pd.read_csv('airports.csv', delimiter=';', decimal=',')"
   ]
  },
  {
   "cell_type": "code",
   "execution_count": 60,
   "id": "d391c993",
   "metadata": {},
   "outputs": [],
   "source": [
    "geo_df = gpd.GeoDataFrame(\n",
    "    panda_df, geometry=gpd.points_from_xy(panda_df.POINT_X, panda_df.POINT_Y))"
   ]
  },
  {
   "cell_type": "code",
   "execution_count": 61,
   "id": "b4c155e6",
   "metadata": {},
   "outputs": [],
   "source": [
    "geo_df = geo_df.set_crs('epsg:4326')"
   ]
  },
  {
   "cell_type": "code",
   "execution_count": 62,
   "id": "372d61a4",
   "metadata": {},
   "outputs": [
    {
     "data": {
      "text/plain": [
       "<AxesSubplot:>"
      ]
     },
     "execution_count": 62,
     "metadata": {},
     "output_type": "execute_result"
    },
    {
     "data": {
      "image/png": "[encoded data removed]",
      "text/plain": [
       "<Figure size 432x288 with 1 Axes>"
      ]
     },
     "metadata": {
      "needs_background": "light"
     },
     "output_type": "display_data"
    }
   ],
   "source": [
    "gdf.plot()"
   ]
  },
  {
   "cell_type": "code",
   "execution_count": 63,
   "id": "0c1a0e00",
   "metadata": {},
   "outputs": [
    {
     "name": "stdout",
     "output_type": "stream",
     "text": [
      "epsg:4326\n"
     ]
    }
   ],
   "source": [
    "print(gdf.crs)"
   ]
  },
  {
   "cell_type": "code",
   "execution_count": 65,
   "id": "671600b7",
   "metadata": {},
   "outputs": [],
   "source": [
    "gdf.to_file('MISIT_OCH.shp')"
   ]
  },
  {
   "cell_type": "code",
   "execution_count": null,
   "id": "5dbb85bf",
   "metadata": {},
   "outputs": [],
   "source": []
  }
 ],
 "metadata": {
  "kernelspec": {
   "display_name": "Python 3 (ipykernel)",
   "language": "python",
   "name": "python3"
  },
  "language_info": {
   "codemirror_mode": {
    "name": "ipython",
    "version": 3
   },
   "file_extension": ".py",
   "mimetype": "text/x-python",
   "name": "python",
   "nbconvert_exporter": "python",
   "pygments_lexer": "ipython3",
   "version": "3.8.12"
  }
 },
 "nbformat": 4,
 "nbformat_minor": 5
}

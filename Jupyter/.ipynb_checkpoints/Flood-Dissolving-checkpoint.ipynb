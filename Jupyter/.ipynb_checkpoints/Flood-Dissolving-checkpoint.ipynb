{
 "cells": [
  {
   "cell_type": "code",
   "execution_count": null,
   "id": "da3de748",
   "metadata": {},
   "outputs": [],
   "source": [
    "import os\n",
    "import geopandas as gpd\n",
    "import pandas as pd\n",
    "import numpy as np\n",
    "import psycopg2\n",
    "from sqlalchemy import create_engine"
   ]
  },
  {
   "cell_type": "code",
   "execution_count": null,
   "id": "e2d5e8d6",
   "metadata": {},
   "outputs": [],
   "source": [
    "password = ''\n",
    "db_connection_url = \"postgresql://postgres:{}@localhost:5432/HSDC\".format(password)\n",
    "con = create_engine(db_connection_url)"
   ]
  },
  {
   "cell_type": "markdown",
   "id": "e02b53e5",
   "metadata": {},
   "source": [
    "## Preping vector data"
   ]
  },
  {
   "cell_type": "code",
   "execution_count": null,
   "id": "5f5cc05b",
   "metadata": {},
   "outputs": [],
   "source": [
    "# Define projection\n",
    "repro_crs = 'epsg:4326'\n",
    "\n",
    "# Load data and convert to equal area projection\n",
    "admin = gpd.GeoDataFrame.from_postgis('SELECT * from afg_admbnda_adm2', con).to_crs(repro_crs) \n",
    "flood_l1 = gpd.GeoDataFrame.from_postgis('SELECT * from afg_fldzonea_100k_ncia_v2_029cm', con, 'wkb_geometry').to_crs(repro_crs)\n",
    "flood_l2 = gpd.GeoDataFrame.from_postgis('SELECT * from afg_fldzonea_100k_ncia_v2_121cm', con, 'wkb_geometry').to_crs(repro_crs)\n",
    "flood_l3 = gpd.GeoDataFrame.from_postgis('SELECT * from afg_fldzonea_100k_ncia_v2_271cm', con, 'wkb_geometry').to_crs(repro_crs)"
   ]
  },
  {
   "cell_type": "markdown",
   "id": "a00f5cca",
   "metadata": {},
   "source": [
    "### Flood 3"
   ]
  },
  {
   "cell_type": "code",
   "execution_count": null,
   "id": "870b4326",
   "metadata": {},
   "outputs": [],
   "source": [
    "# Dissolving by province\n",
    "flood_dissolved = flood_l3.dissolve(by='deeperthan')\n",
    "flood_dissolved_clean = flood_dissolved.set_index('id')[['wkb_geometry']]"
   ]
  },
  {
   "cell_type": "code",
   "execution_count": null,
   "id": "d10bbcea",
   "metadata": {},
   "outputs": [],
   "source": [
    "# Save to PostGIS\n",
    "flood_dissolved_clean.to_postgis(\"afg_fldzonea_100k_ncia_v2_271cm_dissolve_all_v2\", con)"
   ]
  },
  {
   "cell_type": "markdown",
   "id": "9419ac35",
   "metadata": {},
   "source": [
    "### Flood 2"
   ]
  },
  {
   "cell_type": "code",
   "execution_count": null,
   "id": "388e01be",
   "metadata": {},
   "outputs": [],
   "source": [
    "# Dissolving by province\n",
    "flood_dissolved = flood_l2.dissolve(by='deeperthan')\n",
    "flood_dissolved_clean = flood_dissolved.set_index('id')[['wkb_geometry']]"
   ]
  },
  {
   "cell_type": "code",
   "execution_count": null,
   "id": "007b2a35",
   "metadata": {},
   "outputs": [],
   "source": [
    "# Save to PostGIS\n",
    "flood_dissolved_clean.to_postgis(\"afg_fldzonea_100k_ncia_v2_121cm_dissolve_all_v2\", con)"
   ]
  },
  {
   "cell_type": "markdown",
   "id": "1e483fb7",
   "metadata": {},
   "source": [
    "### Flood 1"
   ]
  },
  {
   "cell_type": "code",
   "execution_count": null,
   "id": "a7e0565a",
   "metadata": {},
   "outputs": [],
   "source": [
    "# Dissolving by province\n",
    "flood_dissolved = flood_l1.dissolve(by='deeperthan')\n",
    "flood_dissolved_clean = flood_dissolved.set_index('id')[['wkb_geometry']]"
   ]
  },
  {
   "cell_type": "code",
   "execution_count": null,
   "id": "34148c6e",
   "metadata": {},
   "outputs": [],
   "source": [
    "# Save to PostGIS\n",
    "flood_dissolved_clean.to_postgis(\"afg_fldzonea_100k_ncia_v2_029cm_dissolve_all_v2\", con)"
   ]
  }
 ],
 "metadata": {
  "kernelspec": {
   "display_name": "Python 3 (ipykernel)",
   "language": "python",
   "name": "python3"
  },
  "language_info": {
   "codemirror_mode": {
    "name": "ipython",
    "version": 3
   },
   "file_extension": ".py",
   "mimetype": "text/x-python",
   "name": "python",
   "nbconvert_exporter": "python",
   "pygments_lexer": "ipython3",
   "version": "3.8.12"
  }
 },
 "nbformat": 4,
 "nbformat_minor": 5
}

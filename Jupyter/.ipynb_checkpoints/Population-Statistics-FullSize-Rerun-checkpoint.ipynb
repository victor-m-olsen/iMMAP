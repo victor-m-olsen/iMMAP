{
 "cells": [
  {
   "cell_type": "code",
   "execution_count": 24,
   "id": "da3de748",
   "metadata": {},
   "outputs": [],
   "source": [
    "import os\n",
    "import geopandas as gpd\n",
    "import pandas as pd\n",
    "import numpy as np\n",
    "import rasterio as rio\n",
    "from rasterio.plot import show\n",
    "import matplotlib.pyplot as plt\n",
    "import pyproj\n",
    "from matplotlib import pyplot\n",
    "import rioxarray as rxr\n",
    "from rasterstats import zonal_stats\n",
    "import shapely\n",
    "import psycopg2 \n",
    "from sqlalchemy import create_engine"
   ]
  },
  {
   "cell_type": "code",
   "execution_count": 25,
   "id": "e2d5e8d6",
   "metadata": {},
   "outputs": [],
   "source": [
    "password = 'pewp7re'\n",
    "db_connection_url = \"postgresql://postgres:{}@localhost:5432/HSDC\".format(password)\n",
    "con = create_engine(db_connection_url)"
   ]
  },
  {
   "cell_type": "code",
   "execution_count": 26,
   "id": "19828fca",
   "metadata": {},
   "outputs": [],
   "source": [
    "pd.set_option('display.max_columns', None)"
   ]
  },
  {
   "cell_type": "code",
   "execution_count": 27,
   "id": "f1a71608",
   "metadata": {},
   "outputs": [],
   "source": [
    "os.chdir(r'D:\\iMMAP\\proj\\ASDC\\data\\pop_admin_layer')"
   ]
  },
  {
   "cell_type": "markdown",
   "id": "e02b53e5",
   "metadata": {},
   "source": [
    "## Preping vector data"
   ]
  },
  {
   "cell_type": "code",
   "execution_count": 28,
   "id": "5f5cc05b",
   "metadata": {},
   "outputs": [],
   "source": [
    "# OBS. Pop was added to admin layer prior to import\n",
    "# admin_path = \"SELECT * FROM afg_admbnda_adm1\"  # Load from postgres\n",
    "admin_sql = \"select * from afg_admbnda_adm2_pop\"           # Load from postgres\n",
    "sett_path = r'D:\\iMMAP\\proj\\ASDC\\data\\afg_pplp.shp'\n",
    "build_sql = \"select * from afg_buildings_microsoft_centroids\" #r'D:\\iMMAP\\data\\Afghanistan\\buildings\\microsoft_building_footprint.shp'\n",
    "\n",
    "# Load data and convert to equal area projection\n",
    "# admin = gpd.read_file(admin_path).to_crs('ESRI:53034') # Load shp\n",
    "admin = gpd.GeoDataFrame.from_postgis(admin_sql, con).to_crs('ESRI:53034')   # Load postgres table\n",
    "sett = gpd.read_file(sett_path).to_crs('ESRI:53034')\n",
    "build = gpd.GeoDataFrame.from_postgis(build_sql, con).to_crs('ESRI:53034')    #gpd.read_file(build_path).to_crs('ESRI:53034')\n",
    "# lc = gpd.read_file(lc_path)"
   ]
  },
  {
   "cell_type": "code",
   "execution_count": 29,
   "id": "314c6080",
   "metadata": {},
   "outputs": [],
   "source": [
    "# Set admin level column (will be used for joining and aggregations)\n",
    "admin_level_column = 'adm2_pcode'"
   ]
  },
  {
   "cell_type": "code",
   "execution_count": 30,
   "id": "c30f8f17",
   "metadata": {},
   "outputs": [],
   "source": [
    "# Reproject and save land cover\n",
    "#lc.set_crs('EPSG:32642').to_crs('ESRI:53034').to_file(r'input\\land-cover-dis-sample-53034.shp')"
   ]
  },
  {
   "cell_type": "code",
   "execution_count": 31,
   "id": "6f1bc370",
   "metadata": {},
   "outputs": [],
   "source": [
    "# Load reprojected land cover\n",
    "#lc = gpd.read_file(r'input\\land-cover-dis-sample-53034.shp')"
   ]
  },
  {
   "cell_type": "markdown",
   "id": "a33b176d",
   "metadata": {},
   "source": [
    "## Viewing vector data"
   ]
  },
  {
   "cell_type": "code",
   "execution_count": 32,
   "id": "4dc61926",
   "metadata": {
    "scrolled": true
   },
   "outputs": [
    {
     "data": {
      "image/png": "[encoded data removed]",
      "text/plain": [
       "<Figure size 432x288 with 1 Axes>"
      ]
     },
     "metadata": {
      "needs_background": "light"
     },
     "output_type": "display_data"
    }
   ],
   "source": [
    "# View vector\n",
    "ax = admin.plot(edgecolor='red', linewidth=2)\n",
    "ax = sett.plot(ax=ax, color = 'yellow') #, facecolor='None', edgecolor='blue', linewidth=2)"
   ]
  },
  {
   "cell_type": "markdown",
   "id": "425d41a3",
   "metadata": {},
   "source": [
    "## Area"
   ]
  },
  {
   "cell_type": "code",
   "execution_count": 33,
   "id": "0e66a215",
   "metadata": {},
   "outputs": [],
   "source": [
    "# Calculating area and converting from square m to square km\n",
    "admin['area_km2'] = admin['geom'].area.div(1000000)"
   ]
  },
  {
   "cell_type": "code",
   "execution_count": 34,
   "id": "7d0b5bd9",
   "metadata": {},
   "outputs": [],
   "source": [
    "#admin"
   ]
  },
  {
   "cell_type": "markdown",
   "id": "3a0c0aaf",
   "metadata": {},
   "source": [
    "## Settlements"
   ]
  },
  {
   "cell_type": "code",
   "execution_count": 35,
   "id": "89154b16",
   "metadata": {},
   "outputs": [
    {
     "name": "stderr",
     "output_type": "stream",
     "text": [
      "C:\\Users\\VMO\\anaconda3\\envs\\earth2\\lib\\site-packages\\IPython\\core\\interactiveshell.py:3301: FutureWarning: The `op` parameter is deprecated and will be removed in a future release. Please use the `predicate` parameter instead.\n",
      "  if await self.run_code(code, result, async_=asy):\n"
     ]
    },
    {
     "data": {
      "text/plain": [
       "adm2_pcode    0\n",
       "sett_count    0\n",
       "dtype: int64"
      ]
     },
     "execution_count": 35,
     "metadata": {},
     "output_type": "execute_result"
    }
   ],
   "source": [
    "# Join settlements to admin areas\n",
    "joined_df = gpd.sjoin(\n",
    "    sett,\n",
    "    admin,\n",
    "    how='inner',\n",
    "    op='intersects',\n",
    ")\n",
    "\n",
    "# Count number of settlement within admin polygons\n",
    "sett_count = joined_df.groupby(\n",
    "    [admin_level_column],\n",
    "    as_index=False,\n",
    ")['vuid'].count() # vuid is arbitrary, we just count the rows\n",
    "\n",
    "# Change column name to sett_count\n",
    "sett_count.rename(columns = {'vuid': 'sett_count'}, inplace = True)\n",
    "\n",
    "# QA Check - if any admin areas have no settlements\n",
    "sett_count.isnull().sum()\n",
    "\n",
    "# View results\n",
    "#sett_count"
   ]
  },
  {
   "cell_type": "code",
   "execution_count": 36,
   "id": "d890601b",
   "metadata": {},
   "outputs": [],
   "source": [
    "# Merge sett count back on to admin dataset\n",
    "admin = admin.merge(\n",
    "    sett_count, \n",
    "    on=admin_level_column, \n",
    "    how='left')\n",
    "\n",
    "#admin"
   ]
  },
  {
   "cell_type": "markdown",
   "id": "f46e4264",
   "metadata": {},
   "source": [
    "## Buildings"
   ]
  },
  {
   "cell_type": "code",
   "execution_count": 37,
   "id": "dac7eb86",
   "metadata": {},
   "outputs": [],
   "source": [
    "## Convert building polygons to centroid points\n",
    "#\n",
    "## Convert building geodataframe to geoseries\n",
    "#build_centroids = build.geometry\n",
    "#\n",
    "## Create a geoseries with just the centroids\n",
    "#build_centroids = build_centroids.centroid\n",
    "#\n",
    "## Convert geoseries to geodataframe\n",
    "#build_centroids= gpd.GeoDataFrame(build_centroids)\n",
    "#\n",
    "## Rename column\n",
    "#build_centroids.rename(columns = {0: 'geo'}, inplace = True)\n",
    "#\n",
    "## Setting geometry columns specifically\n",
    "#build_centroids.geometry = build_centroids['geo']"
   ]
  },
  {
   "cell_type": "code",
   "execution_count": 38,
   "id": "b3971001",
   "metadata": {},
   "outputs": [
    {
     "name": "stderr",
     "output_type": "stream",
     "text": [
      "C:\\Users\\VMO\\anaconda3\\envs\\earth2\\lib\\site-packages\\IPython\\core\\interactiveshell.py:3301: FutureWarning: The `op` parameter is deprecated and will be removed in a future release. Please use the `predicate` parameter instead.\n",
      "  if await self.run_code(code, result, async_=asy):\n"
     ]
    },
    {
     "data": {
      "text/plain": [
       "adm2_pcode     0\n",
       "build_count    0\n",
       "dtype: int64"
      ]
     },
     "execution_count": 38,
     "metadata": {},
     "output_type": "execute_result"
    }
   ],
   "source": [
    "build_centroids = build\n",
    "\n",
    "# Join building to admin areas\n",
    "joined_df = gpd.sjoin(\n",
    "    build_centroids,\n",
    "    admin,\n",
    "    how='inner',\n",
    "    op='intersects'\n",
    ")\n",
    "\n",
    "# Count number of buildings within admin polygons\n",
    "build_count = joined_df.groupby(\n",
    "    [admin_level_column],\n",
    "    as_index=False,\n",
    ")['geom'].count() # vuid is arbitrary, we just count the rows\n",
    "\n",
    "# Change column name to build_count\n",
    "build_count.rename(columns = {'geom': 'build_count'}, inplace = True)\n",
    "\n",
    "# QA Check - if any admin areas have no buildings\n",
    "build_count.isnull().sum()\n",
    "\n",
    "# View results\n",
    "#build_count"
   ]
  },
  {
   "cell_type": "code",
   "execution_count": 39,
   "id": "a503dbb0",
   "metadata": {},
   "outputs": [],
   "source": [
    "# Merge build count back on to admin dataset\n",
    "admin = admin.merge(\n",
    "    build_count, \n",
    "    on=admin_level_column, \n",
    "    how='left')"
   ]
  },
  {
   "cell_type": "markdown",
   "id": "bdf0681e",
   "metadata": {},
   "source": [
    "## Population Density"
   ]
  },
  {
   "cell_type": "code",
   "execution_count": 40,
   "id": "bc59585b",
   "metadata": {},
   "outputs": [],
   "source": [
    "# Rename pop column\n",
    "admin.rename(columns={'_sum':'pop_sum'}, inplace=True)"
   ]
  },
  {
   "cell_type": "code",
   "execution_count": 41,
   "id": "672b1ec8",
   "metadata": {},
   "outputs": [],
   "source": [
    "#admin"
   ]
  },
  {
   "cell_type": "code",
   "execution_count": 42,
   "id": "2099545f",
   "metadata": {},
   "outputs": [],
   "source": [
    "# Rename pop column\n",
    "admin.rename(columns={'_sum': 'pop_sum'})\n",
    "#df.rename(columns={\"A\": \"a\", \"B\": \"c\"})\n",
    "\n",
    "# Calculate population density\n",
    "admin['pop_density'] = admin['pop_sum'] / admin['area_km2']\n",
    "\n",
    "# Calculate people per building\n",
    "admin['people_building'] = admin['pop_sum'] / admin['build_count']\n",
    "\n",
    "#admin"
   ]
  },
  {
   "cell_type": "markdown",
   "id": "69194d71",
   "metadata": {},
   "source": [
    "## Export results"
   ]
  },
  {
   "cell_type": "code",
   "execution_count": 43,
   "id": "5dab0f1d",
   "metadata": {},
   "outputs": [],
   "source": [
    "# Save to shp\n",
    "#\"admin.to_crs('EPSG:4326').to_file(r'output/pop_adm_full.shp')\n",
    "admin = admin.to_crs('EPSG:4326')"
   ]
  },
  {
   "cell_type": "code",
   "execution_count": 44,
   "id": "7ffd7762",
   "metadata": {},
   "outputs": [],
   "source": [
    "# Save to PostGIS\n",
    "admin.to_postgis(\"afg_admbnda_adm2_pop_stats_v02\", con)"
   ]
  },
  {
   "cell_type": "code",
   "execution_count": null,
   "id": "011182bd",
   "metadata": {},
   "outputs": [],
   "source": []
  }
 ],
 "metadata": {
  "kernelspec": {
   "display_name": "Python 3 (ipykernel)",
   "language": "python",
   "name": "python3"
  },
  "language_info": {
   "codemirror_mode": {
    "name": "ipython",
    "version": 3
   },
   "file_extension": ".py",
   "mimetype": "text/x-python",
   "name": "python",
   "nbconvert_exporter": "python",
   "pygments_lexer": "ipython3",
   "version": "3.8.12"
  }
 },
 "nbformat": 4,
 "nbformat_minor": 5
}

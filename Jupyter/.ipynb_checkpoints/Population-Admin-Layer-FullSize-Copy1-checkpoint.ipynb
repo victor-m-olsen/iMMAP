{
 "cells": [
  {
   "cell_type": "code",
   "execution_count": 55,
   "id": "da3de748",
   "metadata": {},
   "outputs": [],
   "source": [
    "import os\n",
    "import geopandas as gpd\n",
    "import pandas as pd\n",
    "import numpy as np\n",
    "import rasterio as rio\n",
    "from rasterio.plot import show\n",
    "import matplotlib.pyplot as plt\n",
    "import pyproj\n",
    "from matplotlib import pyplot\n",
    "import rioxarray as rxr\n",
    "from rasterstats import zonal_stats\n",
    "import shapely"
   ]
  },
  {
   "cell_type": "code",
   "execution_count": 56,
   "id": "f1a71608",
   "metadata": {},
   "outputs": [],
   "source": [
    "os.chdir(r'D:\\iMMAP\\proj\\ASDC\\data\\pop_admin_layer')"
   ]
  },
  {
   "cell_type": "markdown",
   "id": "e02b53e5",
   "metadata": {},
   "source": [
    "## Preping and checking data"
   ]
  },
  {
   "cell_type": "code",
   "execution_count": 54,
   "id": "5f5cc05b",
   "metadata": {},
   "outputs": [
    {
     "ename": "KeyboardInterrupt",
     "evalue": "",
     "output_type": "error",
     "traceback": [
      "\u001b[1;31m---------------------------------------------------------------------------\u001b[0m",
      "\u001b[1;31mKeyboardInterrupt\u001b[0m                         Traceback (most recent call last)",
      "Input \u001b[1;32mIn [54]\u001b[0m, in \u001b[0;36m<cell line: 9>\u001b[1;34m()\u001b[0m\n\u001b[0;32m      7\u001b[0m admin \u001b[38;5;241m=\u001b[39m gpd\u001b[38;5;241m.\u001b[39mread_file(admin_path)\u001b[38;5;241m.\u001b[39mto_crs(\u001b[38;5;124m'\u001b[39m\u001b[38;5;124mESRI:53034\u001b[39m\u001b[38;5;124m'\u001b[39m)\n\u001b[0;32m      8\u001b[0m sett \u001b[38;5;241m=\u001b[39m gpd\u001b[38;5;241m.\u001b[39mread_file(sett_path)\u001b[38;5;241m.\u001b[39mto_crs(\u001b[38;5;124m'\u001b[39m\u001b[38;5;124mESRI:53034\u001b[39m\u001b[38;5;124m'\u001b[39m)\n\u001b[1;32m----> 9\u001b[0m build \u001b[38;5;241m=\u001b[39m \u001b[43mgpd\u001b[49m\u001b[38;5;241;43m.\u001b[39;49m\u001b[43mread_file\u001b[49m\u001b[43m(\u001b[49m\u001b[43mbuild_path\u001b[49m\u001b[43m)\u001b[49m\u001b[38;5;241m.\u001b[39mto_crs(\u001b[38;5;124m'\u001b[39m\u001b[38;5;124mESRI:53034\u001b[39m\u001b[38;5;124m'\u001b[39m)\n",
      "File \u001b[1;32m~\\anaconda3\\envs\\earth2\\lib\\site-packages\\geopandas\\io\\file.py:259\u001b[0m, in \u001b[0;36m_read_file\u001b[1;34m(filename, bbox, mask, rows, engine, **kwargs)\u001b[0m\n\u001b[0;32m    256\u001b[0m     path_or_bytes \u001b[38;5;241m=\u001b[39m filename\n\u001b[0;32m    258\u001b[0m \u001b[38;5;28;01mif\u001b[39;00m engine \u001b[38;5;241m==\u001b[39m \u001b[38;5;124m\"\u001b[39m\u001b[38;5;124mfiona\u001b[39m\u001b[38;5;124m\"\u001b[39m:\n\u001b[1;32m--> 259\u001b[0m     \u001b[38;5;28;01mreturn\u001b[39;00m \u001b[43m_read_file_fiona\u001b[49m\u001b[43m(\u001b[49m\n\u001b[0;32m    260\u001b[0m \u001b[43m        \u001b[49m\u001b[43mpath_or_bytes\u001b[49m\u001b[43m,\u001b[49m\u001b[43m \u001b[49m\u001b[43mfrom_bytes\u001b[49m\u001b[43m,\u001b[49m\u001b[43m \u001b[49m\u001b[43mbbox\u001b[49m\u001b[38;5;241;43m=\u001b[39;49m\u001b[43mbbox\u001b[49m\u001b[43m,\u001b[49m\u001b[43m \u001b[49m\u001b[43mmask\u001b[49m\u001b[38;5;241;43m=\u001b[39;49m\u001b[43mmask\u001b[49m\u001b[43m,\u001b[49m\u001b[43m \u001b[49m\u001b[43mrows\u001b[49m\u001b[38;5;241;43m=\u001b[39;49m\u001b[43mrows\u001b[49m\u001b[43m,\u001b[49m\u001b[43m \u001b[49m\u001b[38;5;241;43m*\u001b[39;49m\u001b[38;5;241;43m*\u001b[39;49m\u001b[43mkwargs\u001b[49m\n\u001b[0;32m    261\u001b[0m \u001b[43m    \u001b[49m\u001b[43m)\u001b[49m\n\u001b[0;32m    262\u001b[0m \u001b[38;5;28;01melif\u001b[39;00m engine \u001b[38;5;241m==\u001b[39m \u001b[38;5;124m\"\u001b[39m\u001b[38;5;124mpyogrio\u001b[39m\u001b[38;5;124m\"\u001b[39m:\n\u001b[0;32m    263\u001b[0m     \u001b[38;5;28;01mreturn\u001b[39;00m _read_file_pyogrio(\n\u001b[0;32m    264\u001b[0m         path_or_bytes, bbox\u001b[38;5;241m=\u001b[39mbbox, mask\u001b[38;5;241m=\u001b[39mmask, rows\u001b[38;5;241m=\u001b[39mrows, \u001b[38;5;241m*\u001b[39m\u001b[38;5;241m*\u001b[39mkwargs\n\u001b[0;32m    265\u001b[0m     )\n",
      "File \u001b[1;32m~\\anaconda3\\envs\\earth2\\lib\\site-packages\\geopandas\\io\\file.py:360\u001b[0m, in \u001b[0;36m_read_file_fiona\u001b[1;34m(path_or_bytes, from_bytes, bbox, mask, rows, where, **kwargs)\u001b[0m\n\u001b[0;32m    356\u001b[0m     df \u001b[38;5;241m=\u001b[39m pd\u001b[38;5;241m.\u001b[39mDataFrame(\n\u001b[0;32m    357\u001b[0m         [record[\u001b[38;5;124m\"\u001b[39m\u001b[38;5;124mproperties\u001b[39m\u001b[38;5;124m\"\u001b[39m] \u001b[38;5;28;01mfor\u001b[39;00m record \u001b[38;5;129;01min\u001b[39;00m f_filt], columns\u001b[38;5;241m=\u001b[39mcolumns\n\u001b[0;32m    358\u001b[0m     )\n\u001b[0;32m    359\u001b[0m \u001b[38;5;28;01melse\u001b[39;00m:\n\u001b[1;32m--> 360\u001b[0m     df \u001b[38;5;241m=\u001b[39m \u001b[43mGeoDataFrame\u001b[49m\u001b[38;5;241;43m.\u001b[39;49m\u001b[43mfrom_features\u001b[49m\u001b[43m(\u001b[49m\n\u001b[0;32m    361\u001b[0m \u001b[43m        \u001b[49m\u001b[43mf_filt\u001b[49m\u001b[43m,\u001b[49m\u001b[43m \u001b[49m\u001b[43mcrs\u001b[49m\u001b[38;5;241;43m=\u001b[39;49m\u001b[43mcrs\u001b[49m\u001b[43m,\u001b[49m\u001b[43m \u001b[49m\u001b[43mcolumns\u001b[49m\u001b[38;5;241;43m=\u001b[39;49m\u001b[43mcolumns\u001b[49m\u001b[43m \u001b[49m\u001b[38;5;241;43m+\u001b[39;49m\u001b[43m \u001b[49m\u001b[43m[\u001b[49m\u001b[38;5;124;43m\"\u001b[39;49m\u001b[38;5;124;43mgeometry\u001b[39;49m\u001b[38;5;124;43m\"\u001b[39;49m\u001b[43m]\u001b[49m\n\u001b[0;32m    362\u001b[0m \u001b[43m    \u001b[49m\u001b[43m)\u001b[49m\n\u001b[0;32m    363\u001b[0m \u001b[38;5;28;01mfor\u001b[39;00m k \u001b[38;5;129;01min\u001b[39;00m datetime_fields:\n\u001b[0;32m    364\u001b[0m     as_dt \u001b[38;5;241m=\u001b[39m pd\u001b[38;5;241m.\u001b[39mto_datetime(df[k], errors\u001b[38;5;241m=\u001b[39m\u001b[38;5;124m\"\u001b[39m\u001b[38;5;124mignore\u001b[39m\u001b[38;5;124m\"\u001b[39m)\n",
      "File \u001b[1;32m~\\anaconda3\\envs\\earth2\\lib\\site-packages\\geopandas\\geodataframe.py:635\u001b[0m, in \u001b[0;36mGeoDataFrame.from_features\u001b[1;34m(cls, features, crs, columns)\u001b[0m\n\u001b[0;32m    632\u001b[0m \u001b[38;5;28;01mif\u001b[39;00m \u001b[38;5;28mhasattr\u001b[39m(feature, \u001b[38;5;124m\"\u001b[39m\u001b[38;5;124m__geo_interface__\u001b[39m\u001b[38;5;124m\"\u001b[39m):\n\u001b[0;32m    633\u001b[0m     feature \u001b[38;5;241m=\u001b[39m feature\u001b[38;5;241m.\u001b[39m__geo_interface__\n\u001b[0;32m    634\u001b[0m row \u001b[38;5;241m=\u001b[39m {\n\u001b[1;32m--> 635\u001b[0m     \u001b[38;5;124m\"\u001b[39m\u001b[38;5;124mgeometry\u001b[39m\u001b[38;5;124m\"\u001b[39m: \u001b[43mshape\u001b[49m\u001b[43m(\u001b[49m\u001b[43mfeature\u001b[49m\u001b[43m[\u001b[49m\u001b[38;5;124;43m\"\u001b[39;49m\u001b[38;5;124;43mgeometry\u001b[39;49m\u001b[38;5;124;43m\"\u001b[39;49m\u001b[43m]\u001b[49m\u001b[43m)\u001b[49m \u001b[38;5;28;01mif\u001b[39;00m feature[\u001b[38;5;124m\"\u001b[39m\u001b[38;5;124mgeometry\u001b[39m\u001b[38;5;124m\"\u001b[39m] \u001b[38;5;28;01melse\u001b[39;00m \u001b[38;5;28;01mNone\u001b[39;00m\n\u001b[0;32m    636\u001b[0m }\n\u001b[0;32m    637\u001b[0m \u001b[38;5;66;03m# load properties\u001b[39;00m\n\u001b[0;32m    638\u001b[0m properties \u001b[38;5;241m=\u001b[39m feature[\u001b[38;5;124m\"\u001b[39m\u001b[38;5;124mproperties\u001b[39m\u001b[38;5;124m\"\u001b[39m]\n",
      "File \u001b[1;32m~\\anaconda3\\envs\\earth2\\lib\\site-packages\\shapely\\geometry\\geo.py:112\u001b[0m, in \u001b[0;36mshape\u001b[1;34m(context)\u001b[0m\n\u001b[0;32m    110\u001b[0m     \u001b[38;5;28;01mreturn\u001b[39;00m LinearRing(ob[\u001b[38;5;124m\"\u001b[39m\u001b[38;5;124mcoordinates\u001b[39m\u001b[38;5;124m\"\u001b[39m])\n\u001b[0;32m    111\u001b[0m \u001b[38;5;28;01melif\u001b[39;00m geom_type \u001b[38;5;241m==\u001b[39m \u001b[38;5;124m\"\u001b[39m\u001b[38;5;124mpolygon\u001b[39m\u001b[38;5;124m\"\u001b[39m:\n\u001b[1;32m--> 112\u001b[0m     \u001b[38;5;28;01mreturn\u001b[39;00m \u001b[43mPolygon\u001b[49m\u001b[43m(\u001b[49m\u001b[43mob\u001b[49m\u001b[43m[\u001b[49m\u001b[38;5;124;43m\"\u001b[39;49m\u001b[38;5;124;43mcoordinates\u001b[39;49m\u001b[38;5;124;43m\"\u001b[39;49m\u001b[43m]\u001b[49m\u001b[43m[\u001b[49m\u001b[38;5;241;43m0\u001b[39;49m\u001b[43m]\u001b[49m\u001b[43m,\u001b[49m\u001b[43m \u001b[49m\u001b[43mob\u001b[49m\u001b[43m[\u001b[49m\u001b[38;5;124;43m\"\u001b[39;49m\u001b[38;5;124;43mcoordinates\u001b[39;49m\u001b[38;5;124;43m\"\u001b[39;49m\u001b[43m]\u001b[49m\u001b[43m[\u001b[49m\u001b[38;5;241;43m1\u001b[39;49m\u001b[43m:\u001b[49m\u001b[43m]\u001b[49m\u001b[43m)\u001b[49m\n\u001b[0;32m    113\u001b[0m \u001b[38;5;28;01melif\u001b[39;00m geom_type \u001b[38;5;241m==\u001b[39m \u001b[38;5;124m\"\u001b[39m\u001b[38;5;124mmultipoint\u001b[39m\u001b[38;5;124m\"\u001b[39m:\n\u001b[0;32m    114\u001b[0m     \u001b[38;5;28;01mreturn\u001b[39;00m MultiPoint(ob[\u001b[38;5;124m\"\u001b[39m\u001b[38;5;124mcoordinates\u001b[39m\u001b[38;5;124m\"\u001b[39m])\n",
      "File \u001b[1;32m~\\anaconda3\\envs\\earth2\\lib\\site-packages\\shapely\\geometry\\polygon.py:261\u001b[0m, in \u001b[0;36mPolygon.__init__\u001b[1;34m(self, shell, holes)\u001b[0m\n\u001b[0;32m    258\u001b[0m BaseGeometry\u001b[38;5;241m.\u001b[39m\u001b[38;5;21m__init__\u001b[39m(\u001b[38;5;28mself\u001b[39m)\n\u001b[0;32m    260\u001b[0m \u001b[38;5;28;01mif\u001b[39;00m shell \u001b[38;5;129;01mis\u001b[39;00m \u001b[38;5;129;01mnot\u001b[39;00m \u001b[38;5;28;01mNone\u001b[39;00m:\n\u001b[1;32m--> 261\u001b[0m     ret \u001b[38;5;241m=\u001b[39m \u001b[43mgeos_polygon_from_py\u001b[49m\u001b[43m(\u001b[49m\u001b[43mshell\u001b[49m\u001b[43m,\u001b[49m\u001b[43m \u001b[49m\u001b[43mholes\u001b[49m\u001b[43m)\u001b[49m\n\u001b[0;32m    262\u001b[0m     \u001b[38;5;28;01mif\u001b[39;00m ret \u001b[38;5;129;01mis\u001b[39;00m \u001b[38;5;129;01mnot\u001b[39;00m \u001b[38;5;28;01mNone\u001b[39;00m:\n\u001b[0;32m    263\u001b[0m         geom, n \u001b[38;5;241m=\u001b[39m ret\n",
      "File \u001b[1;32m~\\anaconda3\\envs\\earth2\\lib\\site-packages\\shapely\\geometry\\polygon.py:569\u001b[0m, in \u001b[0;36mgeos_polygon_from_py\u001b[1;34m(shell, holes)\u001b[0m\n\u001b[0;32m    565\u001b[0m     geos_holes \u001b[38;5;241m=\u001b[39m POINTER(c_void_p)()\n\u001b[0;32m    566\u001b[0m     L \u001b[38;5;241m=\u001b[39m \u001b[38;5;241m0\u001b[39m\n\u001b[0;32m    568\u001b[0m \u001b[38;5;28;01mreturn\u001b[39;00m (\n\u001b[1;32m--> 569\u001b[0m     \u001b[43mlgeos\u001b[49m\u001b[38;5;241;43m.\u001b[39;49m\u001b[43mGEOSGeom_createPolygon\u001b[49m\u001b[43m(\u001b[49m\n\u001b[0;32m    570\u001b[0m \u001b[43m        \u001b[49m\u001b[43mc_void_p\u001b[49m\u001b[43m(\u001b[49m\u001b[43mgeos_shell\u001b[49m\u001b[43m)\u001b[49m\u001b[43m,\u001b[49m\u001b[43m \u001b[49m\u001b[43mgeos_holes\u001b[49m\u001b[43m,\u001b[49m\u001b[43m \u001b[49m\u001b[43mL\u001b[49m\u001b[43m)\u001b[49m, ndim)\n",
      "\u001b[1;31mKeyboardInterrupt\u001b[0m: "
     ]
    }
   ],
   "source": [
    "\n",
    "admin_path = r'D:\\iMMAP\\data\\Afghanistan\\AFG_AdminBoundaries_AGCHO_20211117\\Shapefiles\\afg_admbnda_adm1_agcho_20211117.shp'\n",
    "sett_path = r'D:\\iMMAP\\data\\Afghanistan\\Villages Data for Afghanistan\\Villages Data for Afghanistan\\AFG_Villages.shp'\n",
    "build_path = r'D:\\iMMAP\\data\\Afghanistan\\microsoft_building_footprint.shp'\n",
    "#lc_path\n",
    "\n",
    "# Load data and convert to equal area projection\n",
    "admin = gpd.read_file(admin_path).to_crs('ESRI:53034')\n",
    "sett = gpd.read_file(sett_path).to_crs('ESRI:53034')\n",
    "build = gpd.read_file(build_path).to_crs('ESRI:53034')\n",
    "#lc = gpd.read_file(lc_path)\n"
   ]
  },
  {
   "cell_type": "code",
   "execution_count": 57,
   "id": "69ce81a8",
   "metadata": {},
   "outputs": [],
   "source": [
    "pop_path = r'D:\\iMMAP\\data\\Afghanistan\\Population\\afg_ppp_2020.tif'\n",
    "\n",
    "pop = rio.open(pop_path, masked=True) #, masked=True"
   ]
  },
  {
   "cell_type": "code",
   "execution_count": 58,
   "id": "033990f1",
   "metadata": {},
   "outputs": [
    {
     "data": {
      "text/plain": [
       "'r'"
      ]
     },
     "execution_count": 58,
     "metadata": {},
     "output_type": "execute_result"
    }
   ],
   "source": [
    "pop.mode"
   ]
  },
  {
   "cell_type": "code",
   "execution_count": 59,
   "id": "49bc2eb2",
   "metadata": {},
   "outputs": [
    {
     "data": {
      "text/plain": [
       "'D:/iMMAP/data/Afghanistan/Population/afg_ppp_2020.tif'"
      ]
     },
     "execution_count": 59,
     "metadata": {},
     "output_type": "execute_result"
    }
   ],
   "source": [
    "pop.name"
   ]
  },
  {
   "cell_type": "code",
   "execution_count": 60,
   "id": "ae0a5b91",
   "metadata": {},
   "outputs": [
    {
     "data": {
      "text/plain": [
       "{'driver': 'GTiff',\n",
       " 'dtype': 'float32',\n",
       " 'nodata': -99999.0,\n",
       " 'width': 17267,\n",
       " 'height': 10955,\n",
       " 'count': 1,\n",
       " 'crs': CRS.from_wkt('GEOGCS[\"WGS 84\",DATUM[\"World Geodetic System 1984\",SPHEROID[\"WGS 84\",6378137,298.257223563]],PRIMEM[\"Greenwich\",0],UNIT[\"degree\",0.0174532925199433,AUTHORITY[\"EPSG\",\"9122\"]],AXIS[\"Latitude\",NORTH],AXIS[\"Longitude\",EAST]]'),\n",
       " 'transform': Affine(0.0008333333299936294, 0.0, 60.504583106,\n",
       "        0.0, -0.0008333333299863073, 38.490416714)}"
      ]
     },
     "execution_count": 60,
     "metadata": {},
     "output_type": "execute_result"
    }
   ],
   "source": [
    "pop.meta"
   ]
  },
  {
   "cell_type": "code",
   "execution_count": 61,
   "id": "6999a8d8",
   "metadata": {},
   "outputs": [
    {
     "data": {
      "text/plain": [
       "1"
      ]
     },
     "execution_count": 61,
     "metadata": {},
     "output_type": "execute_result"
    }
   ],
   "source": [
    "pop.count"
   ]
  },
  {
   "cell_type": "code",
   "execution_count": 62,
   "id": "4ccad0d8",
   "metadata": {},
   "outputs": [
    {
     "data": {
      "text/plain": [
       "17267"
      ]
     },
     "execution_count": 62,
     "metadata": {},
     "output_type": "execute_result"
    }
   ],
   "source": [
    "pop.width"
   ]
  },
  {
   "cell_type": "code",
   "execution_count": 63,
   "id": "b1d28155",
   "metadata": {},
   "outputs": [
    {
     "data": {
      "text/plain": [
       "10955"
      ]
     },
     "execution_count": 63,
     "metadata": {},
     "output_type": "execute_result"
    }
   ],
   "source": [
    "pop.height"
   ]
  },
  {
   "cell_type": "code",
   "execution_count": 64,
   "id": "e3c66d35",
   "metadata": {},
   "outputs": [
    {
     "data": {
      "text/plain": [
       "CRS.from_wkt('GEOGCS[\"WGS 84\",DATUM[\"World Geodetic System 1984\",SPHEROID[\"WGS 84\",6378137,298.257223563]],PRIMEM[\"Greenwich\",0],UNIT[\"degree\",0.0174532925199433,AUTHORITY[\"EPSG\",\"9122\"]],AXIS[\"Latitude\",NORTH],AXIS[\"Longitude\",EAST]]')"
      ]
     },
     "execution_count": 64,
     "metadata": {},
     "output_type": "execute_result"
    }
   ],
   "source": [
    "pop.crs"
   ]
  },
  {
   "cell_type": "code",
   "execution_count": 65,
   "id": "90683a8a",
   "metadata": {},
   "outputs": [
    {
     "data": {
      "text/plain": [
       "Affine(0.0008333333299936294, 0.0, 60.504583106,\n",
       "       0.0, -0.0008333333299863073, 38.490416714)"
      ]
     },
     "execution_count": 65,
     "metadata": {},
     "output_type": "execute_result"
    }
   ],
   "source": [
    "pop.transform"
   ]
  },
  {
   "cell_type": "code",
   "execution_count": 66,
   "id": "85fbcf52",
   "metadata": {},
   "outputs": [
    {
     "data": {
      "text/plain": [
       "BoundingBox(left=60.504583106, bottom=29.361250084, right=74.893749715, top=38.490416714)"
      ]
     },
     "execution_count": 66,
     "metadata": {},
     "output_type": "execute_result"
    }
   ],
   "source": [
    "pop.bounds"
   ]
  },
  {
   "cell_type": "code",
   "execution_count": 67,
   "id": "8cd58549",
   "metadata": {},
   "outputs": [
    {
     "data": {
      "image/svg+xml": [
       "<svg xmlns=\"http://www.w3.org/2000/svg\" xmlns:xlink=\"http://www.w3.org/1999/xlink\" width=\"100.0\" height=\"100.0\" viewBox=\"59.92901644164 28.78568341964 15.540299937719993 10.280299958719993\" preserveAspectRatio=\"xMinYMin meet\"><g transform=\"matrix(1,0,0,-1,0,67.851666798)\"><path fill-rule=\"evenodd\" fill=\"#66cc99\" stroke=\"#555555\" stroke-width=\"0.31080599875439985\" opacity=\"0.6\" d=\"M 74.893749715,29.361250084 L 74.893749715,38.490416714 L 60.504583106,38.490416714 L 60.504583106,29.361250084 L 74.893749715,29.361250084 z\" /></g></svg>"
      ],
      "text/plain": [
       "<shapely.geometry.polygon.Polygon at 0x20f9baec3a0>"
      ]
     },
     "execution_count": 67,
     "metadata": {},
     "output_type": "execute_result"
    }
   ],
   "source": [
    "shapely.geometry.box(*pop.bounds)"
   ]
  },
  {
   "cell_type": "code",
   "execution_count": 38,
   "id": "7988c5c7",
   "metadata": {},
   "outputs": [
    {
     "data": {
      "image/png": "[encoded data removed]",
      "text/plain": [
       "<Figure size 432x288 with 1 Axes>"
      ]
     },
     "metadata": {
      "needs_background": "light"
     },
     "output_type": "display_data"
    },
    {
     "data": {
      "text/plain": [
       "<AxesSubplot:>"
      ]
     },
     "execution_count": 38,
     "metadata": {},
     "output_type": "execute_result"
    }
   ],
   "source": [
    "#show(pop)"
   ]
  },
  {
   "cell_type": "code",
   "execution_count": null,
   "id": "a64590f3",
   "metadata": {},
   "outputs": [],
   "source": [
    "#pop_read = pop.read()\n",
    "#p = pop_read[0]"
   ]
  },
  {
   "cell_type": "code",
   "execution_count": 90,
   "id": "6f76678c",
   "metadata": {},
   "outputs": [
    {
     "data": {
      "text/plain": [
       "'r'"
      ]
     },
     "execution_count": 90,
     "metadata": {},
     "output_type": "execute_result"
    }
   ],
   "source": [
    "pop"
   ]
  },
  {
   "cell_type": "code",
   "execution_count": 82,
   "id": "3395e049",
   "metadata": {},
   "outputs": [
    {
     "data": {
      "text/plain": [
       "array([[[-999990016, -999990016, -999990016, ..., -999990016,\n",
       "         -999990016, -999990016],\n",
       "        [-999990016, -999990016, -999990016, ..., -999990016,\n",
       "         -999990016, -999990016],\n",
       "        [-999990016, -999990016, -999990016, ..., -999990016,\n",
       "         -999990016, -999990016],\n",
       "        ...,\n",
       "        [-999990016, -999990016, -999990016, ..., -999990016,\n",
       "         -999990016, -999990016],\n",
       "        [-999990016, -999990016, -999990016, ..., -999990016,\n",
       "         -999990016, -999990016],\n",
       "        [-999990016, -999990016, -999990016, ..., -999990016,\n",
       "         -999990016, -999990016]]])"
      ]
     },
     "execution_count": 82,
     "metadata": {},
     "output_type": "execute_result"
    }
   ],
   "source": [
    "pop_read_rescale = pop_read * 10000\n",
    "pop_read_rescale_int = pop_read_rescale.astype(int)\n",
    "\n",
    "pop_read_rescale_int"
   ]
  },
  {
   "cell_type": "code",
   "execution_count": 88,
   "id": "185e44d2",
   "metadata": {},
   "outputs": [
    {
     "ename": "AttributeError",
     "evalue": "'numpy.ndarray' object has no attribute 'mode'",
     "output_type": "error",
     "traceback": [
      "\u001b[1;31m---------------------------------------------------------------------------\u001b[0m",
      "\u001b[1;31mAttributeError\u001b[0m                            Traceback (most recent call last)",
      "Input \u001b[1;32mIn [88]\u001b[0m, in \u001b[0;36m<cell line: 1>\u001b[1;34m()\u001b[0m\n\u001b[1;32m----> 1\u001b[0m \u001b[43mpop_read_rescale_int\u001b[49m\u001b[38;5;241;43m.\u001b[39;49m\u001b[43mmode\u001b[49m\n",
      "\u001b[1;31mAttributeError\u001b[0m: 'numpy.ndarray' object has no attribute 'mode'"
     ]
    }
   ],
   "source": []
  },
  {
   "cell_type": "code",
   "execution_count": 61,
   "id": "b6d8ba83",
   "metadata": {},
   "outputs": [],
   "source": [
    "\n",
    "#np.printoptions(threshold = np.inf)\n",
    "#pop_np = np.array(pop.read())\n",
    "#pop = pop_np.astype(int)\n",
    "\n",
    "\n",
    "\n",
    "#rounded_down_integer_array = pop_np.astype('int')\n",
    "\n",
    "\n",
    "#\n",
    "#import numpy as np\n",
    "#\n",
    "#og_array = np.array([[11.21, 19.21], [46.21, 18.21], [29.21, 21.21]])\n",
    "#type(og_array)\n",
    "#\n",
    "#print('After converting numpy float array to int array')\n",
    "#int_array = og_array.astype(int)\n",
    "#print(int_array)"
   ]
  },
  {
   "cell_type": "code",
   "execution_count": 13,
   "id": "c30f8f17",
   "metadata": {},
   "outputs": [],
   "source": [
    "# Reproject and save land cover\n",
    "#lc.set_crs('EPSG:32642').to_crs('ESRI:53034').to_file(r'input\\land-cover-dis-sample-53034.shp')"
   ]
  },
  {
   "cell_type": "code",
   "execution_count": 14,
   "id": "6f1bc370",
   "metadata": {},
   "outputs": [],
   "source": [
    "# Load reprojected land cover\n",
    "#lc = gpd.read_file(r'input\\land-cover-dis-sample-53034.shp')"
   ]
  },
  {
   "cell_type": "code",
   "execution_count": 59,
   "id": "d9acde26",
   "metadata": {},
   "outputs": [
    {
     "data": {
      "text/plain": [
       "<matplotlib.image.AxesImage at 0x1c6cd1eb070>"
      ]
     },
     "execution_count": 59,
     "metadata": {},
     "output_type": "execute_result"
    },
    {
     "data": {
      "image/png": "[encoded data removed]",
      "text/plain": [
       "<Figure size 432x288 with 1 Axes>"
      ]
     },
     "metadata": {
      "needs_background": "light"
     },
     "output_type": "display_data"
    }
   ],
   "source": [
    "# View raster\n",
    "pyplot.imshow(pop.read(1), cmap='pink')"
   ]
  },
  {
   "cell_type": "code",
   "execution_count": 60,
   "id": "4dc61926",
   "metadata": {
    "scrolled": true
   },
   "outputs": [
    {
     "data": {
      "image/png": "[encoded data removed]",
      "text/plain": [
       "<Figure size 432x288 with 1 Axes>"
      ]
     },
     "metadata": {
      "needs_background": "light"
     },
     "output_type": "display_data"
    }
   ],
   "source": [
    "# View vector\n",
    "ax = admin.plot(edgecolor='red', linewidth=2)\n",
    "ax = sett.plot(ax=ax, color = 'yellow') #, facecolor='None', edgecolor='blue', linewidth=2)\n",
    "\n",
    "#show((pop, 1), ax=ax)"
   ]
  },
  {
   "cell_type": "markdown",
   "id": "b173e085",
   "metadata": {},
   "source": [
    "## Population"
   ]
  },
  {
   "cell_type": "code",
   "execution_count": 84,
   "id": "05803e46",
   "metadata": {},
   "outputs": [],
   "source": [
    "# Read the raster values\n",
    "array = pop_read_rescale_int#pop.read(1)\n",
    "\n",
    "# Get the affine\n",
    "affine = pop.transform"
   ]
  },
  {
   "cell_type": "code",
   "execution_count": 85,
   "id": "ac9a548d",
   "metadata": {},
   "outputs": [
    {
     "ename": "ValueError",
     "evalue": "Must pass 2-d input. shape=(1, 10955, 17267)",
     "output_type": "error",
     "traceback": [
      "\u001b[1;31m---------------------------------------------------------------------------\u001b[0m",
      "\u001b[1;31mValueError\u001b[0m                                Traceback (most recent call last)",
      "Input \u001b[1;32mIn [85]\u001b[0m, in \u001b[0;36m<cell line: 4>\u001b[1;34m()\u001b[0m\n\u001b[0;32m      1\u001b[0m \u001b[38;5;66;03m# View histogram and statistics\u001b[39;00m\n\u001b[0;32m      2\u001b[0m np\u001b[38;5;241m.\u001b[39mhistogram(array, bins\u001b[38;5;241m=\u001b[39m\u001b[38;5;241m100\u001b[39m)\n\u001b[1;32m----> 4\u001b[0m df_describe \u001b[38;5;241m=\u001b[39m \u001b[43mpd\u001b[49m\u001b[38;5;241;43m.\u001b[39;49m\u001b[43mDataFrame\u001b[49m\u001b[43m(\u001b[49m\u001b[43marray\u001b[49m\u001b[43m)\u001b[49m\n\u001b[0;32m      5\u001b[0m df_describe\u001b[38;5;241m.\u001b[39mdescribe()\n",
      "File \u001b[1;32m~\\anaconda3\\envs\\earth2\\lib\\site-packages\\pandas\\core\\frame.py:694\u001b[0m, in \u001b[0;36mDataFrame.__init__\u001b[1;34m(self, data, index, columns, dtype, copy)\u001b[0m\n\u001b[0;32m    684\u001b[0m         mgr \u001b[38;5;241m=\u001b[39m dict_to_mgr(\n\u001b[0;32m    685\u001b[0m             \u001b[38;5;66;03m# error: Item \"ndarray\" of \"Union[ndarray, Series, Index]\" has no\u001b[39;00m\n\u001b[0;32m    686\u001b[0m             \u001b[38;5;66;03m# attribute \"name\"\u001b[39;00m\n\u001b[1;32m   (...)\u001b[0m\n\u001b[0;32m    691\u001b[0m             typ\u001b[38;5;241m=\u001b[39mmanager,\n\u001b[0;32m    692\u001b[0m         )\n\u001b[0;32m    693\u001b[0m     \u001b[38;5;28;01melse\u001b[39;00m:\n\u001b[1;32m--> 694\u001b[0m         mgr \u001b[38;5;241m=\u001b[39m \u001b[43mndarray_to_mgr\u001b[49m\u001b[43m(\u001b[49m\n\u001b[0;32m    695\u001b[0m \u001b[43m            \u001b[49m\u001b[43mdata\u001b[49m\u001b[43m,\u001b[49m\n\u001b[0;32m    696\u001b[0m \u001b[43m            \u001b[49m\u001b[43mindex\u001b[49m\u001b[43m,\u001b[49m\n\u001b[0;32m    697\u001b[0m \u001b[43m            \u001b[49m\u001b[43mcolumns\u001b[49m\u001b[43m,\u001b[49m\n\u001b[0;32m    698\u001b[0m \u001b[43m            \u001b[49m\u001b[43mdtype\u001b[49m\u001b[38;5;241;43m=\u001b[39;49m\u001b[43mdtype\u001b[49m\u001b[43m,\u001b[49m\n\u001b[0;32m    699\u001b[0m \u001b[43m            \u001b[49m\u001b[43mcopy\u001b[49m\u001b[38;5;241;43m=\u001b[39;49m\u001b[43mcopy\u001b[49m\u001b[43m,\u001b[49m\n\u001b[0;32m    700\u001b[0m \u001b[43m            \u001b[49m\u001b[43mtyp\u001b[49m\u001b[38;5;241;43m=\u001b[39;49m\u001b[43mmanager\u001b[49m\u001b[43m,\u001b[49m\n\u001b[0;32m    701\u001b[0m \u001b[43m        \u001b[49m\u001b[43m)\u001b[49m\n\u001b[0;32m    703\u001b[0m \u001b[38;5;66;03m# For data is list-like, or Iterable (will consume into list)\u001b[39;00m\n\u001b[0;32m    704\u001b[0m \u001b[38;5;28;01melif\u001b[39;00m is_list_like(data):\n",
      "File \u001b[1;32m~\\anaconda3\\envs\\earth2\\lib\\site-packages\\pandas\\core\\internals\\construction.py:331\u001b[0m, in \u001b[0;36mndarray_to_mgr\u001b[1;34m(values, index, columns, dtype, copy, typ)\u001b[0m\n\u001b[0;32m    326\u001b[0m         values \u001b[38;5;241m=\u001b[39m values\u001b[38;5;241m.\u001b[39mreshape(\u001b[38;5;241m-\u001b[39m\u001b[38;5;241m1\u001b[39m, \u001b[38;5;241m1\u001b[39m)\n\u001b[0;32m    328\u001b[0m \u001b[38;5;28;01melse\u001b[39;00m:\n\u001b[0;32m    329\u001b[0m     \u001b[38;5;66;03m# by definition an array here\u001b[39;00m\n\u001b[0;32m    330\u001b[0m     \u001b[38;5;66;03m# the dtypes will be coerced to a single dtype\u001b[39;00m\n\u001b[1;32m--> 331\u001b[0m     values \u001b[38;5;241m=\u001b[39m \u001b[43m_prep_ndarray\u001b[49m\u001b[43m(\u001b[49m\u001b[43mvalues\u001b[49m\u001b[43m,\u001b[49m\u001b[43m \u001b[49m\u001b[43mcopy\u001b[49m\u001b[38;5;241;43m=\u001b[39;49m\u001b[43mcopy_on_sanitize\u001b[49m\u001b[43m)\u001b[49m\n\u001b[0;32m    333\u001b[0m \u001b[38;5;28;01mif\u001b[39;00m dtype \u001b[38;5;129;01mis\u001b[39;00m \u001b[38;5;129;01mnot\u001b[39;00m \u001b[38;5;28;01mNone\u001b[39;00m \u001b[38;5;129;01mand\u001b[39;00m \u001b[38;5;129;01mnot\u001b[39;00m is_dtype_equal(values\u001b[38;5;241m.\u001b[39mdtype, dtype):\n\u001b[0;32m    334\u001b[0m     shape \u001b[38;5;241m=\u001b[39m values\u001b[38;5;241m.\u001b[39mshape\n",
      "File \u001b[1;32m~\\anaconda3\\envs\\earth2\\lib\\site-packages\\pandas\\core\\internals\\construction.py:591\u001b[0m, in \u001b[0;36m_prep_ndarray\u001b[1;34m(values, copy)\u001b[0m\n\u001b[0;32m    589\u001b[0m     values \u001b[38;5;241m=\u001b[39m values\u001b[38;5;241m.\u001b[39mreshape((values\u001b[38;5;241m.\u001b[39mshape[\u001b[38;5;241m0\u001b[39m], \u001b[38;5;241m1\u001b[39m))\n\u001b[0;32m    590\u001b[0m \u001b[38;5;28;01melif\u001b[39;00m values\u001b[38;5;241m.\u001b[39mndim \u001b[38;5;241m!=\u001b[39m \u001b[38;5;241m2\u001b[39m:\n\u001b[1;32m--> 591\u001b[0m     \u001b[38;5;28;01mraise\u001b[39;00m \u001b[38;5;167;01mValueError\u001b[39;00m(\u001b[38;5;124mf\u001b[39m\u001b[38;5;124m\"\u001b[39m\u001b[38;5;124mMust pass 2-d input. shape=\u001b[39m\u001b[38;5;132;01m{\u001b[39;00mvalues\u001b[38;5;241m.\u001b[39mshape\u001b[38;5;132;01m}\u001b[39;00m\u001b[38;5;124m\"\u001b[39m)\n\u001b[0;32m    593\u001b[0m \u001b[38;5;28;01mreturn\u001b[39;00m values\n",
      "\u001b[1;31mValueError\u001b[0m: Must pass 2-d input. shape=(1, 10955, 17267)"
     ]
    }
   ],
   "source": [
    "# View histogram and statistics\n",
    "np.histogram(array, bins=100)\n",
    "\n",
    "df_describe = pd.DataFrame(array)\n",
    "df_describe.describe()"
   ]
  },
  {
   "cell_type": "code",
   "execution_count": 86,
   "id": "19a739f5",
   "metadata": {},
   "outputs": [
    {
     "ename": "ValueError",
     "evalue": "cannot convert float NaN to integer",
     "output_type": "error",
     "traceback": [
      "\u001b[1;31m---------------------------------------------------------------------------\u001b[0m",
      "\u001b[1;31mValueError\u001b[0m                                Traceback (most recent call last)",
      "Input \u001b[1;32mIn [86]\u001b[0m, in \u001b[0;36m<cell line: 2>\u001b[1;34m()\u001b[0m\n\u001b[0;32m      1\u001b[0m \u001b[38;5;66;03m# Set negative values to nan\u001b[39;00m\n\u001b[1;32m----> 2\u001b[0m array[(array \u001b[38;5;241m<\u001b[39m \u001b[38;5;241m0\u001b[39m)] \u001b[38;5;241m=\u001b[39m np\u001b[38;5;241m.\u001b[39mnan\n\u001b[0;32m      4\u001b[0m \u001b[38;5;66;03m# Check result\u001b[39;00m\n\u001b[0;32m      5\u001b[0m df_describe \u001b[38;5;241m=\u001b[39m pd\u001b[38;5;241m.\u001b[39mDataFrame(array)\n",
      "\u001b[1;31mValueError\u001b[0m: cannot convert float NaN to integer"
     ]
    }
   ],
   "source": [
    "# Set negative values to nan\n",
    "array[(array < 0)] = np.nan\n",
    "\n",
    "# Check result\n",
    "df_describe = pd.DataFrame(array)\n",
    "df_describe.describe()"
   ]
  },
  {
   "cell_type": "code",
   "execution_count": 20,
   "id": "623f0888",
   "metadata": {},
   "outputs": [
    {
     "name": "stderr",
     "output_type": "stream",
     "text": [
      "C:\\Users\\VMO\\anaconda3\\envs\\earth2\\lib\\site-packages\\rasterstats\\io.py:313: UserWarning: Setting nodata to -999; specify nodata explicitly\n",
      "  warnings.warn(\"Setting nodata to -999; specify nodata explicitly\")\n"
     ]
    },
    {
     "ename": "MemoryError",
     "evalue": "Unable to allocate 232. PiB for an array with shape (244770948, 266681353) and data type float32",
     "output_type": "error",
     "traceback": [
      "\u001b[1;31m---------------------------------------------------------------------------\u001b[0m",
      "\u001b[1;31mMemoryError\u001b[0m                               Traceback (most recent call last)",
      "Input \u001b[1;32mIn [20]\u001b[0m, in \u001b[0;36m<cell line: 2>\u001b[1;34m()\u001b[0m\n\u001b[0;32m      1\u001b[0m \u001b[38;5;66;03m# Calculate zonal statistics\u001b[39;00m\n\u001b[1;32m----> 2\u001b[0m pop_dictionaries \u001b[38;5;241m=\u001b[39m \u001b[43mzonal_stats\u001b[49m\u001b[43m(\u001b[49m\u001b[43madmin\u001b[49m\u001b[43m,\u001b[49m\u001b[43m \u001b[49m\u001b[43marray\u001b[49m\u001b[43m,\u001b[49m\u001b[43m \u001b[49m\u001b[43maffine\u001b[49m\u001b[38;5;241;43m=\u001b[39;49m\u001b[43maffine\u001b[49m\u001b[43m,\u001b[49m\u001b[43m \u001b[49m\u001b[43mstats\u001b[49m\u001b[38;5;241;43m=\u001b[39;49m\u001b[43m[\u001b[49m\u001b[38;5;124;43m'\u001b[39;49m\u001b[38;5;124;43msum\u001b[39;49m\u001b[38;5;124;43m'\u001b[39;49m\u001b[43m]\u001b[49m\u001b[43m)\u001b[49m\n\u001b[0;32m      4\u001b[0m \u001b[38;5;66;03m# Confert dictionaries to list of values\u001b[39;00m\n\u001b[0;32m      5\u001b[0m list_of_values \u001b[38;5;241m=\u001b[39m []\n",
      "File \u001b[1;32m~\\anaconda3\\envs\\earth2\\lib\\site-packages\\rasterstats\\main.py:32\u001b[0m, in \u001b[0;36mzonal_stats\u001b[1;34m(*args, **kwargs)\u001b[0m\n\u001b[0;32m     24\u001b[0m \u001b[38;5;28;01mdef\u001b[39;00m \u001b[38;5;21mzonal_stats\u001b[39m(\u001b[38;5;241m*\u001b[39margs, \u001b[38;5;241m*\u001b[39m\u001b[38;5;241m*\u001b[39mkwargs):\n\u001b[0;32m     25\u001b[0m     \u001b[38;5;124;03m\"\"\"The primary zonal statistics entry point.\u001b[39;00m\n\u001b[0;32m     26\u001b[0m \n\u001b[0;32m     27\u001b[0m \u001b[38;5;124;03m    All arguments are passed directly to ``gen_zonal_stats``.\u001b[39;00m\n\u001b[1;32m   (...)\u001b[0m\n\u001b[0;32m     30\u001b[0m \u001b[38;5;124;03m    The only difference is that ``zonal_stats`` will\u001b[39;00m\n\u001b[0;32m     31\u001b[0m \u001b[38;5;124;03m    return a list rather than a generator.\"\"\"\u001b[39;00m\n\u001b[1;32m---> 32\u001b[0m     \u001b[38;5;28;01mreturn\u001b[39;00m \u001b[38;5;28;43mlist\u001b[39;49m\u001b[43m(\u001b[49m\u001b[43mgen_zonal_stats\u001b[49m\u001b[43m(\u001b[49m\u001b[38;5;241;43m*\u001b[39;49m\u001b[43margs\u001b[49m\u001b[43m,\u001b[49m\u001b[43m \u001b[49m\u001b[38;5;241;43m*\u001b[39;49m\u001b[38;5;241;43m*\u001b[39;49m\u001b[43mkwargs\u001b[49m\u001b[43m)\u001b[49m\u001b[43m)\u001b[49m\n",
      "File \u001b[1;32m~\\anaconda3\\envs\\earth2\\lib\\site-packages\\rasterstats\\main.py:161\u001b[0m, in \u001b[0;36mgen_zonal_stats\u001b[1;34m(vectors, raster, layer, band, nodata, affine, stats, all_touched, categorical, category_map, add_stats, zone_func, raster_out, prefix, geojson_out, boundless, **kwargs)\u001b[0m\n\u001b[0;32m    157\u001b[0m     geom \u001b[38;5;241m=\u001b[39m boxify_points(geom, rast)\n\u001b[0;32m    159\u001b[0m geom_bounds \u001b[38;5;241m=\u001b[39m \u001b[38;5;28mtuple\u001b[39m(geom\u001b[38;5;241m.\u001b[39mbounds)\n\u001b[1;32m--> 161\u001b[0m fsrc \u001b[38;5;241m=\u001b[39m \u001b[43mrast\u001b[49m\u001b[38;5;241;43m.\u001b[39;49m\u001b[43mread\u001b[49m\u001b[43m(\u001b[49m\u001b[43mbounds\u001b[49m\u001b[38;5;241;43m=\u001b[39;49m\u001b[43mgeom_bounds\u001b[49m\u001b[43m,\u001b[49m\u001b[43m \u001b[49m\u001b[43mboundless\u001b[49m\u001b[38;5;241;43m=\u001b[39;49m\u001b[43mboundless\u001b[49m\u001b[43m)\u001b[49m\n\u001b[0;32m    163\u001b[0m \u001b[38;5;66;03m# rasterized geometry\u001b[39;00m\n\u001b[0;32m    164\u001b[0m rv_array \u001b[38;5;241m=\u001b[39m rasterize_geom(geom, like\u001b[38;5;241m=\u001b[39mfsrc, all_touched\u001b[38;5;241m=\u001b[39mall_touched)\n",
      "File \u001b[1;32m~\\anaconda3\\envs\\earth2\\lib\\site-packages\\rasterstats\\io.py:317\u001b[0m, in \u001b[0;36mRaster.read\u001b[1;34m(self, bounds, window, masked, boundless)\u001b[0m\n\u001b[0;32m    313\u001b[0m     warnings\u001b[38;5;241m.\u001b[39mwarn(\u001b[38;5;124m\"\u001b[39m\u001b[38;5;124mSetting nodata to -999; specify nodata explicitly\u001b[39m\u001b[38;5;124m\"\u001b[39m)\n\u001b[0;32m    315\u001b[0m \u001b[38;5;28;01mif\u001b[39;00m \u001b[38;5;28mself\u001b[39m\u001b[38;5;241m.\u001b[39marray \u001b[38;5;129;01mis\u001b[39;00m \u001b[38;5;129;01mnot\u001b[39;00m \u001b[38;5;28;01mNone\u001b[39;00m:\n\u001b[0;32m    316\u001b[0m     \u001b[38;5;66;03m# It's an ndarray already\u001b[39;00m\n\u001b[1;32m--> 317\u001b[0m     new_array \u001b[38;5;241m=\u001b[39m \u001b[43mboundless_array\u001b[49m\u001b[43m(\u001b[49m\n\u001b[0;32m    318\u001b[0m \u001b[43m        \u001b[49m\u001b[38;5;28;43mself\u001b[39;49m\u001b[38;5;241;43m.\u001b[39;49m\u001b[43marray\u001b[49m\u001b[43m,\u001b[49m\u001b[43m \u001b[49m\u001b[43mwindow\u001b[49m\u001b[38;5;241;43m=\u001b[39;49m\u001b[43mwin\u001b[49m\u001b[43m,\u001b[49m\u001b[43m \u001b[49m\u001b[43mnodata\u001b[49m\u001b[38;5;241;43m=\u001b[39;49m\u001b[43mnodata\u001b[49m\u001b[43m,\u001b[49m\u001b[43m \u001b[49m\u001b[43mmasked\u001b[49m\u001b[38;5;241;43m=\u001b[39;49m\u001b[43mmasked\u001b[49m\u001b[43m)\u001b[49m\n\u001b[0;32m    319\u001b[0m \u001b[38;5;28;01melif\u001b[39;00m \u001b[38;5;28mself\u001b[39m\u001b[38;5;241m.\u001b[39msrc:\n\u001b[0;32m    320\u001b[0m     \u001b[38;5;66;03m# It's an open rasterio dataset\u001b[39;00m\n\u001b[0;32m    321\u001b[0m     \u001b[38;5;28;01mif\u001b[39;00m \u001b[38;5;28mall\u001b[39m(MaskFlags\u001b[38;5;241m.\u001b[39mper_dataset \u001b[38;5;129;01min\u001b[39;00m flags \u001b[38;5;28;01mfor\u001b[39;00m flags \u001b[38;5;129;01min\u001b[39;00m \u001b[38;5;28mself\u001b[39m\u001b[38;5;241m.\u001b[39msrc\u001b[38;5;241m.\u001b[39mmask_flag_enums):\n",
      "File \u001b[1;32m~\\anaconda3\\envs\\earth2\\lib\\site-packages\\rasterstats\\io.py:191\u001b[0m, in \u001b[0;36mboundless_array\u001b[1;34m(arr, window, nodata, masked)\u001b[0m\n\u001b[0;32m    188\u001b[0m     window_shape \u001b[38;5;241m=\u001b[39m (wr_stop \u001b[38;5;241m-\u001b[39m wr_start, wc_stop \u001b[38;5;241m-\u001b[39m wc_start)\n\u001b[0;32m    190\u001b[0m \u001b[38;5;66;03m# create an array of nodata values\u001b[39;00m\n\u001b[1;32m--> 191\u001b[0m out \u001b[38;5;241m=\u001b[39m \u001b[43mnp\u001b[49m\u001b[38;5;241;43m.\u001b[39;49m\u001b[43mempty\u001b[49m\u001b[43m(\u001b[49m\u001b[43mshape\u001b[49m\u001b[38;5;241;43m=\u001b[39;49m\u001b[43mwindow_shape\u001b[49m\u001b[43m,\u001b[49m\u001b[43m \u001b[49m\u001b[43mdtype\u001b[49m\u001b[38;5;241;43m=\u001b[39;49m\u001b[43marr\u001b[49m\u001b[38;5;241;43m.\u001b[39;49m\u001b[43mdtype\u001b[49m\u001b[43m)\u001b[49m\n\u001b[0;32m    192\u001b[0m out[:] \u001b[38;5;241m=\u001b[39m nodata\n\u001b[0;32m    194\u001b[0m \u001b[38;5;66;03m# Fill with data where overlapping\u001b[39;00m\n",
      "\u001b[1;31mMemoryError\u001b[0m: Unable to allocate 232. PiB for an array with shape (244770948, 266681353) and data type float32"
     ]
    }
   ],
   "source": [
    "# Calculate zonal statistics\n",
    "pop_dictionaries = zonal_stats(admin, array, affine=affine, stats=['sum'])\n",
    "\n",
    "# Confert dictionaries to list of values\n",
    "list_of_values = []\n",
    "for i in range(len(pop_dictionaries)):\n",
    "    list_of_values.append(list(pop_dictionaries[i].values())[0])\n",
    "\n",
    "#print(pop_dictionaries)\n",
    "#print(list_of_values)"
   ]
  },
  {
   "cell_type": "code",
   "execution_count": null,
   "id": "67694d6e",
   "metadata": {},
   "outputs": [],
   "source": [
    "# Adding pop_sum values to admin polygons\n",
    "admin['pop_sum'] = list_of_values"
   ]
  },
  {
   "cell_type": "markdown",
   "id": "425d41a3",
   "metadata": {},
   "source": [
    "## Area"
   ]
  },
  {
   "cell_type": "code",
   "execution_count": null,
   "id": "0e66a215",
   "metadata": {},
   "outputs": [],
   "source": [
    "# Calculating area and converting from square m to square km\n",
    "admin['area_km2'] = admin['geometry'].area.div(1000000)"
   ]
  },
  {
   "cell_type": "markdown",
   "id": "3a0c0aaf",
   "metadata": {},
   "source": [
    "## Settlements"
   ]
  },
  {
   "cell_type": "code",
   "execution_count": null,
   "id": "89154b16",
   "metadata": {},
   "outputs": [],
   "source": [
    "# Join settlements to admin areas\n",
    "joined_df = gpd.sjoin(\n",
    "    sett,\n",
    "    admin,\n",
    "    how='inner',\n",
    "    op='intersects',\n",
    ")\n",
    "\n",
    "# Count number of settlement within admin polygons\n",
    "sett_count = joined_df.groupby(\n",
    "    ['ADM2_PCODE'],\n",
    "    as_index=False,\n",
    ")['vuid'].count() # vuid is arbitrary, we just count the rows\n",
    "\n",
    "# Change column name to sett_count\n",
    "sett_count.rename(columns = {'vuid': 'sett_count'}, inplace = True)\n",
    "\n",
    "# QA Check - if any admin areas have no settlements\n",
    "sett_count.isnull().sum()\n",
    "\n",
    "# View results\n",
    "sett_count"
   ]
  },
  {
   "cell_type": "code",
   "execution_count": null,
   "id": "d890601b",
   "metadata": {},
   "outputs": [],
   "source": [
    "# Merge sett count back on to admin dataset\n",
    "admin = admin.merge(\n",
    "    sett_count, \n",
    "    on='ADM2_PCODE', \n",
    "    how='left')\n",
    "\n",
    "admin"
   ]
  },
  {
   "cell_type": "markdown",
   "id": "f46e4264",
   "metadata": {},
   "source": [
    "## Buildings"
   ]
  },
  {
   "cell_type": "code",
   "execution_count": null,
   "id": "dac7eb86",
   "metadata": {},
   "outputs": [],
   "source": [
    "# Convert building polygons to centroid points\n",
    "\n",
    "# Convert building geodataframe to geoseries\n",
    "build_centroids = build.geometry\n",
    "\n",
    "# Create a geoseries with just the centroids\n",
    "build_centroids = build_centroids.centroid\n",
    "\n",
    "# Convert geoseries to geodataframe\n",
    "build_centroids= gpd.GeoDataFrame(build_centroids)\n",
    "\n",
    "# Rename column\n",
    "build_centroids.rename(columns = {0: 'geo'}, inplace = True)\n",
    "\n",
    "# Setting geometry columns specifically\n",
    "build_centroids.geometry = build_centroids['geo']"
   ]
  },
  {
   "cell_type": "code",
   "execution_count": null,
   "id": "b3971001",
   "metadata": {},
   "outputs": [],
   "source": [
    "# Join building to admin areas\n",
    "joined_df = gpd.sjoin(\n",
    "    build_centroids,\n",
    "    admin,\n",
    "    how='inner',\n",
    "    op='intersects'\n",
    ")\n",
    "\n",
    "# Count number of buildings within admin polygons\n",
    "build_count = joined_df.groupby(\n",
    "    ['ADM2_PCODE'],\n",
    "    as_index=False,\n",
    ")['geo'].count() # vuid is arbitrary, we just count the rows\n",
    "\n",
    "\n",
    "# Change column name to build_count\n",
    "build_count.rename(columns = {'geo': 'build_count'}, inplace = True)\n",
    "\n",
    "# QA Check - if any admin areas have no buildings\n",
    "build_count.isnull().sum()\n",
    "\n",
    "# View results\n",
    "build_count"
   ]
  },
  {
   "cell_type": "code",
   "execution_count": null,
   "id": "a503dbb0",
   "metadata": {},
   "outputs": [],
   "source": [
    "# Merge build count back on to admin dataset\n",
    "admin = admin.merge(\n",
    "    build_count, \n",
    "    on='ADM2_PCODE', \n",
    "    how='left')"
   ]
  },
  {
   "cell_type": "markdown",
   "id": "bdf0681e",
   "metadata": {},
   "source": [
    "## Population Density"
   ]
  },
  {
   "cell_type": "code",
   "execution_count": null,
   "id": "2099545f",
   "metadata": {},
   "outputs": [],
   "source": [
    "# Calculate population density\n",
    "admin['pop_density'] = admin['pop_sum'] / admin['area_km2']\n",
    "\n",
    "# Calculate people per building\n",
    "admin['people_building'] = admin['pop_sum'] / admin['build_count']\n",
    "\n",
    "admin"
   ]
  },
  {
   "cell_type": "markdown",
   "id": "7c7a76fb",
   "metadata": {},
   "source": [
    "## Land Cover (to be added later)"
   ]
  },
  {
   "cell_type": "code",
   "execution_count": null,
   "id": "d176603b",
   "metadata": {},
   "outputs": [],
   "source": [
    "# Get unique LC values\n",
    "lc.agg_simpli.unique()"
   ]
  },
  {
   "cell_type": "code",
   "execution_count": 48,
   "id": "283cdb70",
   "metadata": {},
   "outputs": [],
   "source": [
    "# Calculate area\n",
    "# lc['area_m2'] = lc['geometry'].area"
   ]
  },
  {
   "cell_type": "markdown",
   "id": "69194d71",
   "metadata": {},
   "source": [
    "## Export results"
   ]
  },
  {
   "cell_type": "code",
   "execution_count": null,
   "id": "5dab0f1d",
   "metadata": {},
   "outputs": [],
   "source": [
    "admin.to_file(r'output/pop_adm_full.shp')"
   ]
  },
  {
   "cell_type": "code",
   "execution_count": null,
   "id": "7ffd7762",
   "metadata": {},
   "outputs": [],
   "source": []
  },
  {
   "cell_type": "code",
   "execution_count": null,
   "id": "f6c170c3",
   "metadata": {},
   "outputs": [],
   "source": []
  },
  {
   "cell_type": "code",
   "execution_count": null,
   "id": "ae0b044d",
   "metadata": {},
   "outputs": [],
   "source": []
  },
  {
   "cell_type": "code",
   "execution_count": null,
   "id": "c685f188",
   "metadata": {},
   "outputs": [],
   "source": []
  },
  {
   "cell_type": "code",
   "execution_count": null,
   "id": "388e01be",
   "metadata": {},
   "outputs": [],
   "source": []
  },
  {
   "cell_type": "code",
   "execution_count": null,
   "id": "007b2a35",
   "metadata": {},
   "outputs": [],
   "source": []
  }
 ],
 "metadata": {
  "kernelspec": {
   "display_name": "Python 3 (ipykernel)",
   "language": "python",
   "name": "python3"
  },
  "language_info": {
   "codemirror_mode": {
    "name": "ipython",
    "version": 3
   },
   "file_extension": ".py",
   "mimetype": "text/x-python",
   "name": "python",
   "nbconvert_exporter": "python",
   "pygments_lexer": "ipython3",
   "version": "3.8.12"
  }
 },
 "nbformat": 4,
 "nbformat_minor": 5
}

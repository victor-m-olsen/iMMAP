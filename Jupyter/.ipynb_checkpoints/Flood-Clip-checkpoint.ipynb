{
 "cells": [
  {
   "cell_type": "code",
   "execution_count": 107,
   "id": "986ad601",
   "metadata": {},
   "outputs": [],
   "source": [
    "#dissolve by district and province - done\n",
    "#cut by new district and province\n",
    "#calculate area\n",
    "#zonal stats on pop, build\n",
    "#reproject back to 4326 and save in db"
   ]
  },
  {
   "cell_type": "code",
   "execution_count": 124,
   "id": "da3de748",
   "metadata": {},
   "outputs": [],
   "source": [
    "import os\n",
    "import geopandas as gpd\n",
    "import pandas as pd\n",
    "import pyproj\n",
    "from sqlalchemy import create_engine\n",
    "import psycopg2 # required for exporting to postgis\n",
    "import folium\n",
    "from folium.plugins import MousePosition\n",
    "import rioxarray as rxr\n",
    "\n",
    "import matplotlib.pyplot as plt\n",
    "#from sqlalchemy import create_engine\n",
    "#import pyproj\n",
    "#import pandas as pd\n",
    "#import numpy as np"
   ]
  },
  {
   "cell_type": "code",
   "execution_count": 125,
   "id": "e2d5e8d6",
   "metadata": {},
   "outputs": [],
   "source": [
    "password = 'pewp7re'\n",
    "db_connection_url = \"postgresql://postgres:{}@localhost:5432/HSDC\".format(password)\n",
    "con = create_engine(db_connection_url)"
   ]
  },
  {
   "cell_type": "code",
   "execution_count": 126,
   "id": "19828fca",
   "metadata": {},
   "outputs": [],
   "source": [
    "pd.set_option('display.max_columns', None)"
   ]
  },
  {
   "cell_type": "code",
   "execution_count": 127,
   "id": "f1a71608",
   "metadata": {},
   "outputs": [],
   "source": [
    "os.chdir(r'D:\\iMMAP\\proj\\ASDC\\data\\flood_layer')"
   ]
  },
  {
   "cell_type": "code",
   "execution_count": 128,
   "id": "e0433b43",
   "metadata": {},
   "outputs": [],
   "source": [
    "admin_level_column = 'adm2_pcode'"
   ]
  },
  {
   "cell_type": "markdown",
   "id": "e02b53e5",
   "metadata": {},
   "source": [
    "## Preping vector data"
   ]
  },
  {
   "cell_type": "code",
   "execution_count": 129,
   "id": "5f5cc05b",
   "metadata": {},
   "outputs": [],
   "source": [
    "# Define projection\n",
    "repro_crs = '+proj=cea'\n",
    "\n",
    "# Load admin\n",
    "admin = gpd.GeoDataFrame.from_postgis('SELECT * from afg_admbnda_adm2', con).to_crs(repro_crs)"
   ]
  },
  {
   "cell_type": "code",
   "execution_count": 130,
   "id": "18fc1b5f",
   "metadata": {},
   "outputs": [],
   "source": [
    "# Load dissolved flood layers\n",
    "#flood_l1 = gpd.GeoDataFrame.from_postgis('SELECT * from afg_fldzonea_100k_ncia_v2_029cm_dissolve_all_v2', con, 'wkb_geometry') #.to_crs(repro_crs)\n",
    "#flood_l2 = gpd.GeoDataFrame.from_postgis('SELECT * from afg_fldzonea_100k_ncia_v2_121cm_dissolve_all_v2', con, 'wkb_geometry') #.to_crs(repro_crs)\n",
    "flood_l3 = gpd.GeoDataFrame.from_postgis('SELECT * from afg_fldzonea_100k_ncia_v2_271cm_dissolve_all_v2', con, 'wkb_geometry').to_crs(repro_crs)\n"
   ]
  },
  {
   "cell_type": "code",
   "execution_count": 132,
   "id": "07220c78",
   "metadata": {},
   "outputs": [],
   "source": [
    "# Clip flood areas from admin polygons\n",
    "flood = admin.clip(flood_l3).to_crs('epsg:4326')\n",
    "flood.to_postgis(\"afg_fldzonea_100k_ncia_v2_271_adm2\", con)#"
   ]
  },
  {
   "cell_type": "code",
   "execution_count": 116,
   "id": "c72a91f6",
   "metadata": {},
   "outputs": [],
   "source": [
    "# Clip flood areas from admin polygons\n",
    "#flood = admin.clip(flood_l2)\n",
    "#flood.to_postgis(\"afg_fldzonea_100k_ncia_v2_121_adm2\", con)#"
   ]
  },
  {
   "cell_type": "code",
   "execution_count": 117,
   "id": "6ed97acd",
   "metadata": {},
   "outputs": [],
   "source": [
    "# Clip flood areas from admin polygons\n",
    "#flood = admin.clip(flood_l1)\n",
    "#flood.to_postgis(\"afg_fldzonea_100k_ncia_v2_029_adm2\", con)#"
   ]
  },
  {
   "cell_type": "code",
   "execution_count": 135,
   "id": "a5262ae4",
   "metadata": {},
   "outputs": [],
   "source": [
    "# Load flood zones clipped with admin\n",
    "#flood_l1 = gpd.GeoDataFrame.from_postgis('SELECT * from afg_fldzonea_100k_ncia_v2_029cm_adm2', con, 'wkb_geometry').to_crs(repro_crs)\n",
    "#flood_l2 = gpd.GeoDataFrame.from_postgis('SELECT * from afg_fldzonea_100k_ncia_v2_121cm_adm2', con, 'wkb_geometry').to_crs(repro_crs)\n",
    "flood_l3 = gpd.GeoDataFrame.from_postgis('SELECT * from afg_fldzonea_100k_ncia_v2_271_adm2', con, 'geom').to_crs(repro_crs)"
   ]
  },
  {
   "cell_type": "code",
   "execution_count": 136,
   "id": "ea6563c3",
   "metadata": {},
   "outputs": [],
   "source": [
    "flood = flood_l3"
   ]
  },
  {
   "cell_type": "code",
   "execution_count": null,
   "id": "ce6496ac",
   "metadata": {},
   "outputs": [],
   "source": [
    "\n",
    "#water_shed = gpd.GeoDataFrame.from_postgis('SELECT * from afg_sheda_lvl3', con, 'wkb_geometry').to_crs(repro_crs)\n",
    "#pop = rio.open(r'D:\\iMMAP\\data\\Afghanistan\\afg_worldpop_2020_UNadj_unconstrained.tif')"
   ]
  },
  {
   "cell_type": "markdown",
   "id": "c7651f0f",
   "metadata": {},
   "source": [
    "### Extracting attributes"
   ]
  },
  {
   "cell_type": "code",
   "execution_count": 138,
   "id": "aff8c24a",
   "metadata": {},
   "outputs": [],
   "source": [
    "# Calculating area and converting from square m to square km\n",
    "flood['area_km2'] = flood['geom'].area.div(1000000)   ## OBS: CHANGE geometry to geom for postgres!"
   ]
  },
  {
   "cell_type": "code",
   "execution_count": 139,
   "id": "bb3483c4",
   "metadata": {},
   "outputs": [],
   "source": [
    "# Load building centroids\n",
    "build_centroids = gpd.GeoDataFrame.from_postgis('SELECT * from afg_buildings_microsoft_centroids', con).to_crs(repro_crs)"
   ]
  },
  {
   "cell_type": "code",
   "execution_count": 140,
   "id": "a6f5c56c",
   "metadata": {},
   "outputs": [
    {
     "name": "stderr",
     "output_type": "stream",
     "text": [
      "C:\\Users\\VMO\\anaconda3\\envs\\earth2\\lib\\site-packages\\IPython\\core\\interactiveshell.py:3301: FutureWarning: The `op` parameter is deprecated and will be removed in a future release. Please use the `predicate` parameter instead.\n",
      "  if await self.run_code(code, result, async_=asy):\n"
     ]
    }
   ],
   "source": [
    "# Join building centroids to flood polygons\n",
    "joined_df = gpd.sjoin(\n",
    "    build_centroids,\n",
    "    flood,\n",
    "    how='inner',\n",
    "    op='intersects'\n",
    ")\n",
    "\n",
    "# Count number of buildings within admin polygons\n",
    "build_count = joined_df.groupby(\n",
    "    [admin_level_column],\n",
    "    as_index=False,\n",
    ")['geom'].count() # vuid is arbitrary, we just count the rows\n",
    "\n",
    "# Change column name to build_count\n",
    "build_count.rename(columns = {'geom': 'build_count'}, inplace = True)"
   ]
  },
  {
   "cell_type": "code",
   "execution_count": 141,
   "id": "27a4eb75",
   "metadata": {},
   "outputs": [],
   "source": [
    "# Merge build count back on to admin dataset\n",
    "flood = flood.merge(\n",
    "    build_count, \n",
    "    on=admin_level_column, \n",
    "    how='left')"
   ]
  },
  {
   "cell_type": "code",
   "execution_count": 142,
   "id": "c5fedbc2",
   "metadata": {},
   "outputs": [
    {
     "data": {
      "text/plain": [
       "258382.0"
      ]
     },
     "execution_count": 142,
     "metadata": {},
     "output_type": "execute_result"
    }
   ],
   "source": [
    "# Check total number of buildings within flood zones\n",
    "flood['build_count'].sum()"
   ]
  },
  {
   "cell_type": "code",
   "execution_count": null,
   "id": "a3fb92c9",
   "metadata": {},
   "outputs": [],
   "source": [
    "flood = flood.to_crs('epsg:4326')"
   ]
  },
  {
   "cell_type": "code",
   "execution_count": 143,
   "id": "4259f7a6",
   "metadata": {},
   "outputs": [],
   "source": [
    "flood.to_postgis(\"afg_fldzonea_100k_ncia_v2_271_adm2-area-build\", con)#"
   ]
  },
  {
   "cell_type": "code",
   "execution_count": 144,
   "id": "5e652817",
   "metadata": {},
   "outputs": [
    {
     "ename": "CRSError",
     "evalue": "Invalid projection: epsg:54034: (Internal Proj Error: proj_create: crs not found)",
     "output_type": "error",
     "traceback": [
      "\u001b[1;31m---------------------------------------------------------------------------\u001b[0m",
      "\u001b[1;31mCRSError\u001b[0m                                  Traceback (most recent call last)",
      "Input \u001b[1;32mIn [144]\u001b[0m, in \u001b[0;36m<cell line: 1>\u001b[1;34m()\u001b[0m\n\u001b[1;32m----> 1\u001b[0m flood_area_build \u001b[38;5;241m=\u001b[39m \u001b[43mgpd\u001b[49m\u001b[38;5;241;43m.\u001b[39;49m\u001b[43mGeoDataFrame\u001b[49m\u001b[38;5;241;43m.\u001b[39;49m\u001b[43mfrom_postgis\u001b[49m\u001b[43m(\u001b[49m\u001b[38;5;124;43m\"\u001b[39;49m\u001b[38;5;124;43mafg_fldzonea_100k_ncia_v2_271_adm2-area-build\u001b[39;49m\u001b[38;5;124;43m\"\u001b[39;49m\u001b[43m,\u001b[49m\u001b[43m \u001b[49m\u001b[43mcon\u001b[49m\u001b[43m)\u001b[49m\n",
      "File \u001b[1;32m~\\anaconda3\\envs\\earth2\\lib\\site-packages\\geopandas\\geodataframe.py:715\u001b[0m, in \u001b[0;36mGeoDataFrame.from_postgis\u001b[1;34m(cls, sql, con, geom_col, crs, index_col, coerce_float, parse_dates, params, chunksize)\u001b[0m\n\u001b[0;32m    645\u001b[0m \u001b[38;5;129m@classmethod\u001b[39m\n\u001b[0;32m    646\u001b[0m \u001b[38;5;28;01mdef\u001b[39;00m \u001b[38;5;21mfrom_postgis\u001b[39m(\n\u001b[0;32m    647\u001b[0m     \u001b[38;5;28mcls\u001b[39m,\n\u001b[1;32m   (...)\u001b[0m\n\u001b[0;32m    656\u001b[0m     chunksize\u001b[38;5;241m=\u001b[39m\u001b[38;5;28;01mNone\u001b[39;00m,\n\u001b[0;32m    657\u001b[0m ):\n\u001b[0;32m    658\u001b[0m     \u001b[38;5;124;03m\"\"\"\u001b[39;00m\n\u001b[0;32m    659\u001b[0m \u001b[38;5;124;03m    Alternate constructor to create a ``GeoDataFrame`` from a sql query\u001b[39;00m\n\u001b[0;32m    660\u001b[0m \u001b[38;5;124;03m    containing a geometry column in WKB representation.\u001b[39;00m\n\u001b[1;32m   (...)\u001b[0m\n\u001b[0;32m    712\u001b[0m \u001b[38;5;124;03m    geopandas.read_postgis : read PostGIS database to GeoDataFrame\u001b[39;00m\n\u001b[0;32m    713\u001b[0m \u001b[38;5;124;03m    \"\"\"\u001b[39;00m\n\u001b[1;32m--> 715\u001b[0m     df \u001b[38;5;241m=\u001b[39m \u001b[43mgeopandas\u001b[49m\u001b[38;5;241;43m.\u001b[39;49m\u001b[43mio\u001b[49m\u001b[38;5;241;43m.\u001b[39;49m\u001b[43msql\u001b[49m\u001b[38;5;241;43m.\u001b[39;49m\u001b[43m_read_postgis\u001b[49m\u001b[43m(\u001b[49m\n\u001b[0;32m    716\u001b[0m \u001b[43m        \u001b[49m\u001b[43msql\u001b[49m\u001b[43m,\u001b[49m\n\u001b[0;32m    717\u001b[0m \u001b[43m        \u001b[49m\u001b[43mcon\u001b[49m\u001b[43m,\u001b[49m\n\u001b[0;32m    718\u001b[0m \u001b[43m        \u001b[49m\u001b[43mgeom_col\u001b[49m\u001b[38;5;241;43m=\u001b[39;49m\u001b[43mgeom_col\u001b[49m\u001b[43m,\u001b[49m\n\u001b[0;32m    719\u001b[0m \u001b[43m        \u001b[49m\u001b[43mcrs\u001b[49m\u001b[38;5;241;43m=\u001b[39;49m\u001b[43mcrs\u001b[49m\u001b[43m,\u001b[49m\n\u001b[0;32m    720\u001b[0m \u001b[43m        \u001b[49m\u001b[43mindex_col\u001b[49m\u001b[38;5;241;43m=\u001b[39;49m\u001b[43mindex_col\u001b[49m\u001b[43m,\u001b[49m\n\u001b[0;32m    721\u001b[0m \u001b[43m        \u001b[49m\u001b[43mcoerce_float\u001b[49m\u001b[38;5;241;43m=\u001b[39;49m\u001b[43mcoerce_float\u001b[49m\u001b[43m,\u001b[49m\n\u001b[0;32m    722\u001b[0m \u001b[43m        \u001b[49m\u001b[43mparse_dates\u001b[49m\u001b[38;5;241;43m=\u001b[39;49m\u001b[43mparse_dates\u001b[49m\u001b[43m,\u001b[49m\n\u001b[0;32m    723\u001b[0m \u001b[43m        \u001b[49m\u001b[43mparams\u001b[49m\u001b[38;5;241;43m=\u001b[39;49m\u001b[43mparams\u001b[49m\u001b[43m,\u001b[49m\n\u001b[0;32m    724\u001b[0m \u001b[43m        \u001b[49m\u001b[43mchunksize\u001b[49m\u001b[38;5;241;43m=\u001b[39;49m\u001b[43mchunksize\u001b[49m\u001b[43m,\u001b[49m\n\u001b[0;32m    725\u001b[0m \u001b[43m    \u001b[49m\u001b[43m)\u001b[49m\n\u001b[0;32m    727\u001b[0m     \u001b[38;5;28;01mreturn\u001b[39;00m df\n",
      "File \u001b[1;32m~\\anaconda3\\envs\\earth2\\lib\\site-packages\\geopandas\\io\\sql.py:167\u001b[0m, in \u001b[0;36m_read_postgis\u001b[1;34m(sql, con, geom_col, crs, index_col, coerce_float, parse_dates, params, chunksize)\u001b[0m\n\u001b[0;32m    156\u001b[0m \u001b[38;5;28;01mif\u001b[39;00m chunksize \u001b[38;5;129;01mis\u001b[39;00m \u001b[38;5;28;01mNone\u001b[39;00m:\n\u001b[0;32m    157\u001b[0m     \u001b[38;5;66;03m# read all in one chunk and return a single GeoDataFrame\u001b[39;00m\n\u001b[0;32m    158\u001b[0m     df \u001b[38;5;241m=\u001b[39m pd\u001b[38;5;241m.\u001b[39mread_sql(\n\u001b[0;32m    159\u001b[0m         sql,\n\u001b[0;32m    160\u001b[0m         con,\n\u001b[1;32m   (...)\u001b[0m\n\u001b[0;32m    165\u001b[0m         chunksize\u001b[38;5;241m=\u001b[39mchunksize,\n\u001b[0;32m    166\u001b[0m     )\n\u001b[1;32m--> 167\u001b[0m     \u001b[38;5;28;01mreturn\u001b[39;00m \u001b[43m_df_to_geodf\u001b[49m\u001b[43m(\u001b[49m\u001b[43mdf\u001b[49m\u001b[43m,\u001b[49m\u001b[43m \u001b[49m\u001b[43mgeom_col\u001b[49m\u001b[38;5;241;43m=\u001b[39;49m\u001b[43mgeom_col\u001b[49m\u001b[43m,\u001b[49m\u001b[43m \u001b[49m\u001b[43mcrs\u001b[49m\u001b[38;5;241;43m=\u001b[39;49m\u001b[43mcrs\u001b[49m\u001b[43m)\u001b[49m\n\u001b[0;32m    169\u001b[0m \u001b[38;5;28;01melse\u001b[39;00m:\n\u001b[0;32m    170\u001b[0m     \u001b[38;5;66;03m# read data in chunks and return a generator\u001b[39;00m\n\u001b[0;32m    171\u001b[0m     df_generator \u001b[38;5;241m=\u001b[39m pd\u001b[38;5;241m.\u001b[39mread_sql(\n\u001b[0;32m    172\u001b[0m         sql,\n\u001b[0;32m    173\u001b[0m         con,\n\u001b[1;32m   (...)\u001b[0m\n\u001b[0;32m    178\u001b[0m         chunksize\u001b[38;5;241m=\u001b[39mchunksize,\n\u001b[0;32m    179\u001b[0m     )\n",
      "File \u001b[1;32m~\\anaconda3\\envs\\earth2\\lib\\site-packages\\geopandas\\io\\sql.py:97\u001b[0m, in \u001b[0;36m_df_to_geodf\u001b[1;34m(df, geom_col, crs)\u001b[0m\n\u001b[0;32m     94\u001b[0m         \u001b[38;5;28;01mif\u001b[39;00m srid \u001b[38;5;241m!=\u001b[39m \u001b[38;5;241m0\u001b[39m:\n\u001b[0;32m     95\u001b[0m             crs \u001b[38;5;241m=\u001b[39m \u001b[38;5;124m\"\u001b[39m\u001b[38;5;124mepsg:\u001b[39m\u001b[38;5;132;01m{}\u001b[39;00m\u001b[38;5;124m\"\u001b[39m\u001b[38;5;241m.\u001b[39mformat(srid)\n\u001b[1;32m---> 97\u001b[0m \u001b[38;5;28;01mreturn\u001b[39;00m \u001b[43mGeoDataFrame\u001b[49m\u001b[43m(\u001b[49m\u001b[43mdf\u001b[49m\u001b[43m,\u001b[49m\u001b[43m \u001b[49m\u001b[43mcrs\u001b[49m\u001b[38;5;241;43m=\u001b[39;49m\u001b[43mcrs\u001b[49m\u001b[43m,\u001b[49m\u001b[43m \u001b[49m\u001b[43mgeometry\u001b[49m\u001b[38;5;241;43m=\u001b[39;49m\u001b[43mgeom_col\u001b[49m\u001b[43m)\u001b[49m\n",
      "File \u001b[1;32m~\\anaconda3\\envs\\earth2\\lib\\site-packages\\geopandas\\geodataframe.py:188\u001b[0m, in \u001b[0;36mGeoDataFrame.__init__\u001b[1;34m(self, data, geometry, crs, *args, **kwargs)\u001b[0m\n\u001b[0;32m    180\u001b[0m     \u001b[38;5;28;01mif\u001b[39;00m (\n\u001b[0;32m    181\u001b[0m         \u001b[38;5;28mhasattr\u001b[39m(geometry, \u001b[38;5;124m\"\u001b[39m\u001b[38;5;124mcrs\u001b[39m\u001b[38;5;124m\"\u001b[39m)\n\u001b[0;32m    182\u001b[0m         \u001b[38;5;129;01mand\u001b[39;00m geometry\u001b[38;5;241m.\u001b[39mcrs\n\u001b[0;32m    183\u001b[0m         \u001b[38;5;129;01mand\u001b[39;00m crs\n\u001b[0;32m    184\u001b[0m         \u001b[38;5;129;01mand\u001b[39;00m \u001b[38;5;129;01mnot\u001b[39;00m geometry\u001b[38;5;241m.\u001b[39mcrs \u001b[38;5;241m==\u001b[39m crs\n\u001b[0;32m    185\u001b[0m     ):\n\u001b[0;32m    186\u001b[0m         \u001b[38;5;28;01mraise\u001b[39;00m \u001b[38;5;167;01mValueError\u001b[39;00m(crs_mismatch_error)\n\u001b[1;32m--> 188\u001b[0m     \u001b[38;5;28;43mself\u001b[39;49m\u001b[38;5;241;43m.\u001b[39;49m\u001b[43mset_geometry\u001b[49m\u001b[43m(\u001b[49m\u001b[43mgeometry\u001b[49m\u001b[43m,\u001b[49m\u001b[43m \u001b[49m\u001b[43minplace\u001b[49m\u001b[38;5;241;43m=\u001b[39;49m\u001b[38;5;28;43;01mTrue\u001b[39;49;00m\u001b[43m,\u001b[49m\u001b[43m \u001b[49m\u001b[43mcrs\u001b[49m\u001b[38;5;241;43m=\u001b[39;49m\u001b[43mcrs\u001b[49m\u001b[43m)\u001b[49m\n\u001b[0;32m    190\u001b[0m \u001b[38;5;28;01mif\u001b[39;00m geometry \u001b[38;5;129;01mis\u001b[39;00m \u001b[38;5;28;01mNone\u001b[39;00m \u001b[38;5;129;01mand\u001b[39;00m crs:\n\u001b[0;32m    191\u001b[0m     \u001b[38;5;28;01mraise\u001b[39;00m \u001b[38;5;167;01mValueError\u001b[39;00m(\n\u001b[0;32m    192\u001b[0m         \u001b[38;5;124m\"\u001b[39m\u001b[38;5;124mAssigning CRS to a GeoDataFrame without a geometry column is not \u001b[39m\u001b[38;5;124m\"\u001b[39m\n\u001b[0;32m    193\u001b[0m         \u001b[38;5;124m\"\u001b[39m\u001b[38;5;124msupported. Supply geometry using the \u001b[39m\u001b[38;5;124m'\u001b[39m\u001b[38;5;124mgeometry=\u001b[39m\u001b[38;5;124m'\u001b[39m\u001b[38;5;124m keyword argument, \u001b[39m\u001b[38;5;124m\"\u001b[39m\n\u001b[0;32m    194\u001b[0m         \u001b[38;5;124m\"\u001b[39m\u001b[38;5;124mor by providing a DataFrame with column name \u001b[39m\u001b[38;5;124m'\u001b[39m\u001b[38;5;124mgeometry\u001b[39m\u001b[38;5;124m'\u001b[39m\u001b[38;5;124m\"\u001b[39m,\n\u001b[0;32m    195\u001b[0m     )\n",
      "File \u001b[1;32m~\\anaconda3\\envs\\earth2\\lib\\site-packages\\geopandas\\geodataframe.py:346\u001b[0m, in \u001b[0;36mGeoDataFrame.set_geometry\u001b[1;34m(self, col, drop, inplace, crs)\u001b[0m\n\u001b[0;32m    343\u001b[0m     level\u001b[38;5;241m.\u001b[39mcrs \u001b[38;5;241m=\u001b[39m crs\n\u001b[0;32m    345\u001b[0m \u001b[38;5;66;03m# Check that we are using a listlike of geometries\u001b[39;00m\n\u001b[1;32m--> 346\u001b[0m level \u001b[38;5;241m=\u001b[39m \u001b[43m_ensure_geometry\u001b[49m\u001b[43m(\u001b[49m\u001b[43mlevel\u001b[49m\u001b[43m,\u001b[49m\u001b[43m \u001b[49m\u001b[43mcrs\u001b[49m\u001b[38;5;241;43m=\u001b[39;49m\u001b[43mcrs\u001b[49m\u001b[43m)\u001b[49m\n\u001b[0;32m    347\u001b[0m frame[geo_column_name] \u001b[38;5;241m=\u001b[39m level\n\u001b[0;32m    348\u001b[0m frame\u001b[38;5;241m.\u001b[39m_geometry_column_name \u001b[38;5;241m=\u001b[39m geo_column_name\n",
      "File \u001b[1;32m~\\anaconda3\\envs\\earth2\\lib\\site-packages\\geopandas\\geodataframe.py:59\u001b[0m, in \u001b[0;36m_ensure_geometry\u001b[1;34m(data, crs)\u001b[0m\n\u001b[0;32m     57\u001b[0m \u001b[38;5;28;01melse\u001b[39;00m:\n\u001b[0;32m     58\u001b[0m     \u001b[38;5;28;01mif\u001b[39;00m \u001b[38;5;28misinstance\u001b[39m(data, Series):\n\u001b[1;32m---> 59\u001b[0m         out \u001b[38;5;241m=\u001b[39m \u001b[43mfrom_shapely\u001b[49m\u001b[43m(\u001b[49m\u001b[43mnp\u001b[49m\u001b[38;5;241;43m.\u001b[39;49m\u001b[43masarray\u001b[49m\u001b[43m(\u001b[49m\u001b[43mdata\u001b[49m\u001b[43m)\u001b[49m\u001b[43m,\u001b[49m\u001b[43m \u001b[49m\u001b[43mcrs\u001b[49m\u001b[38;5;241;43m=\u001b[39;49m\u001b[43mcrs\u001b[49m\u001b[43m)\u001b[49m\n\u001b[0;32m     60\u001b[0m         \u001b[38;5;28;01mreturn\u001b[39;00m GeoSeries(out, index\u001b[38;5;241m=\u001b[39mdata\u001b[38;5;241m.\u001b[39mindex, name\u001b[38;5;241m=\u001b[39mdata\u001b[38;5;241m.\u001b[39mname)\n\u001b[0;32m     61\u001b[0m     \u001b[38;5;28;01melse\u001b[39;00m:\n",
      "File \u001b[1;32m~\\anaconda3\\envs\\earth2\\lib\\site-packages\\geopandas\\array.py:154\u001b[0m, in \u001b[0;36mfrom_shapely\u001b[1;34m(data, crs)\u001b[0m\n\u001b[0;32m    138\u001b[0m \u001b[38;5;28;01mdef\u001b[39;00m \u001b[38;5;21mfrom_shapely\u001b[39m(data, crs\u001b[38;5;241m=\u001b[39m\u001b[38;5;28;01mNone\u001b[39;00m):\n\u001b[0;32m    139\u001b[0m     \u001b[38;5;124;03m\"\"\"\u001b[39;00m\n\u001b[0;32m    140\u001b[0m \u001b[38;5;124;03m    Convert a list or array of shapely objects to a GeometryArray.\u001b[39;00m\n\u001b[0;32m    141\u001b[0m \n\u001b[1;32m   (...)\u001b[0m\n\u001b[0;32m    152\u001b[0m \n\u001b[0;32m    153\u001b[0m \u001b[38;5;124;03m    \"\"\"\u001b[39;00m\n\u001b[1;32m--> 154\u001b[0m     \u001b[38;5;28;01mreturn\u001b[39;00m \u001b[43mGeometryArray\u001b[49m\u001b[43m(\u001b[49m\u001b[43mvectorized\u001b[49m\u001b[38;5;241;43m.\u001b[39;49m\u001b[43mfrom_shapely\u001b[49m\u001b[43m(\u001b[49m\u001b[43mdata\u001b[49m\u001b[43m)\u001b[49m\u001b[43m,\u001b[49m\u001b[43m \u001b[49m\u001b[43mcrs\u001b[49m\u001b[38;5;241;43m=\u001b[39;49m\u001b[43mcrs\u001b[49m\u001b[43m)\u001b[49m\n",
      "File \u001b[1;32m~\\anaconda3\\envs\\earth2\\lib\\site-packages\\geopandas\\array.py:289\u001b[0m, in \u001b[0;36mGeometryArray.__init__\u001b[1;34m(self, data, crs)\u001b[0m\n\u001b[0;32m    286\u001b[0m \u001b[38;5;28mself\u001b[39m\u001b[38;5;241m.\u001b[39mdata \u001b[38;5;241m=\u001b[39m data\n\u001b[0;32m    288\u001b[0m \u001b[38;5;28mself\u001b[39m\u001b[38;5;241m.\u001b[39m_crs \u001b[38;5;241m=\u001b[39m \u001b[38;5;28;01mNone\u001b[39;00m\n\u001b[1;32m--> 289\u001b[0m \u001b[38;5;28mself\u001b[39m\u001b[38;5;241m.\u001b[39mcrs \u001b[38;5;241m=\u001b[39m crs\n\u001b[0;32m    290\u001b[0m \u001b[38;5;28mself\u001b[39m\u001b[38;5;241m.\u001b[39m_sindex \u001b[38;5;241m=\u001b[39m \u001b[38;5;28;01mNone\u001b[39;00m\n",
      "File \u001b[1;32m~\\anaconda3\\envs\\earth2\\lib\\site-packages\\geopandas\\array.py:339\u001b[0m, in \u001b[0;36mGeometryArray.crs\u001b[1;34m(self, value)\u001b[0m\n\u001b[0;32m    336\u001b[0m \u001b[38;5;129m@crs\u001b[39m\u001b[38;5;241m.\u001b[39msetter\n\u001b[0;32m    337\u001b[0m \u001b[38;5;28;01mdef\u001b[39;00m \u001b[38;5;21mcrs\u001b[39m(\u001b[38;5;28mself\u001b[39m, value):\n\u001b[0;32m    338\u001b[0m     \u001b[38;5;124;03m\"\"\"Sets the value of the crs\"\"\"\u001b[39;00m\n\u001b[1;32m--> 339\u001b[0m     \u001b[38;5;28mself\u001b[39m\u001b[38;5;241m.\u001b[39m_crs \u001b[38;5;241m=\u001b[39m \u001b[38;5;28;01mNone\u001b[39;00m \u001b[38;5;28;01mif\u001b[39;00m \u001b[38;5;129;01mnot\u001b[39;00m value \u001b[38;5;28;01melse\u001b[39;00m \u001b[43mCRS\u001b[49m\u001b[38;5;241;43m.\u001b[39;49m\u001b[43mfrom_user_input\u001b[49m\u001b[43m(\u001b[49m\u001b[43mvalue\u001b[49m\u001b[43m)\u001b[49m\n",
      "File \u001b[1;32m~\\anaconda3\\envs\\earth2\\lib\\site-packages\\pyproj\\crs\\crs.py:479\u001b[0m, in \u001b[0;36mCRS.from_user_input\u001b[1;34m(cls, value, **kwargs)\u001b[0m\n\u001b[0;32m    477\u001b[0m \u001b[38;5;28;01mif\u001b[39;00m \u001b[38;5;28misinstance\u001b[39m(value, \u001b[38;5;28mcls\u001b[39m):\n\u001b[0;32m    478\u001b[0m     \u001b[38;5;28;01mreturn\u001b[39;00m value\n\u001b[1;32m--> 479\u001b[0m \u001b[38;5;28;01mreturn\u001b[39;00m \u001b[38;5;28;43mcls\u001b[39;49m\u001b[43m(\u001b[49m\u001b[43mvalue\u001b[49m\u001b[43m,\u001b[49m\u001b[43m \u001b[49m\u001b[38;5;241;43m*\u001b[39;49m\u001b[38;5;241;43m*\u001b[39;49m\u001b[43mkwargs\u001b[49m\u001b[43m)\u001b[49m\n",
      "File \u001b[1;32m~\\anaconda3\\envs\\earth2\\lib\\site-packages\\pyproj\\crs\\crs.py:326\u001b[0m, in \u001b[0;36mCRS.__init__\u001b[1;34m(self, projparams, **kwargs)\u001b[0m\n\u001b[0;32m    324\u001b[0m     \u001b[38;5;28mself\u001b[39m\u001b[38;5;241m.\u001b[39m_local\u001b[38;5;241m.\u001b[39mcrs \u001b[38;5;241m=\u001b[39m projparams\n\u001b[0;32m    325\u001b[0m \u001b[38;5;28;01melse\u001b[39;00m:\n\u001b[1;32m--> 326\u001b[0m     \u001b[38;5;28mself\u001b[39m\u001b[38;5;241m.\u001b[39m_local\u001b[38;5;241m.\u001b[39mcrs \u001b[38;5;241m=\u001b[39m \u001b[43m_CRS\u001b[49m\u001b[43m(\u001b[49m\u001b[38;5;28;43mself\u001b[39;49m\u001b[38;5;241;43m.\u001b[39;49m\u001b[43msrs\u001b[49m\u001b[43m)\u001b[49m\n",
      "File \u001b[1;32mpyproj\\_crs.pyx:2352\u001b[0m, in \u001b[0;36mpyproj._crs._CRS.__init__\u001b[1;34m()\u001b[0m\n",
      "\u001b[1;31mCRSError\u001b[0m: Invalid projection: epsg:54034: (Internal Proj Error: proj_create: crs not found)"
     ]
    }
   ],
   "source": [
    "flood_area_build = gpd.GeoDataFrame.from_postgis(\"afg_fldzonea_100k_ncia_v2_271_adm2-area-build\", con)\n"
   ]
  },
  {
   "cell_type": "markdown",
   "id": "4add75ef",
   "metadata": {},
   "source": [
    "### Extracting pop"
   ]
  },
  {
   "cell_type": "code",
   "execution_count": null,
   "id": "bb8dd4c4",
   "metadata": {},
   "outputs": [],
   "source": [
    "pop_path = r'D:\\iMMAP\\data\\Afghanistan\\afg_worldpop_2020_UNadj_unconstrained.tif'\n",
    "pop_rxr = rxr.open_rasterio(pop_path, masked=True).squeeze() # Open with rxr, much easier to reproject"
   ]
  },
  {
   "cell_type": "code",
   "execution_count": null,
   "id": "01fa2c98",
   "metadata": {},
   "outputs": [],
   "source": []
  },
  {
   "cell_type": "code",
   "execution_count": null,
   "id": "411fd4f8",
   "metadata": {},
   "outputs": [],
   "source": []
  },
  {
   "cell_type": "code",
   "execution_count": null,
   "id": "5c1c0531",
   "metadata": {},
   "outputs": [],
   "source": []
  },
  {
   "cell_type": "code",
   "execution_count": null,
   "id": "34148c6e",
   "metadata": {},
   "outputs": [],
   "source": []
  }
 ],
 "metadata": {
  "kernelspec": {
   "display_name": "Python 3 (ipykernel)",
   "language": "python",
   "name": "python3"
  },
  "language_info": {
   "codemirror_mode": {
    "name": "ipython",
    "version": 3
   },
   "file_extension": ".py",
   "mimetype": "text/x-python",
   "name": "python",
   "nbconvert_exporter": "python",
   "pygments_lexer": "ipython3",
   "version": "3.8.12"
  }
 },
 "nbformat": 4,
 "nbformat_minor": 5
}

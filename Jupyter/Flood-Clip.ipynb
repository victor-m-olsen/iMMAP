{
 "cells": [
  {
   "cell_type": "code",
   "execution_count": null,
   "id": "da3de748",
   "metadata": {},
   "outputs": [],
   "source": [
    "import os\n",
    "import geopandas as gpd\n",
    "import pandas as pd\n",
    "import pyproj\n",
    "from sqlalchemy import create_engine\n",
    "import psycopg2 # required for exporting to postgis\n",
    "import folium\n",
    "from folium.plugins import MousePosition\n",
    "\n",
    "#from sqlalchemy import create_engine\n",
    "#import pyproj\n",
    "#import pandas as pd\n",
    "#import numpy as np"
   ]
  },
  {
   "cell_type": "code",
   "execution_count": null,
   "id": "e2d5e8d6",
   "metadata": {},
   "outputs": [],
   "source": [
    "password = ''\n",
    "db_connection_url = \"postgresql://postgres:{}@localhost:5432/HSDC\".format(password)\n",
    "con = create_engine(db_connection_url)"
   ]
  },
  {
   "cell_type": "code",
   "execution_count": null,
   "id": "19828fca",
   "metadata": {},
   "outputs": [],
   "source": [
    "pd.set_option('display.max_columns', None)"
   ]
  },
  {
   "cell_type": "code",
   "execution_count": null,
   "id": "f1a71608",
   "metadata": {},
   "outputs": [],
   "source": [
    "os.chdir(r'D:\\iMMAP\\proj\\ASDC\\data\\flood_layer')"
   ]
  },
  {
   "cell_type": "markdown",
   "id": "e02b53e5",
   "metadata": {},
   "source": [
    "## Preping vector data"
   ]
  },
  {
   "cell_type": "code",
   "execution_count": null,
   "id": "5f5cc05b",
   "metadata": {},
   "outputs": [],
   "source": [
    "# Define projection\n",
    "repro_crs = '+proj=cea'\n",
    "\n",
    "# Load data and convert to equal area projection\n",
    "admin = gpd.GeoDataFrame.from_postgis('SELECT * from afg_admbnda_adm2', con).to_crs(repro_crs)\n",
    "#flood_l1 = gpd.GeoDataFrame.from_postgis('SELECT * from afg_fldzonea_100k_ncia_v2_029cm_dissolve_all_v2', con, 'wkb_geometry').to_crs(repro_crs)\n",
    "#flood_l2 = gpd.GeoDataFrame.from_postgis('SELECT * from afg_fldzonea_100k_ncia_v2_121cm_dissolve_all_v2', con, 'wkb_geometry').to_crs(repro_crs)\n",
    "flood_l3 = gpd.GeoDataFrame.from_postgis('SELECT * from afg_fldzonea_100k_ncia_v2_271cm_dissolve_all_v2', con, 'wkb_geometry').to_crs(repro_crs)\n",
    "\n",
    "#water_shed = gpd.GeoDataFrame.from_postgis('SELECT * from afg_sheda_lvl3', con, 'wkb_geometry').to_crs('ESRI:53034')\n",
    "#build = gpd.GeoDataFrame.from_postgis('SELECT * from afg_buildings_microsoft', con).to_crs('ESRI:53034')\n",
    "#pop = rio.open(r'D:\\iMMAP\\data\\Afghanistan\\afg_worldpop_2020_UNadj_unconstrained.tif')"
   ]
  },
  {
   "cell_type": "code",
   "execution_count": null,
   "id": "39122a29",
   "metadata": {},
   "outputs": [],
   "source": [
    "#dissolve by district and province - done\n",
    "#cut by new district and province\n",
    "#zonal stats on pop, build\n",
    "#calculate area"
   ]
  },
  {
   "cell_type": "code",
   "execution_count": null,
   "id": "288781fe",
   "metadata": {},
   "outputs": [],
   "source": [
    "flood_l3_dis = flood_l3.clip(admin)\n",
    "flood_l3_dis"
   ]
  },
  {
   "cell_type": "code",
   "execution_count": null,
   "id": "23a955b0",
   "metadata": {},
   "outputs": [],
   "source": [
    "flood_l3_dis.plot()"
   ]
  },
  {
   "cell_type": "code",
   "execution_count": null,
   "id": "cf9b98ce",
   "metadata": {},
   "outputs": [],
   "source": [
    "#admin2 = admin.to_crs(epsg=4326)\n",
    "\n",
    "m = folium.Map(location=[32.2035,  69.7423], zoom_start=10)\n",
    "\n",
    "for _, r in flood_l3.iterrows():\n",
    "    # Without simplifying the representation of each borough,\n",
    "    # the map might not be displayed\n",
    "    sim_geo = gpd.GeoSeries(r['wkb_geometry']).simplify(tolerance=0.001)\n",
    "    geo_j = sim_geo.to_json()\n",
    "    geo_j = folium.GeoJson(data=geo_j,\n",
    "                           style_function=lambda x: {'fillColor': 'orange'})\n",
    "    #folium.Popup(r['district_n']).add_to(geo_j)\n",
    "    geo_j.add_to(m)\n",
    "\n",
    "MousePosition().add_to(m)\n"
   ]
  },
  {
   "cell_type": "code",
   "execution_count": null,
   "id": "09079004",
   "metadata": {},
   "outputs": [],
   "source": [
    "m"
   ]
  },
  {
   "cell_type": "code",
   "execution_count": null,
   "id": "6dc969e2",
   "metadata": {},
   "outputs": [],
   "source": [
    "##m2 = folium.Map(location=[32.2035,  69.7423], zoom_start=10)\n",
    "##\n",
    "##for _, r in flood_l1_dis.to_crs(epsg=4326).iterrows():\n",
    "##    # Without simplifying the representation of each borough,\n",
    "##    # the map might not be displayed\n",
    "##    sim_geo = gpd.GeoSeries(r['wkb_geometry']) #.simplify(tolerance=0.001)\n",
    "##    geo_j = sim_geo.to_json()\n",
    "##    geo_j = folium.GeoJson(data=geo_j,\n",
    "##                           style_function=lambda x: {'fillColor': 'orange'})\n",
    "##    #folium.Popup(r['district_n']).add_to(geo_j)\n",
    "##    geo_j.add_to(m2)\n",
    "##\n",
    "##MousePosition().add_to(m2)\n",
    "##\n",
    "##m2"
   ]
  },
  {
   "cell_type": "code",
   "execution_count": null,
   "id": "34148c6e",
   "metadata": {},
   "outputs": [],
   "source": [
    "# Save to PostGIS\n",
    "#flood_l1_dis_clean.to_postgis(\"afg_fldzonea_100k_ncia_v2_029cm_dissolve_all\", con)#"
   ]
  }
 ],
 "metadata": {
  "kernelspec": {
   "display_name": "Python 3 (ipykernel)",
   "language": "python",
   "name": "python3"
  },
  "language_info": {
   "codemirror_mode": {
    "name": "ipython",
    "version": 3
   },
   "file_extension": ".py",
   "mimetype": "text/x-python",
   "name": "python",
   "nbconvert_exporter": "python",
   "pygments_lexer": "ipython3",
   "version": "3.8.12"
  }
 },
 "nbformat": 4,
 "nbformat_minor": 5
}

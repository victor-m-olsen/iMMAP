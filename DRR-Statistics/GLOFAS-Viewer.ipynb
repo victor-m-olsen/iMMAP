{
 "cells": [
  {
   "cell_type": "code",
   "execution_count": null,
   "id": "bdd1221d",
   "metadata": {},
   "outputs": [],
   "source": [
    "import os\n",
    "\n",
    "import numpy as np\n",
    "import pandas as pd\n",
    "import matplotlib.pyplot as plt\n",
    "# netCDF4 needs to be installed in your environment for this to work\n",
    "import xarray as xr\n",
    "import rioxarray as rxr\n",
    "import cartopy.crs as ccrs\n",
    "import cartopy.feature as cfeature\n",
    "import seaborn as sns\n",
    "import geopandas as gpd\n",
    "import earthpy as et\n",
    "\n",
    "# Plotting options\n",
    "sns.set(font_scale=1.3)\n",
    "sns.set_style(\"white\")"
   ]
  },
  {
   "cell_type": "code",
   "execution_count": null,
   "id": "703e0edb",
   "metadata": {},
   "outputs": [],
   "source": [
    "nc_path = r\"D:\\iMMAP\\proj\\ASDC\\data\\Flood\\GLOFAS\\afg_glofas_example\\type_cf_date_2022-08-14.nc\""
   ]
  },
  {
   "cell_type": "code",
   "execution_count": null,
   "id": "2ed3a523",
   "metadata": {
    "scrolled": true
   },
   "outputs": [],
   "source": [
    "# Open as xarray\n",
    "nc  = xr.open_dataset(nc_path)\n",
    "nc"
   ]
  },
  {
   "cell_type": "code",
   "execution_count": null,
   "id": "33f56676",
   "metadata": {},
   "outputs": [],
   "source": [
    "#Making df with lat and long coordinates\n",
    "\n",
    "lat_df = nc[\"latitude\"][0:81].to_dataframe()[\"latitude\"]\n",
    "long_df = nc[\"longitude\"][0:81].to_dataframe()[\"longitude\"]\n",
    "\n",
    "df = pd.DataFrame(list(zip(lat_df, long_df)),\n",
    "               columns =['lat', 'long'])\n",
    "df\n",
    "\n"
   ]
  },
  {
   "cell_type": "code",
   "execution_count": null,
   "id": "932b0fa3",
   "metadata": {
    "scrolled": true
   },
   "outputs": [],
   "source": [
    "# Plot coordinates with an admin layer\n",
    "\n",
    "nc_gdf = gpd.GeoDataFrame(\n",
    "    df, geometry=gpd.points_from_xy(df.long, df.lat))\n",
    "admin_shp = r\"D:\\iMMAP\\data\\Afghanistan\\AFG_AdminBoundaries_AGCHO_20211117\\Shapefiles\\afg_admbnda_adm2_agcho_20211117.shp\"\n",
    "admin_gdf = gpd.read_file(admin_shp)\n",
    "\n",
    "base = admin_gdf.plot(color='white', edgecolor='black')\n",
    "nc_gdf.plot(ax=base, marker='o', color='red', markersize=5);\n"
   ]
  },
  {
   "cell_type": "code",
   "execution_count": null,
   "id": "17c19df6",
   "metadata": {},
   "outputs": [],
   "source": [
    "# Trying to get the crs of the data using rioxarray (non available, but most likely EPSG:4326)\n",
    "nc_crs = nc.rio.crs\n",
    "print(nc_crs)"
   ]
  },
  {
   "cell_type": "code",
   "execution_count": null,
   "id": "e79e32f1",
   "metadata": {},
   "outputs": [],
   "source": [
    "# View first 5 latitude values\n",
    "print(nc[\"dis24\"][\"latitude\"].values[:5])\n",
    "print(nc[\"dis24\"][\"longitude\"].values[:5])\n",
    "\n",
    "\n",
    "print(\"The min and max latitude values in the data is:\", \n",
    "      nc[\"dis24\"][\"latitude\"].values.min(), \n",
    "      nc[\"dis24\"][\"latitude\"].values.max())\n",
    "print(\"The min and max longitude values in the data is:\", \n",
    "      nc[\"dis24\"][\"longitude\"].values.min(), \n",
    "      nc[\"dis24\"][\"longitude\"].values.max())"
   ]
  },
  {
   "cell_type": "code",
   "execution_count": null,
   "id": "dc2cc6e7",
   "metadata": {},
   "outputs": [],
   "source": [
    "print(\"The earliest date in the data is:\", nc[\"dis24\"][\"time\"].values.min())\n",
    "print(\"The latest date in the data is:\", nc[\"dis24\"][\"time\"].values.max())\n",
    "print(nc[\"dis24\"].values.shape)"
   ]
  },
  {
   "cell_type": "code",
   "execution_count": null,
   "id": "dcf4a6f1",
   "metadata": {},
   "outputs": [],
   "source": [
    "# View metadata\n",
    "metadata = nc.attrs\n",
    "metadata"
   ]
  },
  {
   "cell_type": "code",
   "execution_count": null,
   "id": "3bf09122",
   "metadata": {},
   "outputs": [],
   "source": [
    "# Select a single x,y combination from the data\n",
    "key=80\n",
    "longitude = nc[\"dis24\"][\"longitude\"].values[key]\n",
    "latitude = nc[\"dis24\"][\"latitude\"].values[key]\n",
    "\n",
    "print(\"Long, Lat values:\", longitude, latitude)\n"
   ]
  },
  {
   "cell_type": "code",
   "execution_count": null,
   "id": "831d6e26",
   "metadata": {},
   "outputs": [],
   "source": [
    "# Slice the data spatially using a single lat/lon point\n",
    "one_point = nc[\"dis24\"].sel(lat=30.049, lon=66.049)\n",
    "one_point"
   ]
  }
 ],
 "metadata": {
  "kernelspec": {
   "display_name": "Python 3 (ipykernel)",
   "language": "python",
   "name": "python3"
  },
  "language_info": {
   "codemirror_mode": {
    "name": "ipython",
    "version": 3
   },
   "file_extension": ".py",
   "mimetype": "text/x-python",
   "name": "python",
   "nbconvert_exporter": "python",
   "pygments_lexer": "ipython3",
   "version": "3.8.12"
  }
 },
 "nbformat": 4,
 "nbformat_minor": 5
}

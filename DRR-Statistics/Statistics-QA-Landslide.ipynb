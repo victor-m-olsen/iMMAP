{
 "cells": [
  {
   "cell_type": "code",
   "execution_count": 1,
   "id": "d8daf3b6",
   "metadata": {},
   "outputs": [],
   "source": [
    "import os\n",
    "import json\n",
    "import geopandas as gpd\n",
    "import pandas as pd\n",
    "import psycopg2\n",
    "from sqlalchemy import create_engine"
   ]
  },
  {
   "cell_type": "code",
   "execution_count": 2,
   "id": "3fce2caf",
   "metadata": {},
   "outputs": [],
   "source": [
    "# Load database configuration from file\n",
    "with open(r'D:\\iMMAP\\code\\db_config\\hsdc_local_db_config.json', 'r') as f:\n",
    "    config = json.load(f)\n",
    "\n",
    "# Create database URL with credentials\n",
    "db_url = f\"postgresql://{config['username']}:{config['password']}@{config['host']}:{config['port']}/{config['database']}\"\n",
    "\n",
    "# Connect to the database\n",
    "con = create_engine(db_url)"
   ]
  },
  {
   "cell_type": "code",
   "execution_count": 3,
   "id": "4e133136",
   "metadata": {},
   "outputs": [],
   "source": [
    "pd.set_option('display.max_columns', None)"
   ]
  },
  {
   "cell_type": "markdown",
   "id": "cc4c1b5d",
   "metadata": {},
   "source": [
    "### Building centroids"
   ]
  },
  {
   "cell_type": "code",
   "execution_count": 4,
   "id": "c4b2a27c",
   "metadata": {},
   "outputs": [
    {
     "data": {
      "text/plain": [
       "geom    6588698\n",
       "dtype: int64"
      ]
     },
     "execution_count": 4,
     "metadata": {},
     "output_type": "execute_result"
    }
   ],
   "source": [
    "build_count = gpd.GeoDataFrame.from_postgis('SELECT * from afg_buildings_microsoft_centroids', con).count()\n",
    "build_count"
   ]
  },
  {
   "cell_type": "markdown",
   "id": "f5b2525c",
   "metadata": {},
   "source": [
    "### Landslide stats"
   ]
  },
  {
   "cell_type": "code",
   "execution_count": 6,
   "id": "d251bedd",
   "metadata": {},
   "outputs": [
    {
     "name": "stdout",
     "output_type": "stream",
     "text": [
      "build_count 8385.0\n",
      "pop_sum 31669716.91\n",
      "area_km2 29877.370000000003\n"
     ]
    }
   ],
   "source": [
    "adm = gpd.GeoDataFrame.from_postgis('SELECT * from adm_stats_landslide', con)\n",
    "print('build_count', adm.build_ls_4.sum())\n",
    "print('pop_sum', adm.pop_sum.sum())\n",
    "print('area_km2', adm.km2_ls_4.sum())"
   ]
  },
  {
   "cell_type": "code",
   "execution_count": 7,
   "id": "4081679f",
   "metadata": {},
   "outputs": [
    {
     "name": "stdout",
     "output_type": "stream",
     "text": [
      "build_count 8385.0\n",
      "pop_sum 31669713.700000003\n",
      "area_km2 29877.4\n"
     ]
    }
   ],
   "source": [
    "adm = gpd.GeoDataFrame.from_postgis('SELECT * from adm2_stats_landslide', con)\n",
    "print('build_count', adm.build_ls_4.sum())\n",
    "print('pop_sum', adm.pop_sum.sum())\n",
    "print('area_km2', adm.km2_ls_4.sum())"
   ]
  },
  {
   "cell_type": "code",
   "execution_count": 8,
   "id": "eb09d3fe",
   "metadata": {},
   "outputs": [
    {
     "name": "stdout",
     "output_type": "stream",
     "text": [
      "build_count 8385\n",
      "pop_sum 31669724.07\n",
      "area_km2 29877.4\n"
     ]
    }
   ],
   "source": [
    "adm = gpd.GeoDataFrame.from_postgis('SELECT * from region_stats_landslide', con)\n",
    "print('build_count', adm.build_ls_4.sum())\n",
    "print('pop_sum', adm.pop_sum.sum())\n",
    "print('area_km2', adm.km2_ls_4.sum())"
   ]
  },
  {
   "cell_type": "markdown",
   "id": "cc743a66",
   "metadata": {},
   "source": [
    "### Flood stats"
   ]
  },
  {
   "cell_type": "code",
   "execution_count": null,
   "id": "d825f67c",
   "metadata": {},
   "outputs": [],
   "source": [
    "adm = gpd.GeoDataFrame.from_postgis('SELECT * from afg_admbnda_adm1_flood_stats', con)\n",
    "print('build_count     ', adm.build_029cm.sum())\n",
    "print('pop_sum         ', adm.pop_sum_029cm.sum())\n",
    "print('area_km2        ', adm.km2_029cm.sum())\n",
    "\n",
    "print('\\n')\n",
    "\n",
    "print('build_count     ', adm.build_121cm.sum())\n",
    "print('pop_sum         ', adm.pop_sum_121cm.sum())\n",
    "print('area_km2        ', adm.km2_121cm.sum())\n",
    "\n",
    "print('\\n')\n",
    "\n",
    "print('build_count     ', adm.build_271cm.sum())\n",
    "print('pop_sum         ', adm.pop_sum_271cm.sum())\n",
    "print('area_km2        ', adm.km2_271cm.sum())"
   ]
  },
  {
   "cell_type": "code",
   "execution_count": null,
   "id": "96002ae3",
   "metadata": {},
   "outputs": [],
   "source": [
    "adm = gpd.GeoDataFrame.from_postgis('SELECT * from afg_admbnda_adm2_flood_stats', con)\n",
    "print('build_count     ', adm.build_029cm.sum())\n",
    "print('pop_sum         ', adm.pop_sum_029cm.sum())\n",
    "print('area_km2        ', adm.km2_029cm.sum())\n",
    "\n",
    "print('\\n')\n",
    "\n",
    "print('build_count     ', adm.build_121cm.sum())\n",
    "print('pop_sum         ', adm.pop_sum_121cm.sum())\n",
    "print('area_km2        ', adm.km2_121cm.sum())\n",
    "\n",
    "print('\\n')\n",
    "\n",
    "print('build_count     ', adm.build_271cm.sum())\n",
    "print('pop_sum         ', adm.pop_sum_271cm.sum())\n",
    "print('area_km2        ', adm.km2_271cm.sum())"
   ]
  },
  {
   "cell_type": "code",
   "execution_count": null,
   "id": "5c2e0172",
   "metadata": {},
   "outputs": [],
   "source": [
    "adm = gpd.GeoDataFrame.from_postgis('SELECT * from afg_admbnda_region_flood_stats', con)\n",
    "print('build_count     ', adm.build_029cm.sum())\n",
    "print('pop_sum         ', adm.pop_sum_029cm.sum())\n",
    "print('area_km2        ', adm.km2_029cm.sum())\n",
    "\n",
    "print('\\n')\n",
    "\n",
    "print('build_count     ', adm.build_121cm.sum())\n",
    "print('pop_sum         ', adm.pop_sum_121cm.sum())\n",
    "print('area_km2        ', adm.km2_121cm.sum())\n",
    "\n",
    "print('\\n')\n",
    "\n",
    "print('build_count     ', adm.build_271cm.sum())\n",
    "print('pop_sum         ', adm.pop_sum_271cm.sum())\n",
    "print('area_km2        ', adm.km2_271cm.sum())"
   ]
  },
  {
   "cell_type": "markdown",
   "id": "ed093ce5",
   "metadata": {},
   "source": [
    "### Avalanche stats"
   ]
  },
  {
   "cell_type": "code",
   "execution_count": null,
   "id": "0dd764c4",
   "metadata": {},
   "outputs": [],
   "source": [
    "adm = gpd.GeoDataFrame.from_postgis('SELECT * from afg_admbnda_adm1_av_stats', con)\n",
    "print('build_count     ', adm.build.sum())\n",
    "print('pop_sum         ', adm.pop_sum.sum())\n",
    "print('m2              ', adm.m2.sum())"
   ]
  },
  {
   "cell_type": "code",
   "execution_count": null,
   "id": "67814d43",
   "metadata": {},
   "outputs": [],
   "source": [
    "adm = gpd.GeoDataFrame.from_postgis('SELECT * from afg_admbnda_adm2_av_stats', con)\n",
    "print('build_count     ', adm.build.sum())\n",
    "print('pop_sum         ', adm.pop_sum.sum())\n",
    "print('m2              ', adm.m2.sum())"
   ]
  },
  {
   "cell_type": "code",
   "execution_count": null,
   "id": "bfc0bc6b",
   "metadata": {},
   "outputs": [],
   "source": [
    "adm = gpd.GeoDataFrame.from_postgis('SELECT * from afg_admbnda_region_av_stats', con)\n",
    "print('build_count     ', adm.build.sum())\n",
    "print('pop_sum         ', adm.pop_sum.sum())\n",
    "print('m2              ', adm.m2.sum())"
   ]
  },
  {
   "cell_type": "code",
   "execution_count": null,
   "id": "449befe0",
   "metadata": {},
   "outputs": [],
   "source": [
    "zonal_stats = gpd.read_file(\"D:\\iMMAP\\proj\\ASDC\\data\\Avalanche-QA\\subset_zonalstats_v06.shp\")"
   ]
  },
  {
   "cell_type": "code",
   "execution_count": null,
   "id": "48a1fb72",
   "metadata": {},
   "outputs": [],
   "source": [
    "zonal_stats['_sum'].sum()"
   ]
  },
  {
   "cell_type": "code",
   "execution_count": null,
   "id": "f38410c0",
   "metadata": {},
   "outputs": [],
   "source": [
    "zonal_stats['area'].sum()"
   ]
  }
 ],
 "metadata": {
  "kernelspec": {
   "display_name": "Python 3 (ipykernel)",
   "language": "python",
   "name": "python3"
  },
  "language_info": {
   "codemirror_mode": {
    "name": "ipython",
    "version": 3
   },
   "file_extension": ".py",
   "mimetype": "text/x-python",
   "name": "python",
   "nbconvert_exporter": "python",
   "pygments_lexer": "ipython3",
   "version": "3.8.12"
  }
 },
 "nbformat": 4,
 "nbformat_minor": 5
}

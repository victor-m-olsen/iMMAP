{
 "cells": [
  {
   "cell_type": "code",
   "execution_count": 1,
   "id": "d8daf3b6",
   "metadata": {},
   "outputs": [],
   "source": [
    "import os\n",
    "import json\n",
    "import geopandas as gpd\n",
    "import pandas as pd\n",
    "import psycopg2\n",
    "from sqlalchemy import create_engine"
   ]
  },
  {
   "cell_type": "code",
   "execution_count": 2,
   "id": "3fce2caf",
   "metadata": {},
   "outputs": [],
   "source": [
    "# Load database configuration from file\n",
    "with open(r'D:\\iMMAP\\code\\db_config\\hsdc_local_db_config.json', 'r') as f:\n",
    "    config = json.load(f)\n",
    "\n",
    "# Create database URL with credentials\n",
    "db_url = f\"postgresql://{config['username']}:{config['password']}@{config['host']}:{config['port']}/{config['database']}\"\n",
    "\n",
    "# Connect to the database\n",
    "con = create_engine(db_url)"
   ]
  },
  {
   "cell_type": "code",
   "execution_count": 3,
   "id": "4e133136",
   "metadata": {},
   "outputs": [],
   "source": [
    "pd.set_option('display.max_columns', None)"
   ]
  },
  {
   "cell_type": "markdown",
   "id": "cc4c1b5d",
   "metadata": {},
   "source": [
    "### Building centroids"
   ]
  },
  {
   "cell_type": "code",
   "execution_count": 45,
   "id": "c4b2a27c",
   "metadata": {},
   "outputs": [
    {
     "data": {
      "text/plain": [
       "geom    6588698\n",
       "dtype: int64"
      ]
     },
     "execution_count": 45,
     "metadata": {},
     "output_type": "execute_result"
    }
   ],
   "source": [
    "build_count = gpd.GeoDataFrame.from_postgis('SELECT * from afg_buildings_microsoft_centroids', con).count()\n",
    "build_count"
   ]
  },
  {
   "cell_type": "markdown",
   "id": "f5b2525c",
   "metadata": {},
   "source": [
    "### Pop stats"
   ]
  },
  {
   "cell_type": "code",
   "execution_count": 25,
   "id": "d251bedd",
   "metadata": {},
   "outputs": [
    {
     "name": "stdout",
     "output_type": "stream",
     "text": [
      "build_count 6587646.0\n",
      "sett_count 46844.0\n",
      "pop_sum 38822162.493563935\n",
      "area_km2 642144.6953832448\n"
     ]
    }
   ],
   "source": [
    "adm = gpd.GeoDataFrame.from_postgis('SELECT * from afg_admbnda_adm1_pop_stats', con)\n",
    "print('build_count', adm.build_count.sum())\n",
    "print('sett_count', adm.sett_count.sum())\n",
    "print('pop_sum', adm.pop_sum.sum())\n",
    "print('area_km2', adm.area_km2.sum())"
   ]
  },
  {
   "cell_type": "code",
   "execution_count": 26,
   "id": "4081679f",
   "metadata": {},
   "outputs": [
    {
     "name": "stdout",
     "output_type": "stream",
     "text": [
      "build_count 6587646.0\n",
      "sett_count 46844\n",
      "pop_sum 38822162.493563935\n",
      "area_km2 642144.6953832447\n"
     ]
    }
   ],
   "source": [
    "adm = gpd.GeoDataFrame.from_postgis('SELECT * from afg_admbnda_adm2_pop_stats_v02', con)\n",
    "adm.build_count.sum()\n",
    "print('build_count', adm.build_count.sum())\n",
    "print('sett_count', adm.sett_count.sum())\n",
    "print('pop_sum', adm.pop_sum.sum())\n",
    "print('area_km2', adm.area_km2.sum())"
   ]
  },
  {
   "cell_type": "code",
   "execution_count": 27,
   "id": "eb09d3fe",
   "metadata": {},
   "outputs": [
    {
     "name": "stdout",
     "output_type": "stream",
     "text": [
      "build_count 6587646\n",
      "sett_count 46844\n",
      "pop_sum 38822162.49356319\n",
      "area_km2 642144.6953832433\n"
     ]
    }
   ],
   "source": [
    "adm = gpd.GeoDataFrame.from_postgis('SELECT * from afg_admbnda_region_pop_stats_v02', con)\n",
    "adm.build_count.sum()\n",
    "print('build_count', adm.build_count.sum())\n",
    "print('sett_count', adm.sett_count.sum())\n",
    "print('pop_sum', adm.pop_sum.sum())\n",
    "print('area_km2', adm.area_km2.sum())"
   ]
  },
  {
   "cell_type": "markdown",
   "id": "cc743a66",
   "metadata": {},
   "source": [
    "### Flood stats"
   ]
  },
  {
   "cell_type": "code",
   "execution_count": 36,
   "id": "d825f67c",
   "metadata": {},
   "outputs": [
    {
     "name": "stdout",
     "output_type": "stream",
     "text": [
      "build_count      1506800\n",
      "pop_sum          7055306.041503906\n",
      "area_km2         72991.31345435615\n",
      "\n",
      "\n",
      "build_count      793885\n",
      "pop_sum          4447561.359863281\n",
      "area_km2         41175.482205270775\n",
      "\n",
      "\n",
      "build_count      258382\n",
      "pop_sum          1976562.0349121094\n",
      "area_km2         14083.742235561198\n"
     ]
    }
   ],
   "source": [
    "adm = gpd.GeoDataFrame.from_postgis('SELECT * from afg_admbnda_adm1_flood_stats', con)\n",
    "print('build_count     ', adm.build_029cm.sum())\n",
    "print('pop_sum         ', adm.pop_sum_029cm.sum())\n",
    "print('area_km2        ', adm.km2_029cm.sum())\n",
    "\n",
    "print('\\n')\n",
    "\n",
    "print('build_count     ', adm.build_121cm.sum())\n",
    "print('pop_sum         ', adm.pop_sum_121cm.sum())\n",
    "print('area_km2        ', adm.km2_121cm.sum())\n",
    "\n",
    "print('\\n')\n",
    "\n",
    "print('build_count     ', adm.build_271cm.sum())\n",
    "print('pop_sum         ', adm.pop_sum_271cm.sum())\n",
    "print('area_km2        ', adm.km2_271cm.sum())"
   ]
  },
  {
   "cell_type": "code",
   "execution_count": 37,
   "id": "96002ae3",
   "metadata": {},
   "outputs": [
    {
     "name": "stdout",
     "output_type": "stream",
     "text": [
      "build_count      1506800.0\n",
      "pop_sum          7055305.634365082\n",
      "area_km2         72991.31345435625\n",
      "\n",
      "\n",
      "build_count      793885.0\n",
      "pop_sum          4447561.209661484\n",
      "area_km2         41175.482205271146\n",
      "\n",
      "\n",
      "build_count      258382.0\n",
      "pop_sum          1976562.2802984715\n",
      "area_km2         14083.74223556164\n"
     ]
    }
   ],
   "source": [
    "adm = gpd.GeoDataFrame.from_postgis('SELECT * from afg_admbnda_adm2_flood_stats', con)\n",
    "print('build_count     ', adm.build_029cm.sum())\n",
    "print('pop_sum         ', adm.pop_sum_029cm.sum())\n",
    "print('area_km2        ', adm.km2_029cm.sum())\n",
    "\n",
    "print('\\n')\n",
    "\n",
    "print('build_count     ', adm.build_121cm.sum())\n",
    "print('pop_sum         ', adm.pop_sum_121cm.sum())\n",
    "print('area_km2        ', adm.km2_121cm.sum())\n",
    "\n",
    "print('\\n')\n",
    "\n",
    "print('build_count     ', adm.build_271cm.sum())\n",
    "print('pop_sum         ', adm.pop_sum_271cm.sum())\n",
    "print('area_km2        ', adm.km2_271cm.sum())"
   ]
  },
  {
   "cell_type": "code",
   "execution_count": 38,
   "id": "5c2e0172",
   "metadata": {},
   "outputs": [
    {
     "name": "stdout",
     "output_type": "stream",
     "text": [
      "build_count      1506800\n",
      "pop_sum          7055306.6875\n",
      "area_km2         72991.3134543596\n",
      "\n",
      "\n",
      "build_count      793885\n",
      "pop_sum          4447559.45703125\n",
      "area_km2         41175.4822052736\n",
      "\n",
      "\n",
      "build_count      258382\n",
      "pop_sum          1976562.677734375\n",
      "area_km2         14083.742235560847\n"
     ]
    }
   ],
   "source": [
    "adm = gpd.GeoDataFrame.from_postgis('SELECT * from afg_admbnda_region_flood_stats', con)\n",
    "print('build_count     ', adm.build_029cm.sum())\n",
    "print('pop_sum         ', adm.pop_sum_029cm.sum())\n",
    "print('area_km2        ', adm.km2_029cm.sum())\n",
    "\n",
    "print('\\n')\n",
    "\n",
    "print('build_count     ', adm.build_121cm.sum())\n",
    "print('pop_sum         ', adm.pop_sum_121cm.sum())\n",
    "print('area_km2        ', adm.km2_121cm.sum())\n",
    "\n",
    "print('\\n')\n",
    "\n",
    "print('build_count     ', adm.build_271cm.sum())\n",
    "print('pop_sum         ', adm.pop_sum_271cm.sum())\n",
    "print('area_km2        ', adm.km2_271cm.sum())"
   ]
  },
  {
   "cell_type": "markdown",
   "id": "ed093ce5",
   "metadata": {},
   "source": [
    "### Avalanche stats"
   ]
  },
  {
   "cell_type": "code",
   "execution_count": 4,
   "id": "0dd764c4",
   "metadata": {},
   "outputs": [
    {
     "name": "stdout",
     "output_type": "stream",
     "text": [
      "build_count      128866.0\n",
      "pop_sum          1327956.5024108887\n",
      "m2               33752205420.41324\n"
     ]
    }
   ],
   "source": [
    "adm = gpd.GeoDataFrame.from_postgis('SELECT * from afg_admbnda_adm1_av_stats', con)\n",
    "print('build_count     ', adm.build.sum())\n",
    "print('pop_sum         ', adm.pop_sum.sum())\n",
    "print('m2              ', adm.m2.sum())"
   ]
  },
  {
   "cell_type": "code",
   "execution_count": 5,
   "id": "67814d43",
   "metadata": {},
   "outputs": [
    {
     "name": "stdout",
     "output_type": "stream",
     "text": [
      "build_count      128866.0\n",
      "pop_sum          1327956.5593264997\n",
      "m2               33752205420.41327\n"
     ]
    }
   ],
   "source": [
    "adm = gpd.GeoDataFrame.from_postgis('SELECT * from afg_admbnda_adm2_av_stats', con)\n",
    "print('build_count     ', adm.build.sum())\n",
    "print('pop_sum         ', adm.pop_sum.sum())\n",
    "print('m2              ', adm.m2.sum())"
   ]
  },
  {
   "cell_type": "code",
   "execution_count": 6,
   "id": "bfc0bc6b",
   "metadata": {},
   "outputs": [
    {
     "name": "stdout",
     "output_type": "stream",
     "text": [
      "build_count      128866\n",
      "pop_sum          1327956.7734375\n",
      "m2               33752205420.41314\n"
     ]
    }
   ],
   "source": [
    "adm = gpd.GeoDataFrame.from_postgis('SELECT * from afg_admbnda_region_av_stats', con)\n",
    "print('build_count     ', adm.build.sum())\n",
    "print('pop_sum         ', adm.pop_sum.sum())\n",
    "print('m2              ', adm.m2.sum())"
   ]
  },
  {
   "cell_type": "code",
   "execution_count": 7,
   "id": "449befe0",
   "metadata": {},
   "outputs": [],
   "source": [
    "zonal_stats = gpd.read_file(\"D:\\iMMAP\\proj\\ASDC\\data\\Avalanche-QA\\subset_zonalstats_v06.shp\")"
   ]
  },
  {
   "cell_type": "code",
   "execution_count": 8,
   "id": "48a1fb72",
   "metadata": {},
   "outputs": [
    {
     "data": {
      "text/plain": [
       "11384.583295929046"
      ]
     },
     "execution_count": 8,
     "metadata": {},
     "output_type": "execute_result"
    }
   ],
   "source": [
    "zonal_stats['_sum'].sum()"
   ]
  },
  {
   "cell_type": "code",
   "execution_count": 9,
   "id": "f38410c0",
   "metadata": {},
   "outputs": [
    {
     "data": {
      "text/plain": [
       "240861330"
      ]
     },
     "execution_count": 9,
     "metadata": {},
     "output_type": "execute_result"
    }
   ],
   "source": [
    "zonal_stats['area'].sum()"
   ]
  },
  {
   "cell_type": "markdown",
   "id": "a7f33fe2",
   "metadata": {},
   "source": [
    "### Landslide stats"
   ]
  },
  {
   "cell_type": "code",
   "execution_count": 24,
   "id": "030324d9",
   "metadata": {},
   "outputs": [
    {
     "name": "stdout",
     "output_type": "stream",
     "text": [
      "build_count 8385.0\n",
      "build_count all 715210.0\n",
      "pop_sum 31669716.91\n",
      "pop_sum - excluding 0 11924975.5\n",
      "area_km2 29877.370000000003\n"
     ]
    }
   ],
   "source": [
    "adm = gpd.GeoDataFrame.from_postgis('SELECT * from adm_stats_landslide', con)\n",
    "print('build_count', adm.build_ls_4.sum())\n",
    "print('build_count all', adm.loc[:, ['build_ls_1', 'build_ls_2', 'build_ls_3', 'build_ls_4']].sum().sum())\n",
    "print('pop_sum', adm.pop_sum.sum())\n",
    "print('pop_sum - excluding 0', adm.loc[:,['pop_1', 'pop_2', 'pop_3', 'pop_4', 'pop_5', 'pop_6', 'pop_7', 'pop_8']].sum().sum())\n",
    "print('area_km2', adm.km2_ls_4.sum())"
   ]
  },
  {
   "cell_type": "code",
   "execution_count": 25,
   "id": "bebe9729",
   "metadata": {},
   "outputs": [
    {
     "name": "stdout",
     "output_type": "stream",
     "text": [
      "build_count 8385.0\n",
      "build_count all 715210.0\n",
      "pop_sum 31669713.700000003\n",
      "pop_sum - excluding 0 11924975.49\n",
      "area_km2 29877.4\n"
     ]
    }
   ],
   "source": [
    "adm = gpd.GeoDataFrame.from_postgis('SELECT * from adm2_stats_landslide', con)\n",
    "print('build_count', adm.build_ls_4.sum())\n",
    "print('build_count all', adm.loc[:, ['build_ls_1', 'build_ls_2', 'build_ls_3', 'build_ls_4']].sum().sum())\n",
    "print('pop_sum', adm.pop_sum.sum())\n",
    "print('pop_sum - excluding 0', adm.loc[:,['pop_1', 'pop_2', 'pop_3', 'pop_4', 'pop_5', 'pop_6', 'pop_7', 'pop_8']].sum().sum())\n",
    "print('area_km2', adm.km2_ls_4.sum())"
   ]
  },
  {
   "cell_type": "code",
   "execution_count": 26,
   "id": "320ca96e",
   "metadata": {},
   "outputs": [
    {
     "name": "stdout",
     "output_type": "stream",
     "text": [
      "build_count 8385\n",
      "build_count all 715210.0\n",
      "pop_sum 31669724.07\n",
      "pop_sum - excluding 0 11924979.93\n",
      "area_km2 29877.4\n"
     ]
    }
   ],
   "source": [
    "adm = gpd.GeoDataFrame.from_postgis('SELECT * from region_stats_landslide', con)\n",
    "print('build_count', adm.build_ls_4.sum())\n",
    "print('build_count all', adm.loc[:, ['build_ls_1', 'build_ls_2', 'build_ls_3', 'build_ls_4']].sum().sum())\n",
    "print('pop_sum', adm.pop_sum.sum())\n",
    "print('pop_sum - excluding 0', adm.loc[:,['pop_1', 'pop_2', 'pop_3', 'pop_4', 'pop_5', 'pop_6', 'pop_7', 'pop_8']].sum().sum())\n",
    "print('area_km2', adm.km2_ls_4.sum())"
   ]
  },
  {
   "cell_type": "code",
   "execution_count": null,
   "id": "3262d38a",
   "metadata": {},
   "outputs": [],
   "source": []
  }
 ],
 "metadata": {
  "kernelspec": {
   "display_name": "Python 3 (ipykernel)",
   "language": "python",
   "name": "python3"
  },
  "language_info": {
   "codemirror_mode": {
    "name": "ipython",
    "version": 3
   },
   "file_extension": ".py",
   "mimetype": "text/x-python",
   "name": "python",
   "nbconvert_exporter": "python",
   "pygments_lexer": "ipython3",
   "version": "3.9.7"
  }
 },
 "nbformat": 4,
 "nbformat_minor": 5
}

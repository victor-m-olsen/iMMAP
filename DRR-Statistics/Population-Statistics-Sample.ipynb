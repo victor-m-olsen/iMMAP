{
 "cells": [
  {
   "cell_type": "code",
   "execution_count": null,
   "id": "da3de748",
   "metadata": {},
   "outputs": [],
   "source": [
    "import os\n",
    "import geopandas as gpd\n",
    "import pandas as pd\n",
    "import numpy as np\n",
    "import rasterio as rio\n",
    "from rasterio.plot import show\n",
    "import matplotlib.pyplot as plt\n",
    "import pyproj\n",
    "from matplotlib import pyplot\n",
    "import rioxarray as rxr\n",
    "from rasterstats import zonal_stats"
   ]
  },
  {
   "cell_type": "code",
   "execution_count": null,
   "id": "f1a71608",
   "metadata": {},
   "outputs": [],
   "source": [
    "os.chdir(r'D:\\iMMAP\\proj\\ASDC\\data\\pop_admin_layer')"
   ]
  },
  {
   "cell_type": "markdown",
   "id": "a169e9d3",
   "metadata": {},
   "source": [
    "## Preping and checking data"
   ]
  },
  {
   "cell_type": "code",
   "execution_count": null,
   "id": "5f5cc05b",
   "metadata": {},
   "outputs": [],
   "source": [
    "# Load data\n",
    "admin = gpd.read_file(r'input\\admin.shp').to_crs('ESRI:53034')\n",
    "sett = gpd.read_file(r'input\\pplp-sample-updated.shp').to_crs('ESRI:53034')\n",
    "build = gpd.read_file(r'input\\buildings-sample.shp').to_crs('ESRI:53034')\n",
    "lc = gpd.read_file(r'input\\land-cover-dis-sample.shp')\n",
    "pop = rio.open(r'process\\pop-sample-ESRI53034.tif', masked=True)"
   ]
  },
  {
   "cell_type": "code",
   "execution_count": null,
   "id": "c30f8f17",
   "metadata": {},
   "outputs": [],
   "source": [
    "# Reproject and save land cover\n",
    "lc.set_crs('EPSG:32642').to_crs('ESRI:53034').to_file(r'input\\land-cover-dis-sample-53034.shp')"
   ]
  },
  {
   "cell_type": "code",
   "execution_count": null,
   "id": "6f1bc370",
   "metadata": {},
   "outputs": [],
   "source": [
    "# Load reprojected land cover\n",
    "lc = gpd.read_file(r'input\\land-cover-dis-sample-53034.shp')"
   ]
  },
  {
   "cell_type": "code",
   "execution_count": null,
   "id": "d9acde26",
   "metadata": {},
   "outputs": [],
   "source": [
    "# View raster\n",
    "pyplot.imshow(pop.read(1), cmap='pink')"
   ]
  },
  {
   "cell_type": "code",
   "execution_count": null,
   "id": "4dc61926",
   "metadata": {},
   "outputs": [],
   "source": [
    "# View vector\n",
    "ax = admin.plot(edgecolor='red', linewidth=2)\n",
    "ax = sett.plot(ax=ax, color = 'yellow') #, facecolor='None', edgecolor='blue', linewidth=2)\n",
    "\n",
    "show((pop, 1), ax=ax)"
   ]
  },
  {
   "cell_type": "markdown",
   "id": "852c8b29",
   "metadata": {},
   "source": [
    "## Population"
   ]
  },
  {
   "cell_type": "code",
   "execution_count": null,
   "id": "05803e46",
   "metadata": {},
   "outputs": [],
   "source": [
    "# Read the raster values\n",
    "array = pop.read(1)\n",
    "\n",
    "# Get the affine\n",
    "affine = pop.transform"
   ]
  },
  {
   "cell_type": "code",
   "execution_count": null,
   "id": "ac9a548d",
   "metadata": {},
   "outputs": [],
   "source": [
    "# View histogram and statistics\n",
    "np.histogram(array, bins=100)\n",
    "\n",
    "df_describe = pd.DataFrame(array)\n",
    "df_describe.describe()"
   ]
  },
  {
   "cell_type": "code",
   "execution_count": null,
   "id": "19a739f5",
   "metadata": {},
   "outputs": [],
   "source": [
    "# Set negative values to nan\n",
    "array[(array < 0)] = np.nan\n",
    "\n",
    "# Check result\n",
    "df_describe = pd.DataFrame(array)\n",
    "df_describe.describe()"
   ]
  },
  {
   "cell_type": "code",
   "execution_count": null,
   "id": "623f0888",
   "metadata": {},
   "outputs": [],
   "source": [
    "# Calculate zonal statistics\n",
    "pop_dictionaries = zonal_stats(admin, array, affine=affine, stats=['sum'])\n",
    "\n",
    "# Confert dictionaries to list of values\n",
    "list_of_values = []\n",
    "for i in range(len(pop_dictionaries)):\n",
    "    list_of_values.append(list(pop_dictionaries[i].values())[0])\n",
    "\n",
    "#print(pop_dictionaries)\n",
    "#print(list_of_values)"
   ]
  },
  {
   "cell_type": "code",
   "execution_count": null,
   "id": "67694d6e",
   "metadata": {},
   "outputs": [],
   "source": [
    "# Adding pop_sum values to admin polygons\n",
    "admin['pop_sum'] = list_of_values"
   ]
  },
  {
   "cell_type": "markdown",
   "id": "65a26ba5",
   "metadata": {},
   "source": [
    "## Area"
   ]
  },
  {
   "cell_type": "code",
   "execution_count": null,
   "id": "0e66a215",
   "metadata": {},
   "outputs": [],
   "source": [
    "# Calculating area and converting from square m to square km\n",
    "admin['area_km2'] = admin['geometry'].area.div(1000000)"
   ]
  },
  {
   "cell_type": "markdown",
   "id": "34ab06af",
   "metadata": {},
   "source": [
    "## Settlements"
   ]
  },
  {
   "cell_type": "code",
   "execution_count": null,
   "id": "89154b16",
   "metadata": {},
   "outputs": [],
   "source": [
    "# Join settlements to admin areas\n",
    "joined_df = gpd.sjoin(\n",
    "    sett,\n",
    "    admin,\n",
    "    how='inner',\n",
    "    op='intersects',\n",
    ")\n",
    "\n",
    "# Count number of settlement within admin polygons\n",
    "sett_count = joined_df.groupby(\n",
    "    ['ADM2_PCODE'],\n",
    "    as_index=False,\n",
    ")['vuid'].count() # vuid is arbitrary, we just count the rows\n",
    "\n",
    "# Change column name to sett_count\n",
    "sett_count.rename(columns = {'vuid': 'sett_count'}, inplace = True)\n",
    "\n",
    "# QA Check - if any admin areas have no settlements\n",
    "sett_count.isnull().sum()\n",
    "\n",
    "# View results\n",
    "sett_count"
   ]
  },
  {
   "cell_type": "code",
   "execution_count": null,
   "id": "d890601b",
   "metadata": {},
   "outputs": [],
   "source": [
    "# Merge sett count back on to admin dataset\n",
    "admin = admin.merge(\n",
    "    sett_count, \n",
    "    on='ADM2_PCODE', \n",
    "    how='left')\n",
    "\n",
    "admin"
   ]
  },
  {
   "cell_type": "markdown",
   "id": "2872c09a",
   "metadata": {},
   "source": [
    "## Buildings"
   ]
  },
  {
   "cell_type": "code",
   "execution_count": null,
   "id": "dac7eb86",
   "metadata": {},
   "outputs": [],
   "source": [
    "# Convert building polygons to centroid points\n",
    "\n",
    "# Convert building geodataframe to geoseries\n",
    "build_centroids = build.geometry\n",
    "\n",
    "# Create a geoseries with just the centroids\n",
    "build_centroids = build_centroids.centroid\n",
    "\n",
    "# Convert geoseries to geodataframe\n",
    "build_centroids= gpd.GeoDataFrame(build_centroids)\n",
    "\n",
    "# Rename column\n",
    "build_centroids.rename(columns = {0: 'geo'}, inplace = True)\n",
    "\n",
    "# Setting geometry columns specifically\n",
    "build_centroids.geometry = build_centroids['geo']"
   ]
  },
  {
   "cell_type": "code",
   "execution_count": null,
   "id": "b3971001",
   "metadata": {},
   "outputs": [],
   "source": [
    "# Join building to admin areas\n",
    "joined_df = gpd.sjoin(\n",
    "    build_centroids,\n",
    "    admin,\n",
    "    how='inner',\n",
    "    op='intersects'\n",
    ")\n",
    "\n",
    "# Count number of buildings within admin polygons\n",
    "build_count = joined_df.groupby(\n",
    "    ['ADM2_PCODE'],\n",
    "    as_index=False,\n",
    ")['geo'].count() # vuid is arbitrary, we just count the rows\n",
    "\n",
    "\n",
    "# Change column name to build_count\n",
    "build_count.rename(columns = {'geo': 'build_count'}, inplace = True)\n",
    "\n",
    "# QA Check - if any admin areas have no buildings\n",
    "build_count.isnull().sum()\n",
    "\n",
    "# View results\n",
    "build_count"
   ]
  },
  {
   "cell_type": "code",
   "execution_count": null,
   "id": "a503dbb0",
   "metadata": {},
   "outputs": [],
   "source": [
    "# Merge build count back on to admin dataset\n",
    "admin = admin.merge(\n",
    "    build_count, \n",
    "    on='ADM2_PCODE', \n",
    "    how='left')"
   ]
  },
  {
   "cell_type": "markdown",
   "id": "cf18511d",
   "metadata": {},
   "source": [
    "## Population Density"
   ]
  },
  {
   "cell_type": "code",
   "execution_count": null,
   "id": "2099545f",
   "metadata": {},
   "outputs": [],
   "source": [
    "# Calculate population density\n",
    "admin['pop_density'] = admin['pop_sum'] / admin['area_km2']\n",
    "\n",
    "# Calculate people per building\n",
    "admin['people_building'] = admin['pop_sum'] / admin['build_count']\n",
    "\n",
    "admin"
   ]
  },
  {
   "cell_type": "markdown",
   "id": "08d69d23",
   "metadata": {},
   "source": [
    "## Land Cover (to be added later)"
   ]
  },
  {
   "cell_type": "code",
   "execution_count": null,
   "id": "d176603b",
   "metadata": {},
   "outputs": [],
   "source": [
    "# Get unique LC values\n",
    "lc.agg_simpli.unique()"
   ]
  },
  {
   "cell_type": "code",
   "execution_count": null,
   "id": "cfc438a3",
   "metadata": {},
   "outputs": [],
   "source": [
    "# Calculate area\n",
    "# lc['area_m2'] = lc['geometry'].area"
   ]
  },
  {
   "cell_type": "markdown",
   "id": "02059fe4",
   "metadata": {},
   "source": [
    "## Export results"
   ]
  },
  {
   "cell_type": "code",
   "execution_count": null,
   "id": "6cf32245",
   "metadata": {},
   "outputs": [],
   "source": [
    "admin.to_file(r'output/pop_adm.shp')"
   ]
  }
 ],
 "metadata": {
  "kernelspec": {
   "display_name": "Python 3 (ipykernel)",
   "language": "python",
   "name": "python3"
  },
  "language_info": {
   "codemirror_mode": {
    "name": "ipython",
    "version": 3
   },
   "file_extension": ".py",
   "mimetype": "text/x-python",
   "name": "python",
   "nbconvert_exporter": "python",
   "pygments_lexer": "ipython3",
   "version": "3.8.12"
  }
 },
 "nbformat": 4,
 "nbformat_minor": 5
}

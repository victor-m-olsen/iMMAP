{
 "cells": [
  {
   "cell_type": "code",
   "execution_count": 2,
   "id": "da3de748",
   "metadata": {},
   "outputs": [],
   "source": [
    "import rioxarray as rxr\n",
    "from rasterio.crs import CRS"
   ]
  },
  {
   "cell_type": "code",
   "execution_count": 7,
   "id": "a8e9e455",
   "metadata": {},
   "outputs": [],
   "source": [
    "# Define projection\n",
    "repro_crs = '+proj=cea'"
   ]
  },
  {
   "cell_type": "code",
   "execution_count": 16,
   "id": "7d502848",
   "metadata": {},
   "outputs": [],
   "source": [
    "# Reprojecting pop\n",
    "pop_path = r'D:\\iMMAP\\data\\Afghanistan\\afg_worldpop_2020_UNadj_unconstrained.tif'\n",
    "pop_path_cea = r'D:\\iMMAP\\data\\Afghanistan\\afg_worldpop_2020_UNadj_unconstrained_projCEA.tif'\n",
    "\n",
    "pop = rxr.open_rasterio(pop_path, masked=True).squeeze()\n",
    "    \n",
    "crs_ref = gpd.GeoDataFrame.from_postgis('afg_admbnda_adm2', con).to_crs(repro_crs)\n",
    "\n",
    "crs_ref.crs\n",
    "pop.rio.crs\n",
    "\n",
    "# Reproject to match admin crs\n",
    "pop_repro = pop.rio.reproject(crs_ref.crs)\n",
    "\n",
    "# Save to file\n",
    "pop_repro.rio.to_raster(pop_path_cea)\n"
   ]
  }
 ],
 "metadata": {
  "kernelspec": {
   "display_name": "Python 3 (ipykernel)",
   "language": "python",
   "name": "python3"
  },
  "language_info": {
   "codemirror_mode": {
    "name": "ipython",
    "version": 3
   },
   "file_extension": ".py",
   "mimetype": "text/x-python",
   "name": "python",
   "nbconvert_exporter": "python",
   "pygments_lexer": "ipython3",
   "version": "3.8.12"
  }
 },
 "nbformat": 4,
 "nbformat_minor": 5
}

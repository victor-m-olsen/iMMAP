{
 "cells": [
  {
   "cell_type": "code",
   "execution_count": null,
   "id": "42d17446",
   "metadata": {},
   "outputs": [],
   "source": [
    "import geopandas as gpd\n",
    "from geopandas.tools import sjoin\n",
    "import pandas as pd\n",
    "import os\n",
    "import matplotlib.pyplot as plt\n",
    "from matplotlib import pyplot"
   ]
  },
  {
   "cell_type": "code",
   "execution_count": null,
   "id": "7ce4a3be",
   "metadata": {},
   "outputs": [],
   "source": [
    "os.chdir('D:\\iMMAP\\proj\\ASDC\\data\\OCHA-Received\\\\')"
   ]
  },
  {
   "cell_type": "code",
   "execution_count": null,
   "id": "23a68f8f",
   "metadata": {},
   "outputs": [],
   "source": [
    "afg = gpd.read_file(r\"D:\\iMMAP\\data\\Afghanistan\\AFG_AdminBoundaries_AGCHO_20211117\\Shapefiles\\afg_admbnda_adm0_agcho_20211117.shp\")"
   ]
  },
  {
   "cell_type": "code",
   "execution_count": null,
   "id": "f2a903cf",
   "metadata": {},
   "outputs": [],
   "source": [
    "panda_df = pd.read_csv('airports.csv', delimiter=',', decimal='.')"
   ]
  },
  {
   "cell_type": "code",
   "execution_count": null,
   "id": "d391c993",
   "metadata": {},
   "outputs": [],
   "source": [
    "points = gpd.GeoDataFrame(\n",
    "    panda_df, geometry=gpd.points_from_xy(panda_df.longitude_deg, panda_df.latitude_deg))"
   ]
  },
  {
   "cell_type": "code",
   "execution_count": null,
   "id": "b4c155e6",
   "metadata": {},
   "outputs": [],
   "source": [
    "points = points.set_crs('epsg:4326')\n",
    "points.crs"
   ]
  },
  {
   "cell_type": "code",
   "execution_count": null,
   "id": "901b198f",
   "metadata": {},
   "outputs": [],
   "source": [
    "afg.to_crs('epsg:4326')\n",
    "afg.crs"
   ]
  },
  {
   "cell_type": "code",
   "execution_count": null,
   "id": "7dccb85e",
   "metadata": {},
   "outputs": [],
   "source": [
    "# View vector\n",
    "fig, ax = plt.subplots(figsize=(14, 6))\n",
    "points.plot(ax=ax)\n",
    "afg.plot(ax=ax, color='green')\n",
    "plt.show()"
   ]
  },
  {
   "cell_type": "code",
   "execution_count": null,
   "id": "8d818dc7",
   "metadata": {},
   "outputs": [],
   "source": [
    "afg_buffer = afg.to_crs('EPSG:3857').buffer(10000).to_crs('EPSG:4326')"
   ]
  },
  {
   "cell_type": "code",
   "execution_count": null,
   "id": "e1a3f5c5",
   "metadata": {},
   "outputs": [],
   "source": [
    "points_afg = gpd.clip(points, afg_buffer)"
   ]
  },
  {
   "cell_type": "code",
   "execution_count": null,
   "id": "372d61a4",
   "metadata": {},
   "outputs": [],
   "source": [
    "fig, ax = plt.subplots(figsize=(14, 6))\n",
    "afg.plot(ax=ax, color='green')\n",
    "points_afg.plot(ax=ax, color='red')\n",
    "plt.show()"
   ]
  },
  {
   "cell_type": "code",
   "execution_count": null,
   "id": "671600b7",
   "metadata": {},
   "outputs": [],
   "source": [
    "points_afg.to_file('ourairports_afg.shp')"
   ]
  }
 ],
 "metadata": {
  "kernelspec": {
   "display_name": "Python 3 (ipykernel)",
   "language": "python",
   "name": "python3"
  },
  "language_info": {
   "codemirror_mode": {
    "name": "ipython",
    "version": 3
   },
   "file_extension": ".py",
   "mimetype": "text/x-python",
   "name": "python",
   "nbconvert_exporter": "python",
   "pygments_lexer": "ipython3",
   "version": "3.8.12"
  }
 },
 "nbformat": 4,
 "nbformat_minor": 5
}

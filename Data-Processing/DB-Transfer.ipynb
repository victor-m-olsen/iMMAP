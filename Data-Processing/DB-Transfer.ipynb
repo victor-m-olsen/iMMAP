{
 "cells": [
  {
   "cell_type": "code",
   "execution_count": 1,
   "id": "da3de748",
   "metadata": {},
   "outputs": [],
   "source": [
    "import geopandas as gpd\n",
    "from sqlalchemy import create_engine\n",
    "import psycopg2"
   ]
  },
  {
   "cell_type": "code",
   "execution_count": 2,
   "id": "413eda2d",
   "metadata": {},
   "outputs": [],
   "source": [
    "table_name = 'afg_avsa'\n",
    "geometry_column = 'wkb_geometry' #wkb_geometry geom"
   ]
  },
  {
   "cell_type": "markdown",
   "id": "81bf1926",
   "metadata": {},
   "source": [
    "### Connect to local"
   ]
  },
  {
   "cell_type": "code",
   "execution_count": 3,
   "id": "e2d5e8d6",
   "metadata": {},
   "outputs": [],
   "source": [
    "# Local config\n",
    "# Load database configuration from file\n",
    "with open(r'D:\\iMMAP\\code\\db_config\\hsdc_local_db_config.json', 'r') as f:\n",
    "    config = json.load(f)\n",
    "\n",
    "# Create database URL with credentials\n",
    "db_url = f\"postgresql://{config['username']}:{config['password']}@{config['host']}:{config['port']}/{config['database']}\"\n",
    "\n",
    "# Connect to the database\n",
    "con = create_engine(db_url)"
   ]
  },
  {
   "cell_type": "code",
   "execution_count": 4,
   "id": "fcd6f20d",
   "metadata": {},
   "outputs": [],
   "source": [
    "# Server config\n",
    "# Load database configuration from file\n",
    "with open(r'D:\\iMMAP\\code\\db_config\\hsdc_live_db_config.json', 'r') as f:\n",
    "    config = json.load(f)\n",
    "\n",
    "# Create database URL with credentials\n",
    "db_url = f\"postgresql://{config['username']}:{config['password']}@{config['host']}:{config['port']}/{config['database']}\"\n",
    "\n",
    "# Connect to the database\n",
    "con_hsdc = create_engine(db_url)"
   ]
  },
  {
   "cell_type": "code",
   "execution_count": 5,
   "id": "3d6b8e37",
   "metadata": {},
   "outputs": [],
   "source": [
    "# Open local table\n",
    "local_table = gpd.GeoDataFrame.from_postgis('SELECT * from {}'.format(table_name), con, geometry_column)"
   ]
  },
  {
   "cell_type": "code",
   "execution_count": 6,
   "id": "6d1d456a",
   "metadata": {},
   "outputs": [],
   "source": [
    "# Save to hsdc\n",
    "local_table.to_postgis(table_name, con_hsdc) # , if_exists='replace'"
   ]
  }
 ],
 "metadata": {
  "kernelspec": {
   "display_name": "Python 3 (ipykernel)",
   "language": "python",
   "name": "python3"
  },
  "language_info": {
   "codemirror_mode": {
    "name": "ipython",
    "version": 3
   },
   "file_extension": ".py",
   "mimetype": "text/x-python",
   "name": "python",
   "nbconvert_exporter": "python",
   "pygments_lexer": "ipython3",
   "version": "3.8.12"
  }
 },
 "nbformat": 4,
 "nbformat_minor": 5
}

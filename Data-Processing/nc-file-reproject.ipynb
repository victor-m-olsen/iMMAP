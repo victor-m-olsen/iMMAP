{
 "cells": [
  {
   "cell_type": "code",
   "execution_count": 6,
   "id": "bdd1221d",
   "metadata": {},
   "outputs": [],
   "source": [
    "import numpy as np\n",
    "# netCDF4 needs to be installed in your environment for this to work\n",
    "import xarray as xr\n",
    "import rioxarray as rio"
   ]
  },
  {
   "cell_type": "code",
   "execution_count": null,
   "id": "703e0edb",
   "metadata": {},
   "outputs": [],
   "source": [
    "nc_path = r\"C:\\Users\\VMO\\Downloads\\VHP.G04.C07.npp.P2015001.SM.nc\""
   ]
  },
  {
   "cell_type": "code",
   "execution_count": null,
   "id": "2ed3a523",
   "metadata": {
    "scrolled": true
   },
   "outputs": [],
   "source": [
    "# Open as xarray\n",
    "ds  = xr.open_dataset(nc_path)\n",
    "ds"
   ]
  },
  {
   "cell_type": "code",
   "execution_count": null,
   "id": "f77727af",
   "metadata": {},
   "outputs": [],
   "source": [
    "# Check if 'lat' and 'lon' already exist in the dataset and rename them if necessary\n",
    "if 'lat' in ds:\n",
    "    ds = ds.rename({'lat': 'lat_old'})\n",
    "if 'lon' in ds:\n",
    "    ds = ds.rename({'lon': 'lon_old'})\n",
    "\n",
    "# Generate the latitude and longitude values\n",
    "lat_values = np.linspace(75.024, -55.152, ds.dims['ny'])\n",
    "lon_values = np.linspace(-180.0, 180.0, ds.dims['nx'])\n",
    "\n",
    "# Assign these coordinates to the dataset\n",
    "ds = ds.assign_coords(lat=('ny', lat_values), lon=('nx', lon_values))\n",
    "ds = ds.swap_dims({'ny': 'lat', 'nx': 'lon'})\n",
    "\n",
    "# Now proceed with flipping and scaling steps"
   ]
  },
  {
   "cell_type": "code",
   "execution_count": null,
   "id": "96146c5c",
   "metadata": {},
   "outputs": [],
   "source": [
    "ds = ds.reindex(lat=list(reversed(ds['lat'])))"
   ]
  },
  {
   "cell_type": "code",
   "execution_count": null,
   "id": "9685e7a7",
   "metadata": {},
   "outputs": [],
   "source": [
    "for var in ds.data_vars:\n",
    "    attrs = ds[var].attrs\n",
    "    if 'add_offset' in attrs and 'scale_factor' in attrs:\n",
    "        scaled_integer = ds[var]\n",
    "        add_offset = attrs['add_offset']\n",
    "        scale_factor = attrs['scale_factor']\n",
    "        ds[var] = (scaled_integer - add_offset) * scale_factor\n",
    "    else:\n",
    "        print(f\"{var} does not have both 'add_offset' and 'scale_factor' attributes.\")"
   ]
  },
  {
   "cell_type": "code",
   "execution_count": null,
   "id": "833a0baf",
   "metadata": {},
   "outputs": [],
   "source": [
    "\n",
    "# Extract the SMN variable from the dataset\n",
    "smn_data = ds['SMN']\n",
    "\n",
    "# Set spatial dimensions, CRS, and save to GeoTIFF\n",
    "smn_data.rio.set_spatial_dims(x_dim=\"lon\", y_dim=\"lat\", inplace=True)\n",
    "smn_data.rio.write_crs(\"EPSG:4326\", inplace=True)\n",
    "output_file_path_smn = r\"C:\\Users\\VMO\\Desktop\\output_filename_smn.tif\"\n",
    "smn_data.rio.to_raster(output_file_path_smn)\n"
   ]
  },
  {
   "cell_type": "code",
   "execution_count": null,
   "id": "f6808f6b",
   "metadata": {},
   "outputs": [],
   "source": [
    "\n",
    "# Extract the SMN variable from the dataset\n",
    "smt_data = ds['SMT']\n",
    "\n",
    "# Set spatial dimensions, CRS, and save to GeoTIFF\n",
    "smt_data.rio.set_spatial_dims(x_dim=\"lon\", y_dim=\"lat\", inplace=True)\n",
    "smt_data.rio.write_crs(\"EPSG:4326\", inplace=True)\n",
    "output_file_path_smt = r\"C:\\Users\\VMO\\Desktop\\output_filename_smt.tif\"\n",
    "smt_data.rio.to_raster(output_file_path_smt)"
   ]
  },
  {
   "cell_type": "code",
   "execution_count": 8,
   "id": "6834496e",
   "metadata": {},
   "outputs": [
    {
     "ename": "AttributeError",
     "evalue": "module 'rioxarray' has no attribute 'open'",
     "output_type": "error",
     "traceback": [
      "\u001b[1;31m---------------------------------------------------------------------------\u001b[0m",
      "\u001b[1;31mAttributeError\u001b[0m                            Traceback (most recent call last)",
      "\u001b[1;32md:\\nc-file-reproject.ipynb Cell 9\u001b[0m in \u001b[0;36m<cell line: 2>\u001b[1;34m()\u001b[0m\n\u001b[0;32m      <a href='vscode-notebook-cell:/d%3A/nc-file-reproject.ipynb#X11sZmlsZQ%3D%3D?line=0'>1</a>\u001b[0m \u001b[39m# Step 1: Read the raster data\u001b[39;00m\n\u001b[1;32m----> <a href='vscode-notebook-cell:/d%3A/nc-file-reproject.ipynb#X11sZmlsZQ%3D%3D?line=1'>2</a>\u001b[0m \u001b[39mwith\u001b[39;00m rio\u001b[39m.\u001b[39;49mopen(\u001b[39mr\u001b[39m\u001b[39m'\u001b[39m\u001b[39mC:\u001b[39m\u001b[39m\\\u001b[39m\u001b[39mUsers\u001b[39m\u001b[39m\\\u001b[39m\u001b[39mVMO\u001b[39m\u001b[39m\\\u001b[39m\u001b[39mDesktop\u001b[39m\u001b[39m\\\u001b[39m\u001b[39moutput_filename_smt.tif\u001b[39m\u001b[39m'\u001b[39m, \u001b[39m'\u001b[39m\u001b[39mr\u001b[39m\u001b[39m'\u001b[39m) \u001b[39mas\u001b[39;00m src:\n\u001b[0;32m      <a href='vscode-notebook-cell:/d%3A/nc-file-reproject.ipynb#X11sZmlsZQ%3D%3D?line=2'>3</a>\u001b[0m     \u001b[39m# Read the data\u001b[39;00m\n\u001b[0;32m      <a href='vscode-notebook-cell:/d%3A/nc-file-reproject.ipynb#X11sZmlsZQ%3D%3D?line=3'>4</a>\u001b[0m     data \u001b[39m=\u001b[39m src\u001b[39m.\u001b[39mread(\u001b[39m1\u001b[39m)  \u001b[39m# assuming you're reading the first band; adjust as necessary\u001b[39;00m\n\u001b[0;32m      <a href='vscode-notebook-cell:/d%3A/nc-file-reproject.ipynb#X11sZmlsZQ%3D%3D?line=5'>6</a>\u001b[0m     \u001b[39m# Step 2: Scale the data\u001b[39;00m\n",
      "\u001b[1;31mAttributeError\u001b[0m: module 'rioxarray' has no attribute 'open'"
     ]
    }
   ],
   "source": [
    "# Step 1: Read the raster data\n",
    "with rio.open(r'C:\\Users\\VMO\\Desktop\\output_filename_smt.tif', 'r') as src:\n",
    "    # Read the data\n",
    "    data = src.read(1)  # assuming you're reading the first band; adjust as necessary\n",
    "    \n",
    "    # Step 2: Scale the data\n",
    "    data = data / 1000.0\n",
    "    \n",
    "    # Set up the metadata for writing\n",
    "    out_meta = src.meta.copy()\n",
    "    \n",
    "    # Step 3: Save the scaled data to a new raster file\n",
    "    with rio.open(r'C:\\Users\\VMO\\Desktop\\output_filename_smt_scaled.tif', 'w', **out_meta) as dest:\n",
    "        dest.write(data, 1)  # writing the scaled data to the first band"
   ]
  },
  {
   "cell_type": "code",
   "execution_count": null,
   "id": "bd72ccac",
   "metadata": {},
   "outputs": [],
   "source": []
  }
 ],
 "metadata": {
  "kernelspec": {
   "display_name": "Python 3 (ipykernel)",
   "language": "python",
   "name": "python3"
  },
  "language_info": {
   "codemirror_mode": {
    "name": "ipython",
    "version": 3
   },
   "file_extension": ".py",
   "mimetype": "text/x-python",
   "name": "python",
   "nbconvert_exporter": "python",
   "pygments_lexer": "ipython3",
   "version": "3.8.12"
  }
 },
 "nbformat": 4,
 "nbformat_minor": 5
}

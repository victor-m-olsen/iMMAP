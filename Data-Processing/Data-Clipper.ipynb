{
 "cells": [
  {
   "cell_type": "code",
   "execution_count": null,
   "id": "a064a03c",
   "metadata": {},
   "outputs": [],
   "source": [
    "# Create subset of the data for quicker testing"
   ]
  },
  {
   "cell_type": "code",
   "execution_count": 12,
   "id": "da3de748",
   "metadata": {},
   "outputs": [],
   "source": [
    "import os\n",
    "import json\n",
    "import geopandas as gpd\n",
    "import pandas as pd\n",
    "from sqlalchemy import create_engine\n",
    "import psycopg2 # required for exporting to postgis\n",
    "import rioxarray as rxr\n",
    "from rasterio.crs import CRS\n",
    "from sqlalchemy import create_engine\n",
    "import rasterstats"
   ]
  },
  {
   "cell_type": "code",
   "execution_count": 13,
   "id": "e2d5e8d6",
   "metadata": {},
   "outputs": [],
   "source": [
    "# Load database configuration from file\n",
    "with open(r'D:\\iMMAP\\code\\db_config\\hsdc_local_db_config.json', 'r') as f:\n",
    "    config = json.load(f)\n",
    "\n",
    "# Create database URL with credentials\n",
    "db_url = f\"postgresql://{config['username']}:{config['password']}@{config['host']}:{config['port']}/{config['database']}\"\n",
    "\n",
    "# Connect to the database\n",
    "con = create_engine(db_url)"
   ]
  },
  {
   "cell_type": "code",
   "execution_count": 14,
   "id": "19828fca",
   "metadata": {},
   "outputs": [],
   "source": [
    "pd.set_option('display.max_columns', None)"
   ]
  },
  {
   "cell_type": "code",
   "execution_count": 15,
   "id": "896de1eb",
   "metadata": {},
   "outputs": [],
   "source": [
    "# Original dataset table names\n",
    "admin_list = [\n",
    "    'afg_admbnda_adm2',\n",
    "    'afg_admbnda_adm1',\n",
    "    'afg_admbnda_region'\n",
    "]\n",
    "\n",
    "flood_list = [\n",
    "    'afg_fldzonea_100k_ncia_v2_029cm_dissolve_all_v2',\n",
    "    'afg_fldzonea_100k_ncia_v2_121cm_dissolve_all_v2',\n",
    "    'afg_fldzonea_100k_ncia_v2_271cm_dissolve_all_v2'\n",
    "]\n",
    "\n",
    "avalanche_list = [\n",
    "    'afg_avsa_clean_dissolve'\n",
    "]\n",
    "\n",
    "# Clip extent to clip by \n",
    "clip_extent = gpd.read_file(r'D:\\iMMAP\\proj\\ASDC\\data\\Flood\\clip_extent.shp')"
   ]
  },
  {
   "cell_type": "code",
   "execution_count": 16,
   "id": "0dd4e044",
   "metadata": {},
   "outputs": [],
   "source": [
    "# Looping over datasets, clips and saves new datasets with _testClip added to table name\n",
    "def clip(adm, flood):\n",
    "    flood = adm.clip(flood)\n",
    "    return flood\n",
    "\n",
    "def AOI_clipper(dataset_list, clip_extent, db_con, geometry_column_label):\n",
    "    for i in range(len(dataset_list)):\n",
    "        dataset = gpd.GeoDataFrame.from_postgis('SELECT * from {}'.format(dataset_list[i]), db_con, geometry_column_label)\n",
    "        dataset_clipped = clip(dataset, clip_extent)\n",
    "        dataset_clipped = dataset_clipped.explode() # converting all multipolygons to polygons \n",
    "        dataset_clipped.to_postgis('{}_testclip'.format(dataset_list[i]), db_con, if_exists='replace')\n",
    "        print('{}_testClip - Saved to db'.format(dataset_list[i]))                     "
   ]
  },
  {
   "cell_type": "code",
   "execution_count": 17,
   "id": "302362e8",
   "metadata": {},
   "outputs": [
    {
     "name": "stderr",
     "output_type": "stream",
     "text": [
      "C:\\Users\\VMO\\AppData\\Local\\Temp\\ipykernel_18384\\2283473243.py:10: FutureWarning: Currently, index_parts defaults to True, but in the future, it will default to False to be consistent with Pandas. Use `index_parts=True` to keep the current behavior and True/False to silence the warning.\n",
      "  dataset_clipped = dataset_clipped.explode() # converting all multipolygons to polygons\n"
     ]
    },
    {
     "name": "stdout",
     "output_type": "stream",
     "text": [
      "afg_avsa_clean_dissolve_testClip - Saved to db\n"
     ]
    }
   ],
   "source": [
    "# Run \n",
    "#AOI_clipper(admin_list, clip_extent, con, 'geom')\n",
    "#AOI_clipper(flood_list, clip_extent, con, 'wkb_geometry')\n",
    "AOI_clipper(avalanche_list, clip_extent, con, 'wkb_geometry')"
   ]
  },
  {
   "cell_type": "code",
   "execution_count": null,
   "id": "1e07542b",
   "metadata": {},
   "outputs": [],
   "source": []
  }
 ],
 "metadata": {
  "kernelspec": {
   "display_name": "Python 3 (ipykernel)",
   "language": "python",
   "name": "python3"
  },
  "language_info": {
   "codemirror_mode": {
    "name": "ipython",
    "version": 3
   },
   "file_extension": ".py",
   "mimetype": "text/x-python",
   "name": "python",
   "nbconvert_exporter": "python",
   "pygments_lexer": "ipython3",
   "version": "3.8.12"
  }
 },
 "nbformat": 4,
 "nbformat_minor": 5
}

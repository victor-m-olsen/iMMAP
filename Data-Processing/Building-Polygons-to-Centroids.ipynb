{
 "cells": [
  {
   "cell_type": "code",
   "execution_count": 1,
   "id": "d0c8376d",
   "metadata": {},
   "outputs": [],
   "source": [
    "import json\n",
    "import geopandas as gpd\n",
    "import numpy as np\n",
    "import psycopg2\n",
    "from sqlalchemy import create_engine"
   ]
  },
  {
   "cell_type": "code",
   "execution_count": 2,
   "id": "78759645",
   "metadata": {},
   "outputs": [],
   "source": [
    "# Load database configuration from file\n",
    "with open(r'D:\\iMMAP\\code\\db_config\\hsdc_local_db_config.json', 'r') as f:\n",
    "    config = json.load(f)\n",
    "\n",
    "# Create database URL with credentials\n",
    "db_url = f\"postgresql://{config['username']}:{config['password']}@{config['host']}:{config['port']}/{config['database']}\"\n",
    "\n",
    "# Connect to the database\n",
    "con = create_engine(db_url)"
   ]
  },
  {
   "cell_type": "code",
   "execution_count": 3,
   "id": "81641ce7",
   "metadata": {},
   "outputs": [],
   "source": [
    "repro_crs = '+proj=cea'"
   ]
  },
  {
   "cell_type": "code",
   "execution_count": 4,
   "id": "240fd989",
   "metadata": {},
   "outputs": [],
   "source": [
    "build = gpd.GeoDataFrame.from_postgis('SELECT * from afg_buildings_microsoft', con)\n",
    "\n",
    "#build = gpd.read_file(r'D:\\iMMAP\\proj\\ASDC\\data\\Flood\\build-sample-large-v2.shp')"
   ]
  },
  {
   "cell_type": "code",
   "execution_count": 5,
   "id": "68a672a0",
   "metadata": {},
   "outputs": [],
   "source": [
    "# Reproject to a CRS\n",
    "build = build.to_crs(repro_crs)"
   ]
  },
  {
   "cell_type": "code",
   "execution_count": 6,
   "id": "bc9ab544",
   "metadata": {},
   "outputs": [],
   "source": [
    "### Convert building polygons to centroid points\n",
    "\n",
    "# Convert building geodataframe to geoseries\n",
    "build_centroids = build.geometry\n",
    "\n",
    "# Create a geoseries with just the centroids\n",
    "build_centroids = build_centroids.centroid\n",
    "\n",
    "# Convert geoseries to geodataframe\n",
    "build_centroids = gpd.GeoDataFrame(build_centroids)"
   ]
  },
  {
   "cell_type": "code",
   "execution_count": 7,
   "id": "5b3df2db",
   "metadata": {},
   "outputs": [],
   "source": [
    "# Rename and set geometry column\n",
    "build_centroids.rename(columns = {'geometry': 'geom'}, inplace = True)\n",
    "build_centroids.rename(columns = {0: 'geom'}, inplace = True)\n",
    "build_centroids = build_centroids.set_geometry(\"geom\")"
   ]
  },
  {
   "cell_type": "code",
   "execution_count": 8,
   "id": "60dca536",
   "metadata": {},
   "outputs": [],
   "source": [
    "# Reproject back to 4326\n",
    "build_centroids = build_centroids.to_crs('epsg:4326')"
   ]
  },
  {
   "cell_type": "code",
   "execution_count": 9,
   "id": "a0e97461",
   "metadata": {},
   "outputs": [],
   "source": [
    "build_centroids.to_postgis(\"afg_buildings_microsoft_centroids\", con)"
   ]
  }
 ],
 "metadata": {
  "kernelspec": {
   "display_name": "Python 3 (ipykernel)",
   "language": "python",
   "name": "python3"
  },
  "language_info": {
   "codemirror_mode": {
    "name": "ipython",
    "version": 3
   },
   "file_extension": ".py",
   "mimetype": "text/x-python",
   "name": "python",
   "nbconvert_exporter": "python",
   "pygments_lexer": "ipython3",
   "version": "3.8.12"
  }
 },
 "nbformat": 4,
 "nbformat_minor": 5
}
